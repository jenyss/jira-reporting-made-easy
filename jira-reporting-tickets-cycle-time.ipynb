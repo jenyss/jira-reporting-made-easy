{
 "cells": [
  {
   "cell_type": "markdown",
   "id": "c72fa100-b649-4345-ace7-048dd242a55c",
   "metadata": {},
   "source": [
    "<h1 style=\"text-align: center;\">Jira Reporting Made Easy</h1>\n",
    "<p style=\"text-align: center;\"><em>Powered by Google ADK &amp; Atlassian MCP</em></p>\n",
    "\n",
    "**This agent analyzes JIRA ticket cycle times and state workflow transitions through interactive visualizations.** It processes individual ticket changelogs to extract state transitions with timestamps, then generates Sankey diagrams, histograms, and bar charts to reveal workflow patterns and bottlenecks. \n",
    "\n",
    "The agent works with any JIRA instance and is perfect for product managers, engineering leads, and process improvement teams who need data-driven insights into their development workflows.\n",
    "\n",
    "### Key Features\n",
    "\n",
    "* Sankey Flow Diagrams - Visual workflow paths showing ticket movement between states\n",
    "* State Time Histograms - Distribution analysis for cycle time spent in specific states\n",
    "* Comparative Bar Charts - Total time analysis across all workflow states\n",
    "* Bottleneck Detection - Automated identification of slow-moving tickets and process inefficiencies\n",
    "* Data Validation - Built-in checks for impossible transitions and date inconsistencies"
   ]
  },
  {
   "cell_type": "markdown",
   "id": "38e5a121-c6a6-4970-9bbd-fce42b7c06a4",
   "metadata": {},
   "source": [
    "### Prerequisites\n",
    "To run the JIRA Ticket Cycle Time & State Workflow Analytics agent with an MCP connection, you need:\n",
    "\n",
    "* Python 3.13 with a virtual environment (venv).\n",
    "* JupyterLab (installed inside the venv) or Google Colab\n",
    "* Node.js - includes npx, which is used to launch the MCP client (mcp-remote) on the fly without a global install.\n",
    "* Access to the Atlassian MCP endpoint: https://mcp.atlassian.com/v1/sse and permissions to read JIRA ticket data.\n",
    "* JIRA instance credentials (email, API token, and base URL) configured as environment variables."
   ]
  },
  {
   "cell_type": "code",
   "execution_count": null,
   "id": "1523ddfc-71cd-4590-b4c9-3761eda8293b",
   "metadata": {},
   "outputs": [],
   "source": [
    "!pip install google-adk mcp"
   ]
  },
  {
   "cell_type": "code",
   "execution_count": 11,
   "id": "cd281c02-f730-4ef4-81d9-1c62a9506079",
   "metadata": {},
   "outputs": [],
   "source": [
    "import os\n",
    "import json\n",
    "import contextlib\n",
    "from dotenv import load_dotenv\n",
    "from google.genai import types\n",
    "from google.adk.agents import Agent\n",
    "from google.adk.runners import Runner\n",
    "from google.adk.sessions import InMemorySessionService\n",
    "from google.adk.tools.tool_context import ToolContext\n",
    "from google.adk.tools.mcp_tool.mcp_toolset import MCPToolset\n",
    "from google.adk.tools.mcp_tool.mcp_toolset import StdioConnectionParams, StdioServerParameters\n",
    "from google.adk.models.lite_llm import LiteLlm\n",
    "\n",
    "import pandas as pd\n",
    "import numpy as np\n",
    "import plotly.graph_objects as go\n",
    "from collections import defaultdict\n",
    "from typing import Optional\n",
    "from IPython.display import display\n",
    "from plotly.offline import iplot, init_notebook_mode\n",
    "\n",
    "import aiohttp\n",
    "import asyncio\n",
    "import base64\n",
    "import math\n",
    "import re\n",
    "from datetime import datetime\n",
    "from google import genai"
   ]
  },
  {
   "cell_type": "code",
   "execution_count": 12,
   "id": "64bd1e44-80f4-477e-90af-68bf7458efd6",
   "metadata": {},
   "outputs": [
    {
     "name": "stdout",
     "output_type": "stream",
     "text": [
      "Google API key loaded!\n",
      "JIRA credentials loaded!\n"
     ]
    }
   ],
   "source": [
    "load_dotenv()\n",
    "\n",
    "GEMINI_API_KEY = os.getenv(\"GOOGLE_API_KEY\")\n",
    "JIRA_EMAIL = os.getenv(\"JIRA_EMAIL\")\n",
    "JIRA_API_TOKEN = os.getenv(\"JIRA_API_TOKEN\")\n",
    "JIRA_URL = os.getenv(\"JIRA_URL\")\n",
    "\n",
    "if GEMINI_API_KEY:\n",
    "    print(\"Google API key loaded!\")\n",
    "else:\n",
    "    print(\"Google API key missing!\")\n",
    "\n",
    "if all([JIRA_EMAIL, JIRA_API_TOKEN, JIRA_URL]):\n",
    "    print(\"JIRA credentials loaded!\")\n",
    "else:\n",
    "    print(\"JIRA credentials missing!\")"
   ]
  },
  {
   "cell_type": "code",
   "execution_count": 13,
   "id": "2abc540d-f74b-48b7-8a8c-3c0f4795ed0a",
   "metadata": {},
   "outputs": [],
   "source": [
    "def clean_json_block(content: str) -> str:\n",
    "    \"\"\"Strip triple backticks and language identifiers from JSON content.\"\"\"\n",
    "    content = re.sub(r\"^```json|```$\", \"\", content.strip(), flags=re.IGNORECASE).strip()\n",
    "    content = content.strip(\"`\").strip()\n",
    "    return content\n",
    "\n",
    "\n",
    "async def get_jira_ticket_changelog(tool_context: ToolContext, issue_key: str) -> dict:\n",
    "    \"\"\"\n",
    "    Gets the raw changelog for a JIRA issue key and stores it in context.\n",
    "    \n",
    "    Args:\n",
    "        tool_context: The tool context for state management\n",
    "        issue_key: JIRA issue key (e.g., \"PROJ-123\")\n",
    "    \n",
    "    Returns:\n",
    "        Raw changelog dict or error dict\n",
    "    \"\"\"\n",
    "    \n",
    "    # Get config from globals (loaded in notebook)\n",
    "    jira_base_url = JIRA_URL\n",
    "    jira_token = JIRA_API_TOKEN\n",
    "    jira_email = JIRA_EMAIL\n",
    "    \n",
    "    if not all([jira_base_url, jira_token, jira_email]):\n",
    "        error = {\"error\": \"JIRA configuration missing\"}\n",
    "        tool_context.state[\"current_changelog\"] = error\n",
    "        return error\n",
    "    \n",
    "    # API call\n",
    "    url = f\"{jira_base_url.rstrip('/')}/rest/api/2/issue/{issue_key}/changelog\"\n",
    "    auth = base64.b64encode(f\"{jira_email}:{jira_token}\".encode()).decode()\n",
    "    headers = {\"Authorization\": f\"Basic {auth}\"}\n",
    "    \n",
    "    try:\n",
    "        async with aiohttp.ClientSession() as session:\n",
    "            async with session.get(url, headers=headers) as response:\n",
    "                if response.status != 200:\n",
    "                    error = {\"error\": f\"API error {response.status}\"}\n",
    "                    tool_context.state[\"current_changelog\"] = error\n",
    "                    return error\n",
    "                \n",
    "                changelog = await response.json()\n",
    "                \n",
    "                # Store in context and return\n",
    "                tool_context.state[\"current_changelog\"] = changelog\n",
    "                return changelog\n",
    "                \n",
    "    except Exception as e:\n",
    "        error = {\"error\": str(e)}\n",
    "        tool_context.state[\"current_changelog\"] = error\n",
    "        return error"
   ]
  },
  {
   "cell_type": "code",
   "execution_count": 14,
   "id": "06d8d5c0-1919-46ae-bb21-b857f41f7b0b",
   "metadata": {},
   "outputs": [],
   "source": [
    "async def get_jira_ticket_status_transitions(tool_context: ToolContext) -> str:\n",
    "    \"\"\"\n",
    "    Enhanced version of get_jira_ticket_status_transitions with duplicate prevention.\n",
    "    Processes the single cached JIRA changelog and extracts status transitions using LLM.\n",
    "    Prevents duplicate transitions from being stored.\n",
    "    \n",
    "    Args:\n",
    "        tool_context: The tool context for state management (contains one cached changelog)\n",
    "    \n",
    "    Returns:\n",
    "        Success/error message as string\n",
    "    \"\"\"\n",
    "    \n",
    "    try:\n",
    "        print(f\"🔍 [{get_jira_ticket_status_transitions}] State check: {len(tool_context.state.get('ticket_status_transitions', []))} transitions in context\")\n",
    "        print(f\"🔍 [{get_jira_ticket_status_transitions}] Context ID: {id(tool_context.state)}\")\n",
    "        \n",
    "        # Get the single cached changelog from tool_context\n",
    "        changelog_data = tool_context.state.get(\"current_changelog\")\n",
    "        \n",
    "        if not changelog_data:\n",
    "            return \"❌ No cached changelog found. Call get_jira_ticket_changelog first.\"\n",
    "        \n",
    "        client = genai.Client()\n",
    "\n",
    "        # Get current date\n",
    "        current_date = datetime.now().strftime(\"%Y-%m-%d\")\n",
    "        \n",
    "        system_prompt = f\"\"\"\n",
    "        You are a JIRA transition data extractor. Extract status transitions from changelog data.\n",
    "        \n",
    "        CURRENT DATE: {current_date}\n",
    "        \n",
    "        CRITICAL RULES:\n",
    "        1. Extract the issue key from the changelog data itself\n",
    "        2. Look for actual status field changes in the changelog - entries with \"field\": \"status\"\n",
    "        3. For each status change, extract the from_date, from_status, to_date, and to_status\n",
    "        4. If a ticket has status transitions, create transition objects for each change\n",
    "        5. If a ticket has NO status field changes, create a self-loop from creation date to current date with \"Backlog\" status\n",
    "        6. For tickets currently in a status (last transition), create a self-loop from that status using last transition date to current date\n",
    "        7. Return ONLY a JSON array of transition objects, no markdown, no extra text\n",
    "        8. Each object needs: issue_key, from_date, from_status, to_date, to_status\n",
    "        \n",
    "        Examples:\n",
    "        - With status changes: [{{\"issue_key\": \"ABC-123\", \"from_date\": \"2024-12-13T17:01:12.419+0100\", \"from_status\": \"Backlog\", \"to_date\": \"2025-09-20T08:54:57.761+0200\", \"to_status\": \"In Progress\"}}]\n",
    "        - No status changes: [{{\"issue_key\": \"ABC-123\", \"from_date\": \"2024-12-13T17:01:12.419+0100\", \"from_status\": \"Backlog\", \"to_date\": \"{current_date}T00:00:00.000+0000\", \"to_status\": \"Backlog\"}}]\n",
    "        \"\"\"\n",
    "        \n",
    "        # Pass the single changelog to LLM\n",
    "        user_prompt = f\"\"\"\n",
    "        Extract status transitions from this JIRA changelog data:\n",
    "        \n",
    "        {json.dumps(changelog_data, indent=2)}\n",
    "        \n",
    "        Remember: \n",
    "        - Look for \"field\": \"status\" entries for actual status changes\n",
    "        - Extract the exact dates from the \"created\" field of each entry\n",
    "        - If no status changes found, use creation date and current date with \"Backlog\" status\n",
    "        - DO NOT calculate days - only extract dates and statuses\n",
    "        \n",
    "        Return only the JSON array of transition objects following the exact schema.\n",
    "        \"\"\"\n",
    "        \n",
    "        # Make Gemini API call\n",
    "        response = client.models.generate_content(\n",
    "            model=\"gemini-2.0-flash\",\n",
    "            contents=[\n",
    "                {\"role\": \"user\", \"parts\": [{\"text\": system_prompt + \"\\n\\n\" + user_prompt}]}\n",
    "            ]\n",
    "        )\n",
    "        \n",
    "        content = response.text.strip()\n",
    "        print(\"Raw Gemini response:\\n\", content)\n",
    "        \n",
    "        # Clean and parse JSON\n",
    "        import re\n",
    "        content = re.sub(r\"^```json|```$\", \"\", content.strip(), flags=re.IGNORECASE).strip()\n",
    "        content = content.strip(\"`\").strip()\n",
    "        transitions = json.loads(content)\n",
    "        \n",
    "        # Validate response\n",
    "        if not isinstance(transitions, list):\n",
    "            return f\"❌ Expected list of transitions, got: {type(transitions)}\"\n",
    "        \n",
    "        # Extract creation date from changelog for validation\n",
    "        creation_date = None\n",
    "        ticket_lifetime_days = None\n",
    "        \n",
    "        # Look for the earliest date in the changelog as creation date\n",
    "        if \"values\" in changelog_data:\n",
    "            for history in changelog_data[\"values\"]:\n",
    "                if \"created\" in history:\n",
    "                    creation_date = history[\"created\"]\n",
    "                    break\n",
    "        \n",
    "        # Calculate ticket lifetime (creation to now) for validation\n",
    "        if creation_date:\n",
    "            try:\n",
    "                if \"T\" in creation_date:\n",
    "                    created = datetime.fromisoformat(creation_date.replace(\"Z\", \"+00:00\"))\n",
    "                else:\n",
    "                    created = datetime.strptime(creation_date, \"%Y-%m-%d\")\n",
    "                \n",
    "                current = datetime.now(created.tzinfo) if created.tzinfo else datetime.now()\n",
    "                ticket_lifetime_days = (current - created).days + 1\n",
    "                print(f\"Ticket lifetime: {ticket_lifetime_days} days (created: {created.strftime('%Y-%m-%d')})\")\n",
    "            except Exception as e:\n",
    "                print(f\"⚠️ Could not parse creation date: {e}\")\n",
    "                ticket_lifetime_days = None\n",
    "        \n",
    "        # Initialize storage if needed\n",
    "        if \"ticket_status_transitions\" not in tool_context.state:\n",
    "            tool_context.state[\"ticket_status_transitions\"] = []\n",
    "        \n",
    "        # Handle empty transitions - now this should be rare since we want self-loops\n",
    "        if not transitions:\n",
    "            print(\"⚠️ Warning: No transitions returned - this is unexpected\")\n",
    "            return \"✅ Processed: +0 new, -0 duplicates, no transitions returned\"\n",
    "        \n",
    "        # Get existing transitions for duplicate checking\n",
    "        existing_transitions = tool_context.state[\"ticket_status_transitions\"]\n",
    "        existing_keys = set()\n",
    "        for existing in existing_transitions:\n",
    "            key = (existing[\"issue_key\"], existing[\"source_status\"], existing[\"target_status\"])\n",
    "            existing_keys.add(key)\n",
    "        \n",
    "        # Add transitions to storage with duplicate prevention\n",
    "        valid_count = 0\n",
    "        duplicate_count = 0\n",
    "        extracted_transitions = []\n",
    "        \n",
    "        for transition in transitions:\n",
    "            required_keys = [\"issue_key\", \"from_date\", \"from_status\", \"to_date\", \"to_status\"]\n",
    "            if all(key in transition for key in required_keys):\n",
    "                \n",
    "                # Calculate transition_days using the tool, not the model\n",
    "                try:\n",
    "                    from_date_str = transition[\"from_date\"]\n",
    "                    to_date_str = transition[\"to_date\"]\n",
    "                    \n",
    "                    # Parse dates\n",
    "                    if \"T\" in from_date_str:\n",
    "                        from_date = datetime.fromisoformat(from_date_str.replace(\"Z\", \"+00:00\"))\n",
    "                    else:\n",
    "                        from_date = datetime.strptime(from_date_str, \"%Y-%m-%d\")\n",
    "                    \n",
    "                    if \"T\" in to_date_str:\n",
    "                        to_date = datetime.fromisoformat(to_date_str.replace(\"Z\", \"+00:00\"))\n",
    "                    else:\n",
    "                        to_date = datetime.strptime(to_date_str, \"%Y-%m-%d\")\n",
    "                    \n",
    "                    # Calculate days (minimum 1)\n",
    "                    days = max(1, (to_date - from_date).days + 1)\n",
    "                    \n",
    "                    # Create final transition object with calculated days\n",
    "                    final_transition = {\n",
    "                        \"issue_key\": transition[\"issue_key\"],\n",
    "                        \"source_status\": transition[\"from_status\"],\n",
    "                        \"target_status\": transition[\"to_status\"],\n",
    "                        \"transition_days\": days\n",
    "                    }\n",
    "                    \n",
    "                except Exception as e:\n",
    "                    print(f\"❌ Date parsing error for {transition['issue_key']}: {e}\")\n",
    "                    continue\n",
    "                \n",
    "                # Check for duplicates using final transition format\n",
    "                key = (final_transition[\"issue_key\"], final_transition[\"source_status\"], final_transition[\"target_status\"])\n",
    "                \n",
    "                if key in existing_keys:\n",
    "                    duplicate_count += 1\n",
    "                    print(f\"🔄 Skipped duplicate: {final_transition['issue_key']} {final_transition['source_status']} → {final_transition['target_status']}\")\n",
    "                else:\n",
    "                    # Check if transition days exceed ticket lifetime (impossible scenario)\n",
    "                    if ticket_lifetime_days and final_transition[\"transition_days\"] > ticket_lifetime_days:\n",
    "                        print(f\"❌ INVALID DATA: {final_transition['issue_key']} shows {final_transition['transition_days']} days but ticket only exists for {ticket_lifetime_days} days. Skipping this transition.\")\n",
    "                        continue  # Skip this invalid transition\n",
    "                    \n",
    "                    tool_context.state[\"ticket_status_transitions\"].append(final_transition)\n",
    "                    existing_keys.add(key)  # Add to tracking set\n",
    "                    extracted_transitions.append(final_transition)\n",
    "                    valid_count += 1\n",
    "        \n",
    "        # Print results for visibility in notebook\n",
    "        print(f\"\\n{'='*60}\")\n",
    "        print(f\"STATUS TRANSITIONS PROCESSED\")\n",
    "        print(f\"{'='*60}\")\n",
    "        print(f\"✅ Added: {valid_count} new transitions\")\n",
    "        if duplicate_count > 0:\n",
    "            print(f\"🔄 Skipped: {duplicate_count} duplicates\")\n",
    "        print(f\"📊 Total in context: {len(tool_context.state['ticket_status_transitions'])} transitions\")\n",
    "        \n",
    "        if extracted_transitions:\n",
    "            print(f\"\\n📈 New transitions added:\")\n",
    "            for i, transition in enumerate(extracted_transitions, 1):\n",
    "                print(f\"{i}. {transition['issue_key']}: {transition['source_status']} → {transition['target_status']} ({transition['transition_days']} days)\")\n",
    "        \n",
    "        print(f\"{'='*60}\\n\")\n",
    "        \n",
    "        return f\"✅ Processed: +{valid_count} new, -{duplicate_count} duplicates, {len(tool_context.state['ticket_status_transitions'])} total\"\n",
    "        \n",
    "    except json.JSONDecodeError as e:\n",
    "        return f\"❌ Failed to parse Gemini response: {str(e)}\\nResponse: {content}\"\n",
    "    except Exception as e:\n",
    "        return f\"❌ Error processing changelog: {str(e)}\""
   ]
  },
  {
   "cell_type": "code",
   "execution_count": 15,
   "id": "12d3dbb4-0505-4426-903d-d57012febb9c",
   "metadata": {},
   "outputs": [],
   "source": [
    "def create_sankey_diagram(tool_context: ToolContext, title: str = \"JIRA Status Flow\") -> str:\n",
    "    \"\"\"\n",
    "    Creates a Sankey diagram from transition data stored in tool_context.\n",
    "    \n",
    "    Args:\n",
    "        tool_context: The tool context containing ticket_status_transitions data\n",
    "        title: Title for the diagram\n",
    "    \n",
    "    Returns:\n",
    "        Success/error message as string\n",
    "        \n",
    "    Expected data in tool_context.state[\"ticket_status_transitions\"]:\n",
    "    [\n",
    "        {\n",
    "            \"issue_key\": \"PROJ-123\",\n",
    "            \"source_status\": \"Backlog\", \n",
    "            \"target_status\": \"In Progress\",\n",
    "            \"transition_days\": 3\n",
    "        }\n",
    "    ]\n",
    "    \"\"\"\n",
    "    \n",
    "    try:\n",
    "        print(f\"🔍 [{create_sankey_diagram}] State check: {len(tool_context.state.get('ticket_status_transitions', []))} transitions in context\")\n",
    "        print(f\"🔍 [{create_sankey_diagram}] Context ID: {id(tool_context.state)}\")\n",
    "        \n",
    "        # Initialize notebook mode for plotly\n",
    "        init_notebook_mode(connected=True)\n",
    "        \n",
    "        # Get transition data from context\n",
    "        transitions = tool_context.state.get(\"ticket_status_transitions\", [])\n",
    "        \n",
    "        if not transitions:\n",
    "            return \"❌ No transition data found in context. Run get_jira_ticket_status_transitions first.\"\n",
    "        \n",
    "        # Create and display DataFrame of raw transition data\n",
    "        df = pd.DataFrame(transitions)\n",
    "        df['note'] = df.apply(lambda row: \n",
    "            \"(self-loop)\" if row['source_status'] == row['target_status']\n",
    "            else \"(from beginning)\" if row['source_status'] in {\"New\", \"Backlog\"}\n",
    "            else \"(to end)\" if row['target_status'] in {\"Done\", \"Closed\"}\n",
    "            else \"\", axis=1)\n",
    "        \n",
    "        print(f\"\\n📋 Raw Transition Data for Sankey Diagram\")\n",
    "        print(f\"{'='*80}\")\n",
    "        display(df[['issue_key', 'source_status', 'target_status', 'transition_days', 'note']])\n",
    "        print(f\"{'='*80}\\n\")\n",
    "        \n",
    "        # Define end statuses that should not have \"Currently in X\" nodes\n",
    "        END_STATUSES = {\"Done\", \"Closed\"}\n",
    "        \n",
    "        # Aggregate transitions and collect ticket details\n",
    "        aggregated = {}\n",
    "        all_statuses = set()\n",
    "        \n",
    "        for transition in transitions:\n",
    "            source = transition[\"source_status\"]\n",
    "            target = transition[\"target_status\"]\n",
    "            days = transition[\"transition_days\"]\n",
    "            ticket = transition[\"issue_key\"]\n",
    "            \n",
    "            all_statuses.add(source)\n",
    "            all_statuses.add(target)\n",
    "            \n",
    "            key = (source, target)\n",
    "            if key not in aggregated:\n",
    "                aggregated[key] = {\"total_days\": 0, \"tickets\": []}\n",
    "            \n",
    "            aggregated[key][\"total_days\"] += days\n",
    "            aggregated[key][\"tickets\"].append(f\"{ticket}:{days}d\")\n",
    "\n",
    "        # Handling of self-loops - end statuses are excluded\n",
    "        new_aggregated = {}\n",
    "        for (source, target), data in aggregated.items():\n",
    "            if source == target:\n",
    "                # Only create virtual nodes for non-end statuses\n",
    "                if target not in END_STATUSES:\n",
    "                    # Create virtual node: \"Currently in {status}\"\n",
    "                    virtual_status = f\"Currently in {source}\"\n",
    "                    all_statuses.add(virtual_status)\n",
    "                    # Use virtual status as target\n",
    "                    new_aggregated[(source, virtual_status)] = data\n",
    "                # For end statuses, skip creating the self-loop entirely\n",
    "                # This means tickets that end in Done/Closed won't show artificial flows\n",
    "            else:\n",
    "                new_aggregated[(source, target)] = data\n",
    "        \n",
    "        aggregated = new_aggregated\n",
    "        \n",
    "        if not aggregated:\n",
    "            return \"❌ No valid transitions found to visualize.\"\n",
    "        \n",
    "        # Create status mapping\n",
    "        # status_list = sorted(list(all_statuses))\n",
    "        # status_to_id = {status: idx for idx, status in enumerate(status_list)}\n",
    "\n",
    "        #START fix sorting\n",
    "        # Create status mapping with end statuses positioned last\n",
    "        end_statuses_in_data = [s for s in all_statuses if s in END_STATUSES]\n",
    "        non_end_statuses = [s for s in all_statuses if s not in END_STATUSES]\n",
    "        \n",
    "        # Sort each group separately, then combine with end statuses last\n",
    "        status_list = sorted(non_end_statuses) + sorted(end_statuses_in_data)\n",
    "        status_to_id = {status: idx for idx, status in enumerate(status_list)}\n",
    "        #END fix sorting\n",
    "        \n",
    "        # Build nodes (let Plotly handle colors)\n",
    "        node_labels = status_list\n",
    "        \n",
    "        # Build links with ticket information\n",
    "        link_sources = []\n",
    "        link_targets = []\n",
    "        link_values = []\n",
    "        link_labels = []\n",
    "        \n",
    "        for (source, target), data in aggregated.items():\n",
    "            source_id = status_to_id[source]\n",
    "            target_id = status_to_id[target]\n",
    "            total_days = data[\"total_days\"]\n",
    "            tickets = data[\"tickets\"]\n",
    "            \n",
    "            link_sources.append(source_id)\n",
    "            link_targets.append(target_id)\n",
    "            link_values.append(total_days)\n",
    "            \n",
    "            # Create hover label with ticket details\n",
    "            if source == target:\n",
    "                flow_text = f\"{source} (current)\"\n",
    "            else:\n",
    "                flow_text = f\"{source} → {target}\"\n",
    "            \n",
    "            ticket_list = \", \".join(tickets)\n",
    "            hover_label = f\"{flow_text}: {total_days} days<br>Tickets: {ticket_list}\"\n",
    "            link_labels.append(hover_label)\n",
    "        \n",
    "        # Create Sankey diagram\n",
    "        fig = go.Figure(data=[go.Sankey(\n",
    "            node=dict(\n",
    "                pad=15,\n",
    "                thickness=20,\n",
    "                line=dict(color=\"black\", width=0.5),\n",
    "                label=node_labels\n",
    "                # Let Plotly auto-assign colors\n",
    "            ),\n",
    "            link=dict(\n",
    "                source=link_sources,\n",
    "                target=link_targets,\n",
    "                value=link_values,\n",
    "                label=link_labels,\n",
    "                hovertemplate='%{label}<extra></extra>'\n",
    "                # Let Plotly auto-assign colors\n",
    "            )\n",
    "        )])\n",
    "        \n",
    "        # Update layout\n",
    "        fig.update_layout(\n",
    "            title_text=f\"{title}<br><sub>Flow values represent total days spent in transitions</sub>\",\n",
    "            font_size=12,\n",
    "            width=1000,\n",
    "            height=600\n",
    "        )\n",
    "        \n",
    "        # Display the diagram\n",
    "        iplot(fig)\n",
    "        \n",
    "        # Print summary\n",
    "        total_transitions = len(transitions)\n",
    "        unique_tickets = len(set(t[\"issue_key\"] for t in transitions))\n",
    "        total_days = sum(t[\"transition_days\"] for t in transitions)\n",
    "        \n",
    "        print(f\"\\n📊 Sankey Diagram Created: {title}\")\n",
    "        print(f\"   • {total_transitions} transitions visualized\")\n",
    "        print(f\"   • {unique_tickets} unique tickets\")\n",
    "        print(f\"   • {total_days} total days tracked\")\n",
    "        print(f\"   • Hover over flows to see ticket details\\n\")\n",
    "        \n",
    "        return f\"✅ Sankey diagram created with {total_transitions} transitions\"\n",
    "        \n",
    "    except Exception as e:\n",
    "        return f\"❌ Error creating Sankey diagram: {str(e)}\""
   ]
  },
  {
   "cell_type": "code",
   "execution_count": 16,
   "id": "e8d198d6-a016-4c96-b6d8-8f35a4a7d3f0",
   "metadata": {},
   "outputs": [],
   "source": [
    "def create_jira_ticket_status_time_bar_chart(tool_context: ToolContext, title: str = \"Time Spent in Each Status\") -> str:\n",
    "    \"\"\"\n",
    "    Creates a bar chart showing total time spent in each status across all tickets. \n",
    "    Historical completed time in each status and not the current/ongoing time for tickets in the given status.\n",
    "    Excludes beginning statuses (New, Backlog) and end statuses (Done, Closed).\n",
    "    \n",
    "    Args:\n",
    "        tool_context: The tool context containing ticket_status_transitions data\n",
    "        title: Title for the chart\n",
    "    \n",
    "    Returns:\n",
    "        Success/error message as string\n",
    "        \n",
    "    Expected data in tool_context.state[\"ticket_status_transitions\"]:\n",
    "    [\n",
    "        {\n",
    "            \"issue_key\": \"PROJ-123\",\n",
    "            \"source_status\": \"Backlog\", \n",
    "            \"target_status\": \"In Progress\",\n",
    "            \"transition_days\": 3\n",
    "        }\n",
    "    ]\n",
    "    \"\"\"\n",
    "    \n",
    "    try:\n",
    "        print(f\"🔍 [{create_jira_ticket_status_time_bar_chart}] State check: {len(tool_context.state.get('ticket_status_transitions', []))} transitions in context\")\n",
    "        print(f\"🔍 [{create_jira_ticket_status_time_bar_chart}] Context ID: {id(tool_context.state)}\")\n",
    "        \n",
    "        # Initialize notebook mode for plotly\n",
    "        init_notebook_mode(connected=True)\n",
    "        \n",
    "        # Get transition data from context\n",
    "        transitions = tool_context.state.get(\"ticket_status_transitions\", [])\n",
    "        \n",
    "        if not transitions:\n",
    "            return \"❌ No transition data found in context. Run get_jira_ticket_status_transitions first.\"\n",
    "        \n",
    "        # Display raw transition data as DataFrame (same as other tools)\n",
    "        df = pd.DataFrame(transitions)\n",
    "        df['note'] = df.apply(lambda row: \n",
    "            \"(self-loop)\" if row['source_status'] == row['target_status']\n",
    "            else \"(from beginning)\" if row['source_status'] in {\"New\", \"Backlog\"}\n",
    "            else \"(to end)\" if row['target_status'] in {\"Done\", \"Closed\"}\n",
    "            else \"\", axis=1)\n",
    "        \n",
    "        print(f\"\\n📋 Raw Transition Data for Bar Chart Analysis\")\n",
    "        print(f\"{'='*80}\")\n",
    "        display(df[['issue_key', 'source_status', 'target_status', 'transition_days', 'note']])\n",
    "        print(f\"{'='*80}\\n\")\n",
    "        \n",
    "        # Define statuses to exclude from the chart\n",
    "        BEGINNING_STATUSES = {\"New\", \"Backlog\"}\n",
    "        END_STATUSES = {\"Done\", \"Closed\"}\n",
    "        EXCLUDED_STATUSES = BEGINNING_STATUSES | END_STATUSES\n",
    "        \n",
    "        # Aggregate time spent in each status (INCLUDE SELF-LOOPS)\n",
    "        status_time = defaultdict(int)\n",
    "        status_tickets = defaultdict(list)  # Track which tickets contributed to each status\n",
    "        \n",
    "        for transition in transitions:\n",
    "            source_status = transition[\"source_status\"]\n",
    "            target_status = transition[\"target_status\"]\n",
    "            days = transition[\"transition_days\"]\n",
    "            ticket = transition[\"issue_key\"]\n",
    "            \n",
    "            # Time spent IN a status includes both transitions FROM that status AND self-loops\n",
    "            if source_status not in EXCLUDED_STATUSES:\n",
    "                status_time[source_status] += days\n",
    "                if source_status == target_status:\n",
    "                    status_tickets[source_status].append(f\"{ticket}:{days}d (self-loop)\")\n",
    "                else:\n",
    "                    status_tickets[source_status].append(f\"{ticket}:{days}d\")\n",
    "        \n",
    "        if not status_time:\n",
    "            return \"❌ No valid status time data found. All transitions involve beginning/end statuses.\"\n",
    "        \n",
    "        print(f\"🔍 Time aggregation for each status:\")\n",
    "        for status in sorted(status_time.keys()):\n",
    "            total_time = status_time[status]\n",
    "            tickets = status_tickets[status]\n",
    "            print(f\"   • {status}: {total_time} days ({len(tickets)} entries)\")\n",
    "            for ticket in tickets:\n",
    "                print(f\"     - {ticket}\")\n",
    "        print()\n",
    "        \n",
    "        # Sort statuses by total time (descending)\n",
    "        sorted_statuses = sorted(status_time.items(), key=lambda x: x[1], reverse=True)\n",
    "        \n",
    "        statuses = [status for status, _ in sorted_statuses]\n",
    "        times = [time for _, time in sorted_statuses]\n",
    "        \n",
    "        # Create hover text with ticket details\n",
    "        hover_texts = []\n",
    "        for status in statuses:\n",
    "            total_time = status_time[status]\n",
    "            tickets = status_tickets[status]\n",
    "            ticket_count = len(tickets)\n",
    "            ticket_list = \", \".join(tickets[:5])  # Show first 5 tickets\n",
    "            if len(tickets) > 5:\n",
    "                ticket_list += f\" (+{len(tickets)-5} more)\"\n",
    "            \n",
    "            hover_text = f\"Status: {status}<br>Total Days: {total_time}<br>Entries: {ticket_count}<br>Details: {ticket_list}\"\n",
    "            hover_texts.append(hover_text)\n",
    "        \n",
    "        # Create bar chart\n",
    "        fig = go.Figure(data=[\n",
    "            go.Bar(\n",
    "                x=statuses,\n",
    "                y=times,\n",
    "                text=[f\"{time}d\" for time in times],  # Show days on bars\n",
    "                textposition='auto',\n",
    "                hovertemplate='%{customdata}<extra></extra>',\n",
    "                customdata=hover_texts,\n",
    "                marker=dict(\n",
    "                    color=times,\n",
    "                    colorscale='Viridis',\n",
    "                    showscale=False,\n",
    "                    colorbar=dict(title=\"Days\")\n",
    "                )\n",
    "            )\n",
    "        ])\n",
    "        \n",
    "        # Update layout\n",
    "        fig.update_layout(\n",
    "            title=f\"{title}<br><sub>Includes self-loops, excludes beginning (New, Backlog) and end (Done, Closed) statuses</sub>\",\n",
    "            xaxis_title=\"Status\",\n",
    "            yaxis_title=\"Total Days\",\n",
    "            font_size=12,\n",
    "            width=1000,\n",
    "            height=600,\n",
    "            xaxis={'categoryorder': 'total descending'},  # Ensure bars are sorted by value\n",
    "            yaxis=dict(\n",
    "                dtick=1,  # Set tick interval to 1 day\n",
    "                tick0=0   # Start ticks at 0\n",
    "            )\n",
    "        )\n",
    "        \n",
    "        # Display the chart\n",
    "        iplot(fig)\n",
    "        \n",
    "        # Print summary\n",
    "        total_statuses = len(statuses)\n",
    "        total_days = sum(times)\n",
    "        unique_tickets = len(set(t[\"issue_key\"] for t in transitions))\n",
    "        \n",
    "        print(f\"\\n📊 Status Time Bar Chart Created: {title}\")\n",
    "        print(f\"   • {total_statuses} active statuses analyzed\")\n",
    "        print(f\"   • {total_days} total days across all statuses (includes self-loops)\")\n",
    "        print(f\"   • {unique_tickets} unique tickets\")\n",
    "        print(f\"   • Excludes: {', '.join(sorted(EXCLUDED_STATUSES))}\")\n",
    "        print(f\"   • Hover over bars to see ticket details\\n\")\n",
    "        \n",
    "        # Print top statuses\n",
    "        print(\"📈 Top statuses by time spent:\")\n",
    "        for i, (status, time) in enumerate(sorted_statuses[:5], 1):\n",
    "            entry_count = len(status_tickets[status])\n",
    "            print(f\"   {i}. {status}: {time} days ({entry_count} entries)\")\n",
    "        \n",
    "        if len(sorted_statuses) > 5:\n",
    "            print(f\"   ... and {len(sorted_statuses) - 5} more statuses\")\n",
    "        print()\n",
    "        \n",
    "        return f\"✅ Bar chart created showing {total_statuses} statuses with {total_days} total days (includes self-loops)\"\n",
    "        \n",
    "    except Exception as e:\n",
    "        return f\"❌ Error creating status time bar chart: {str(e)}\""
   ]
  },
  {
   "cell_type": "code",
   "execution_count": 17,
   "id": "c6d35c3e-3369-47c9-bbdd-6a92ffcad56a",
   "metadata": {},
   "outputs": [],
   "source": [
    "def create_jira_ticket_status_histogram(tool_context: ToolContext, status: str, title: Optional[str] = None) -> str:\n",
    "    \"\"\"\n",
    "    Creates a histogram showing the distribution of time spent in a specific status.\n",
    "    Shows time intervals from 1-30 days (individual buckets) plus 30+ days bucket.\n",
    "    Includes statistical annotations for bottleneck analysis.\n",
    "    \n",
    "    Args:\n",
    "        tool_context: The tool context containing ticket_status_transitions data\n",
    "        status: The specific status to analyze (case-sensitive)\n",
    "        title: Optional custom title for the chart\n",
    "    \n",
    "    Returns:\n",
    "        Success/error message as string\n",
    "        \n",
    "    Expected data in tool_context.state[\"ticket_status_transitions\"]:\n",
    "    [\n",
    "        {\n",
    "            \"issue_key\": \"PROJ-123\",\n",
    "            \"source_status\": \"In Progress\", \n",
    "            \"target_status\": \"Code Review\",\n",
    "            \"transition_days\": 3\n",
    "        }\n",
    "    ]\n",
    "    \"\"\"\n",
    "    \n",
    "    try:\n",
    "        print(f\"🔍 [{create_jira_ticket_status_histogram}] State check: {len(tool_context.state.get('ticket_status_transitions', []))} transitions in context\")\n",
    "        print(f\"🔍 [{create_jira_ticket_status_histogram}] Context ID: {id(tool_context.state)}\")\n",
    "        \n",
    "        # Initialize notebook mode for plotly\n",
    "        init_notebook_mode(connected=True)\n",
    "        \n",
    "        # Get transition data from context\n",
    "        transitions = tool_context.state.get(\"ticket_status_transitions\", [])\n",
    "        \n",
    "        if not transitions:\n",
    "            return \"❌ No transition data found in context. Run get_jira_ticket_status_transitions first.\"\n",
    "        \n",
    "        # Display raw transition data as DataFrame (same as Sankey)\n",
    "        df = pd.DataFrame(transitions)\n",
    "        df['note'] = df.apply(lambda row: \n",
    "            \"(self-loop)\" if row['source_status'] == row['target_status']\n",
    "            else \"(from beginning)\" if row['source_status'] in {\"New\", \"Backlog\"}\n",
    "            else \"(to end)\" if row['target_status'] in {\"Done\", \"Closed\"}\n",
    "            else \"\", axis=1)\n",
    "        \n",
    "        print(f\"\\n📋 Raw Transition Data for Histogram Analysis\")\n",
    "        print(f\"{'='*80}\")\n",
    "        display(df[['issue_key', 'source_status', 'target_status', 'transition_days', 'note']])\n",
    "        print(f\"{'='*80}\\n\")\n",
    "        \n",
    "        # Define statuses to exclude from analysis\n",
    "        BEGINNING_STATUSES = {\"New\", \"Backlog\"}\n",
    "        END_STATUSES = {\"Done\", \"Closed\"}\n",
    "        EXCLUDED_STATUSES = BEGINNING_STATUSES | END_STATUSES\n",
    "        \n",
    "        # Validate the requested status\n",
    "        if status in EXCLUDED_STATUSES:\n",
    "            return f\"❌ Cannot analyze '{status}' - it's a beginning or end status. Choose from active workflow statuses.\"\n",
    "        \n",
    "        # Collect time data for the specified status (INCLUDE SELF-LOOPS)\n",
    "        # status_times = []\n",
    "        # ticket_details = []  # For hover information\n",
    "        \n",
    "        # for transition in transitions:\n",
    "        #     source_status = transition[\"source_status\"]\n",
    "        #     target_status = transition[\"target_status\"]\n",
    "        #     days = transition[\"transition_days\"]\n",
    "        #     ticket = transition[\"issue_key\"]\n",
    "            \n",
    "        #     # We want time spent IN the specified status\n",
    "        #     # This includes both transitions FROM that status AND self-loops IN that status\n",
    "        #     if source_status == status:\n",
    "        #         status_times.append(days)\n",
    "        #         if source_status == target_status:\n",
    "        #             ticket_details.append(f\"{ticket} ({days}d, self-loop)\")\n",
    "        #         else:\n",
    "        #             ticket_details.append(f\"{ticket} ({days}d)\")\n",
    "\n",
    "        # Collect time data for the specified status (SUM TIME PER TICKET)\n",
    "        ticket_time_map = {}  # ticket_key -> total_days\n",
    "        ticket_details = []   # For hover information\n",
    "        \n",
    "        for transition in transitions:\n",
    "            source_status = transition[\"source_status\"]\n",
    "            target_status = transition[\"target_status\"]\n",
    "            days = transition[\"transition_days\"]\n",
    "            ticket = transition[\"issue_key\"]\n",
    "            \n",
    "            # We want time spent IN the specified status\n",
    "            # This includes both transitions FROM that status AND self-loops IN that status\n",
    "            if source_status == status:\n",
    "                if ticket not in ticket_time_map:\n",
    "                    ticket_time_map[ticket] = 0\n",
    "                ticket_time_map[ticket] += days\n",
    "        \n",
    "        # Convert to lists for further processing\n",
    "        status_times = list(ticket_time_map.values())\n",
    "        ticket_details = [f\"{ticket} ({total_days}d)\" for ticket, total_days in ticket_time_map.items()]\n",
    "        \n",
    "        if not status_times:\n",
    "            available_statuses = set()\n",
    "            for t in transitions:\n",
    "                if t[\"source_status\"] not in EXCLUDED_STATUSES:\n",
    "                    available_statuses.add(t[\"source_status\"])\n",
    "            \n",
    "            available_list = sorted(list(available_statuses))\n",
    "            return f\"❌ No time data found for status '{status}'. Available statuses: {available_list}\"\n",
    "        \n",
    "        print(f\"🔍 Found {len(status_times)} time entries for '{status}' status:\")\n",
    "        for detail in ticket_details:\n",
    "            print(f\"   • {detail}\")\n",
    "        print()\n",
    "        \n",
    "        # Calculate statistics\n",
    "        times_array = np.array(status_times)\n",
    "        stats = {\n",
    "            'count': len(status_times),\n",
    "            'median': np.median(times_array),\n",
    "            'mean': np.mean(times_array),\n",
    "            'p90': np.percentile(times_array, 90),\n",
    "            'min': np.min(times_array),\n",
    "            'max': np.max(times_array)\n",
    "        }\n",
    "        \n",
    "        # Create histogram buckets: 1-30 days individually, then 30+ days\n",
    "        max_individual_bucket = 30\n",
    "        \n",
    "        # Create bins: [0.5, 1.5, 2.5, ..., 30.5, inf]\n",
    "        bins = [i + 0.5 for i in range(max_individual_bucket + 1)]\n",
    "        bins.append(float('inf'))\n",
    "        \n",
    "        # Calculate histogram\n",
    "        hist_counts, _ = np.histogram(status_times, bins=bins)\n",
    "        \n",
    "        # Only show bins that have data or are within reasonable range of data\n",
    "        max_data_day = min(int(np.max(times_array)), max_individual_bucket)\n",
    "        display_range = max(max_data_day + 2, 5)  # Show at least 5 days, or max + 2\n",
    "        display_range = min(display_range, max_individual_bucket)\n",
    "        \n",
    "        # Create bin labels and data for display range only\n",
    "        bin_labels = []\n",
    "        bin_counts = []\n",
    "        hover_texts = []\n",
    "        \n",
    "        for i in range(display_range):\n",
    "            day = i + 1\n",
    "            bin_labels.append(f\"{day}d\")\n",
    "            bin_counts.append(hist_counts[i])\n",
    "            \n",
    "            # Create hover text\n",
    "            tickets_in_bin = [detail for detail, time in zip(ticket_details, status_times) if time == day]\n",
    "            \n",
    "            if hist_counts[i] > 0:\n",
    "                ticket_list = \", \".join(tickets_in_bin[:5])  # Show first 5 tickets\n",
    "                if len(tickets_in_bin) > 5:\n",
    "                    ticket_list += f\" (+{len(tickets_in_bin)-5} more)\"\n",
    "                hover_text = f\"Time: {day}d<br>Tickets: {hist_counts[i]}<br>Examples: {ticket_list}\"\n",
    "            else:\n",
    "                hover_text = f\"Time: {day}d<br>Tickets: 0\"\n",
    "            \n",
    "            hover_texts.append(hover_text)\n",
    "        \n",
    "        # Add 30+ bucket if there's data beyond display range\n",
    "        if np.max(times_array) > max_individual_bucket:\n",
    "            bin_labels.append(\"30+d\")\n",
    "            bin_counts.append(hist_counts[-1])  # Last bin is 30+ days\n",
    "            \n",
    "            tickets_in_bin = [detail for detail, time in zip(ticket_details, status_times) if time > max_individual_bucket]\n",
    "            \n",
    "            if hist_counts[-1] > 0:\n",
    "                ticket_list = \", \".join(tickets_in_bin[:5])\n",
    "                if len(tickets_in_bin) > 5:\n",
    "                    ticket_list += f\" (+{len(tickets_in_bin)-5} more)\"\n",
    "                hover_text = f\"Time: 30+d<br>Tickets: {hist_counts[-1]}<br>Examples: {ticket_list}\"\n",
    "            else:\n",
    "                hover_text = f\"Time: 30+d<br>Tickets: 0\"\n",
    "            \n",
    "            hover_texts.append(hover_text)\n",
    "        \n",
    "        # Create the histogram\n",
    "        fig = go.Figure(data=[\n",
    "            go.Bar(\n",
    "                x=bin_labels,\n",
    "                y=bin_counts,\n",
    "                text=bin_counts,\n",
    "                textposition='auto',\n",
    "                hovertemplate='%{customdata}<extra></extra>',\n",
    "                customdata=hover_texts,\n",
    "                marker=dict(\n",
    "                    color=bin_counts,\n",
    "                    colorscale='Blues',\n",
    "                    showscale=False,\n",
    "                    colorbar=dict(title=\"Ticket Count\")\n",
    "                )\n",
    "            )\n",
    "        ])\n",
    "        \n",
    "        # Add statistical annotation lines (only if they're at different positions)\n",
    "        if abs(stats['median'] - stats['p90']) > 0.1:\n",
    "            # Different positions - show both lines\n",
    "            fig.add_vline(\n",
    "                x=stats['median'] - 0.5, \n",
    "                line_dash=\"dash\", \n",
    "                line_color=\"red\", \n",
    "                annotation_text=f\"Median: {stats['median']:.1f}d\",\n",
    "                annotation_position=\"top left\"\n",
    "            )\n",
    "            \n",
    "            fig.add_vline(\n",
    "                x=stats['p90'] - 0.5, \n",
    "                line_dash=\"dot\", \n",
    "                line_color=\"orange\", \n",
    "                annotation_text=f\"90th percentile: {stats['p90']:.1f}d\",\n",
    "                annotation_position=\"top right\"\n",
    "            )\n",
    "        else:\n",
    "            # Same or very close positions - show combined line\n",
    "            fig.add_vline(\n",
    "                x=stats['median'] - 0.5, \n",
    "                line_dash=\"dash\", \n",
    "                line_color=\"red\", \n",
    "                annotation_text=f\"Median & 90th percentile: {stats['median']:.1f}d\",\n",
    "                annotation_position=\"top\"\n",
    "            )\n",
    "        \n",
    "        # Set title\n",
    "        if title is None:\n",
    "            title = f\"Time Distribution for Status: {status}\"\n",
    "        \n",
    "        # Update layout with improved x-axis (FIX THE GAP ISSUE)\n",
    "        fig.update_layout(\n",
    "            title=f\"{title}<br><sub>Distribution of days spent in '{status}' status (includes self-loops)</sub>\",\n",
    "            xaxis_title=\"Days Spent in Status\",\n",
    "            yaxis_title=\"Number of Tickets\",\n",
    "            font_size=12,\n",
    "            width=1200,\n",
    "            height=600,\n",
    "            showlegend=False,\n",
    "            xaxis=dict(\n",
    "                type='category',\n",
    "                categoryorder='array',\n",
    "                categoryarray=bin_labels,\n",
    "                # Remove gaps between bars\n",
    "                range=[-0.5, len(bin_labels) - 0.5]\n",
    "            ),\n",
    "            # Remove default margins that cause gaps\n",
    "            margin=dict(l=50, r=50, t=80, b=50)\n",
    "        )\n",
    "        \n",
    "        # Display the chart\n",
    "        iplot(fig)\n",
    "        \n",
    "        # Print detailed statistics\n",
    "        print(f\"\\n📊 Status Time Distribution: {status}\")\n",
    "        print(f\"{'='*50}\")\n",
    "        print(f\"📈 Statistics:\")\n",
    "        print(f\"   • Total tickets analyzed: {stats['count']} (includes self-loops)\")\n",
    "        print(f\"   • Average time: {stats['mean']:.1f} days\")\n",
    "        print(f\"   • Median time: {stats['median']:.1f} days\")\n",
    "        print(f\"   • 90th percentile: {stats['p90']:.1f} days\")\n",
    "        print(f\"   • Range: {stats['min']:.0f} - {stats['max']:.0f} days\")\n",
    "        \n",
    "        # Bottleneck analysis\n",
    "        print(f\"\\n🔍 Bottleneck Analysis:\")\n",
    "        quick_tickets = sum(1 for t in status_times if t <= 3)\n",
    "        slow_tickets = sum(1 for t in status_times if t > 7)\n",
    "        very_slow_tickets = sum(1 for t in status_times if t > 14)\n",
    "        \n",
    "        quick_pct = (quick_tickets / stats['count']) * 100\n",
    "        slow_pct = (slow_tickets / stats['count']) * 100\n",
    "        very_slow_pct = (very_slow_tickets / stats['count']) * 100\n",
    "        \n",
    "        print(f\"   • Fast (≤3 days): {quick_tickets} tickets ({quick_pct:.1f}%)\")\n",
    "        print(f\"   • Slow (>7 days): {slow_tickets} tickets ({slow_pct:.1f}%)\")\n",
    "        print(f\"   • Very slow (>14 days): {very_slow_tickets} tickets ({very_slow_pct:.1f}%)\")\n",
    "        \n",
    "        # Recommendations\n",
    "        print(f\"\\n💡 Insights:\")\n",
    "        if stats['p90'] > stats['median'] * 3:\n",
    "            print(f\"   ⚠️  High variability detected - some tickets take much longer\")\n",
    "        if very_slow_pct > 10:\n",
    "            print(f\"   🚨 Bottleneck warning - {very_slow_pct:.1f}% of tickets are very slow\")\n",
    "        if quick_pct > 80:\n",
    "            print(f\"   ✅ Good flow - most tickets move quickly through {status}\")\n",
    "        \n",
    "        print(f\"{'='*50}\\n\")\n",
    "        \n",
    "        return f\"✅ Histogram created for '{status}' status with {stats['count']} tickets analyzed (includes self-loops)\"\n",
    "        \n",
    "    except Exception as e:\n",
    "        return f\"❌ Error creating status histogram: {str(e)}\""
   ]
  },
  {
   "cell_type": "code",
   "execution_count": 18,
   "id": "a3b2cddb-7ef7-44a8-91b7-d552995157a5",
   "metadata": {},
   "outputs": [],
   "source": [
    "def clear_status_transitions_data_set(tool_context: ToolContext) -> str:\n",
    "    \"\"\"\n",
    "    Clears all cached transition data to provide a clean slate for new analysis.\n",
    "    \n",
    "    Args:\n",
    "        tool_context: The tool context for state management\n",
    "    \n",
    "    Returns:\n",
    "        Success message as string\n",
    "    \"\"\"\n",
    "    \n",
    "    try:\n",
    "        print(f\"🔍 [{clear_status_transitions_data_set}] State check: {len(tool_context.state.get('ticket_status_transitions', []))} transitions in context\")\n",
    "        print(f\"🔍 [{clear_status_transitions_data_set}] Context ID: {id(tool_context.state)}\")\n",
    "        \n",
    "        # Clear all relevant data\n",
    "        keys_to_clear = [\"ticket_status_transitions\", \"current_changelog\"]\n",
    "        cleared_keys = []\n",
    "        \n",
    "        for key in keys_to_clear:\n",
    "            if key in tool_context.state:\n",
    "                del tool_context.state[key]\n",
    "                cleared_keys.append(key)\n",
    "        \n",
    "        if cleared_keys:\n",
    "            print(\"Data cleared successfully!\")\n",
    "            print(f\"   • Cleared: {', '.join(cleared_keys)}\")\n",
    "            print(\"   • Ready for fresh analysis\")\n",
    "            return f\"Status transitions set is now empty - cleared {len(cleared_keys)} data stores: {', '.join(cleared_keys)}\"\n",
    "        else:\n",
    "            print(\"Status transitions set is empty!\")\n",
    "            return \"Status transitions set is empty - context is clean\"\n",
    "        \n",
    "    except Exception as e:\n",
    "        print(f\"❌ Clear error: {str(e)}\")\n",
    "        return f\"Error clearing data: {str(e)}\"\n",
    "\n",
    "\n",
    "def get_status_transitions_summary(tool_context: ToolContext) -> str:\n",
    "    \"\"\"\n",
    "    Shows a summary of currently stored transition data without creating visualizations.\n",
    "    Displays data in a nice DataFrame table for easy analysis.\n",
    "    \n",
    "    Args:\n",
    "        tool_context: The tool context for state management\n",
    "    \n",
    "    Returns:\n",
    "        Summary information as string\n",
    "    \"\"\"\n",
    "    \n",
    "    try:\n",
    "        print(f\"🔍 [{get_status_transitions_summary}] State check: {len(tool_context.state.get('ticket_status_transitions', []))} transitions in context\")\n",
    "        print(f\"🔍 [{get_status_transitions_summary}] Context ID: {id(tool_context.state)}\")\n",
    "        \n",
    "        transitions = tool_context.state.get(\"ticket_status_transitions\", [])\n",
    "        current_changelog = tool_context.state.get(\"current_changelog\")\n",
    "        \n",
    "        print(\"Current Status Transitions Data Summary\")\n",
    "        print(\"=\" * 50)\n",
    "        \n",
    "        if transitions:\n",
    "            unique_tickets = set(t[\"issue_key\"] for t in transitions)\n",
    "            unique_statuses = set()\n",
    "            for t in transitions:\n",
    "                unique_statuses.add(t[\"source_status\"])\n",
    "                unique_statuses.add(t[\"target_status\"])\n",
    "            \n",
    "            total_days = sum(t[\"transition_days\"] for t in transitions)\n",
    "            \n",
    "            print(\"Transition Data:\")\n",
    "            print(f\"   • {len(transitions)} total transitions\")\n",
    "            print(f\"   • {len(unique_tickets)} unique tickets: {', '.join(sorted(unique_tickets))}\")\n",
    "            print(f\"   • {len(unique_statuses)} statuses involved: {', '.join(sorted(unique_statuses))}\")\n",
    "            print(f\"   • {total_days} total days tracked\")\n",
    "            \n",
    "            # Create and display DataFrame from transitions data\n",
    "            df = pd.DataFrame(transitions)\n",
    "            print(\"\\nAll Transition Data:\")\n",
    "            display(df)\n",
    "                \n",
    "        else:\n",
    "            print(\"Transition Data: None - status transitions set is empty\")\n",
    "        \n",
    "        if current_changelog:\n",
    "            if \"error\" in current_changelog:\n",
    "                print(f\"Cached Changelog: Error - {current_changelog['error']}\")\n",
    "            else:\n",
    "                issue_key = current_changelog.get(\"self\", \"unknown\")\n",
    "                if \"/browse/\" in issue_key:\n",
    "                    issue_key = issue_key.split(\"/browse/\")[-1]\n",
    "                print(f\"Cached Changelog: Available for {issue_key}\")\n",
    "        else:\n",
    "            print(\"Cached Changelog: None\")\n",
    "        \n",
    "        print(\"=\" * 50)\n",
    "        \n",
    "        if transitions:\n",
    "            return f\"Summary: {len(transitions)} transitions from {len(unique_tickets)} tickets ready for analysis\"\n",
    "        else:\n",
    "            return \"Status transitions set is empty - run get_jira_ticket_changelog and get_jira_ticket_status_transitions first\"\n",
    "        \n",
    "    except Exception as e:\n",
    "        return f\"Error generating summary: {str(e)}\""
   ]
  },
  {
   "cell_type": "code",
   "execution_count": 19,
   "id": "b5ab37d5-a263-4b1a-acc4-99a5b957b5d4",
   "metadata": {},
   "outputs": [],
   "source": [
    "agent = Agent(\n",
    "    name=\"product_doc_assistant\",\n",
    "    model=\"gemini-2.5-flash\",\n",
    "    description=\"Jira assistant with auto-discovered Atlassian MCP tools for jenys.atlassian.net\",\n",
    "    instruction=\"\"\"\n",
    "            You are a specialized AI assistant designed to help users analyze JIRA tickets and create status flow visualizations. You are working\n",
    "             in the jenys.atlassian.net domain.\n",
    "             \n",
    "            **Your Goal**:\n",
    "            - Help users analyze JIRA ticket workflows and create Sankey diagrams showing status transitions. \n",
    "            - Suggest also other type of diagrams for extended data analysis - bar chart or histogram.\n",
    "            \n",
    "            **Your Workflow**:\n",
    "            Always follow these steps precisely!\n",
    "            \n",
    "            1. **Analyze the user's question** to determine their specific intent.\n",
    "            \n",
    "            2. **For JIRA ticket analysis requests:**\n",
    "               - Use `get_jira_ticket_changelog` tool to retrieve changelog data for each ticket\n",
    "               - Use `get_jira_ticket_status_transitions` tool to process the changelog and extract status transitions\n",
    "               - Repeat steps above for each ticket the user wants to analyze\n",
    "               - Use `create_sankey_diagram` tool to create a visualization of all collected transitions. Only create diagrams after collecting all ticket transitions!\n",
    "            \n",
    "            3. **For status transition analysis:**\n",
    "               - Each ticket should be processed individually: get changelog → extract transitions\n",
    "               - Transitions are automatically accumulated in context for final visualization\n",
    "               - If a ticket has never moved from its initial status, record it as a self-loop (source and target are the same)\n",
    "               - Use `get_status_transitions_summary` to show what data is available\n",
    "            \n",
    "            4. **For starting fresh analysis on a new data set:**\n",
    "               - Use `clear_status_transitions_data_set` if user wants to start **fresh analysis**.\n",
    "               - Always call `get_status_transitions_summary` after clearing to confirm the data has been cleared.\n",
    "\n",
    "            5. **For getting an overview of the extracted tickets and their status transitions:**\n",
    "               - Use `get_status_transitions_summary` to show what data is available. If there is no data extracted yet, then inform the user that their data set is currently empty.\n",
    "            \n",
    "            **Crucial Rules**:\n",
    "            - **Handling Out-of-Scope Requests:** If a user's question is not related to JIRA ticket analysis or status flow visualization, politely decline and explain your capabilities are limited to JIRA workflow analysis.\n",
    "            - **Data Processing:** Always process tickets one at a time - get changelog, then extract transitions, before moving to the next ticket.\n",
    "            - **Accurate Analysis:** If you cannot find changelog data or encounter errors, explain what went wrong and suggest alternative approaches.\n",
    "            \n",
    "            **Hard Rule**:\n",
    "            - **Follow the workflow sequence**: Always get changelog first, then extract transitions, then visualize. Do not skip steps.\n",
    "            \n",
    "            Be helpful. Be accurate. Be effective.\n",
    "            \"\"\",\n",
    "    tools=[\n",
    "        get_jira_ticket_changelog,\n",
    "        get_jira_ticket_status_transitions,\n",
    "        create_sankey_diagram,\n",
    "        create_jira_ticket_status_time_bar_chart,\n",
    "        create_jira_ticket_status_histogram,\n",
    "        clear_status_transitions_data_set,\n",
    "        get_status_transitions_summary,\n",
    "        \n",
    "        MCPToolset(\n",
    "            connection_params=StdioConnectionParams(\n",
    "                server_params=StdioServerParameters(\n",
    "                    command='npx',\n",
    "                    args=[\n",
    "                        '-y',  # Auto-confirm npx install\n",
    "                        'mcp-remote',\n",
    "                        'https://mcp.atlassian.com/v1/sse'\n",
    "                    ],\n",
    "                ),\n",
    "                timeout=300 \n",
    "            ),\n",
    "            # tool_filter=['getConfluenceSpaces', 'getConfluencePage'] # Example how to filter tools - only the listed ones are then allowed.\n",
    "        ),\n",
    "    ],\n",
    ")\n",
    "\n",
    "\n",
    "# Setup session and runner  \n",
    "session_service = InMemorySessionService()\n",
    "runner = Runner(agent=agent, app_name=\"product_doc_assistant\", session_service=session_service)\n",
    "\n",
    "# Global session setup\n",
    "USER_ID = \"user\"\n",
    "SESSION_ID = \"product_doc_conversation\"\n",
    "session_initialized = False\n",
    "\n",
    "\n",
    "async def chat():\n",
    "    \"\"\"Start interactive conversation with the agent\"\"\"\n",
    "    global session_initialized\n",
    "    \n",
    "    if not session_initialized:\n",
    "        await session_service.create_session(\n",
    "            app_name=\"product_doc_assistant\",\n",
    "            user_id=USER_ID,\n",
    "            session_id=SESSION_ID\n",
    "        )\n",
    "        session_initialized = True\n",
    "        print(\"🤖 Hello! I'm here to assist with your documentation needs. Please ask me a question about the product, or type 'quit', 'exit', 'stop' to end our chat.\")\n",
    "    \n",
    "    \n",
    "    while True:\n",
    "        user_input = input(\"You: \").strip()\n",
    "        \n",
    "        if user_input.lower() in ['quit', 'exit', 'stop']:\n",
    "            print(\"👋 Goodbye!\")\n",
    "            break\n",
    "            \n",
    "        if not user_input:\n",
    "            continue\n",
    "            \n",
    "        message = types.Content(role='user', parts=[types.Part(text=user_input)])\n",
    "        print(\"Agent: \", end=\"\", flush=True)\n",
    "        \n",
    "        with open(os.devnull, 'w') as f, contextlib.redirect_stderr(f):\n",
    "            async for event in runner.run_async(\n",
    "                user_id=USER_ID,\n",
    "                session_id=SESSION_ID,\n",
    "                new_message=message\n",
    "            ):\n",
    "                if event.content and event.content.parts:\n",
    "                    for part in event.content.parts:\n",
    "                        if part.text:\n",
    "                            print(part.text, end=\"\", flush=True)\n",
    "        \n",
    "        print(\"\\n\")\n",
    "\n",
    "# [DEBUG] Use this to print the full execution output\n",
    "# async def chat():\n",
    "#     \"\"\"Start interactive conversation with the agent\"\"\"\n",
    "#     global session_initialized\n",
    "    \n",
    "#     if not session_initialized:\n",
    "#         await session_service.create_session(\n",
    "#             app_name=\"product_doc_assistant\",\n",
    "#             user_id=USER_ID,\n",
    "#             session_id=SESSION_ID\n",
    "#         )\n",
    "#         session_initialized = True\n",
    "#         print(\"🤖 Hello! I'm here to assist with your documentation needs. Please ask me a question about the product, or type 'quit' to end our chat.\")\n",
    "    \n",
    "#     while True:\n",
    "#         user_input = input(\"You: \").strip()\n",
    "        \n",
    "#         if user_input.lower() in ['quit', 'exit', 'stop']:\n",
    "#             print(\"👋 Goodbye!\")\n",
    "#             break\n",
    "            \n",
    "#         if not user_input:\n",
    "#             continue\n",
    "            \n",
    "#         message = types.Content(role='user', parts=[types.Part(text=user_input)])\n",
    "#         print(\"Agent: \", end=\"\", flush=True)\n",
    "        \n",
    "#         events = []\n",
    "#         async for event in runner.run_async(\n",
    "#             user_id=USER_ID,\n",
    "#             session_id=SESSION_ID,\n",
    "#             new_message=message\n",
    "#         ):\n",
    "#             events.append(event)\n",
    "#             print(\"\\n────────── RAW EVENT ──────────\")\n",
    "#             print(json.dumps(event.model_dump(), indent=2, default=str))\n",
    "#             print(\n",
    "#                 f\"[{type(event).__name__:<25}] \"\n",
    "#                 f\"author={event.author:<15} \"\n",
    "#                 f\"final={event.is_final_response()}\"\n",
    "#             )\n",
    "            \n",
    "#             # Print content parts (LLM output)\n",
    "#             if event.content and event.content.parts:\n",
    "#                 for part in event.content.parts:\n",
    "#                     if part.text:\n",
    "#                         print(\"💬 text →\", part.text.strip())\n",
    "            \n",
    "#             # Tool calls\n",
    "#             for call in event.get_function_calls():\n",
    "#                 print(f\"🔧 tool‐call → {call.name}({json.dumps(call.args, indent=2)})\")\n",
    "            \n",
    "#             # Tool results\n",
    "#             for resp in event.get_function_responses():\n",
    "#                 print(f\"[TOOL] tool‐result → {resp.name} → {json.dumps(resp.response.model_dump() if hasattr(resp.response, 'model_dump') else str(resp.response), indent=2, default=str)}\")\n",
    "            \n",
    "#             # State delta\n",
    "#             if event.actions and event.actions.state_delta:\n",
    "#                 print(\"[STATE] state Δ →\", json.dumps(event.actions.state_delta, indent=2))\n",
    "#             if event.actions and event.actions.artifact_delta:\n",
    "#                 print(\"[ARTIFACT] artifact Δ →\", json.dumps(event.actions.artifact_delta, indent=2))\n",
    "        \n",
    "#         # Final output\n",
    "#         final_text = (\n",
    "#             events[-1].content.parts[0].text\n",
    "#             if events and events[-1].content and events[-1].content.parts else \"\"\n",
    "#         )\n",
    "#         print(\"\\n===== ✅ FINAL ANSWER =====\")\n",
    "#         print(final_text or \"(no text)\")\n",
    "#         print(\"\\n\")"
   ]
  },
  {
   "cell_type": "code",
   "execution_count": 20,
   "id": "12f9102c-95d4-41ed-9a66-361cdb1547ba",
   "metadata": {},
   "outputs": [
    {
     "name": "stdout",
     "output_type": "stream",
     "text": [
      "🤖 Hello! I'm here to assist with your documentation needs. Please ask me a question about the product, or type 'quit', 'exit', 'stop' to end our chat.\n"
     ]
    },
    {
     "name": "stdin",
     "output_type": "stream",
     "text": [
      "You:  get the list of tickets in jira epic sky-550\n"
     ]
    },
    {
     "name": "stdout",
     "output_type": "stream",
     "text": [
      "Agent: Here are the tickets in the epic SKY-550:\n",
      "\n",
      "*   **SKY-564**: Enable asset actions in Marmind (Status: Selected for Development)\n",
      "*   **SKY-563**: Assets usage tracking (Status: Backlog)\n",
      "*   **SKY-562**: Enable asset metadata synchronisation (Status: In Progress)\n",
      "*   **SKY-561**: Enable asset upload to DAM (Status: Backlog)\n",
      "*   **SKY-560**: Implement user roles and permissions (Status: Done)\n",
      "*   **SKY-558**: Implement asset assignment (Status: In Progress)\n",
      "*   **SKY-557**: Enable asset preview in Marmind (Status: In Progress)\n",
      "*   **SKY-556**: Enable asset search in Marmind (Status: In Progress)\n",
      "*   **SKY-555**: Connect to the DAM system API (Status: In Progress)\n",
      "\n"
     ]
    },
    {
     "name": "stdin",
     "output_type": "stream",
     "text": [
      "You:  make analysis on the status transitions of the tickets in this epic\n"
     ]
    },
    {
     "name": "stdout",
     "output_type": "stream",
     "text": [
      "Agent: 🔍 [<function clear_status_transitions_data_set at 0x12b5b68e0>] State check: 0 transitions in context\n",
      "🔍 [<function clear_status_transitions_data_set at 0x12b5b68e0>] Context ID: 4998684816\n",
      "Status transitions set is empty!\n",
      "🔍 [<function get_status_transitions_summary at 0x12b5b6480>] State check: 0 transitions in context\n",
      "🔍 [<function get_status_transitions_summary at 0x12b5b6480>] Context ID: 4998681072\n",
      "Current Status Transitions Data Summary\n",
      "==================================================\n",
      "Transition Data: None - status transitions set is empty\n",
      "Cached Changelog: None\n",
      "==================================================\n",
      "I have cleared the previous data set. Now I will retrieve the changelog and extract status transitions for each ticket:\n",
      "\n",
      "**SKY-564**: Enable asset actions in Marmind\n",
      "**SKY-563**: Assets usage tracking\n",
      "**SKY-562**: Enable asset metadata synchronisation\n",
      "**SKY-561**: Enable asset upload to DAM\n",
      "**SKY-560**: Implement user roles and permissions\n",
      "**SKY-558**: Implement asset assignment\n",
      "**SKY-557**: Enable asset preview in Marmind\n",
      "**SKY-556**: Enable asset search in Marmind\n",
      "**SKY-555**: Connect to the DAM system API🔍 [<function get_jira_ticket_status_transitions at 0x12b5b6a20>] State check: 0 transitions in context\n",
      "🔍 [<function get_jira_ticket_status_transitions at 0x12b5b6a20>] Context ID: 4998683664\n",
      "Raw Gemini response:\n",
      " ```json\n",
      "[\n",
      "  {\n",
      "    \"issue_key\": \"SKY-564\",\n",
      "    \"from_date\": \"2024-12-14T20:47:58.800+0100\",\n",
      "    \"from_status\": \"Backlog\",\n",
      "    \"to_date\": \"2025-09-21T11:13:02.912+0200\",\n",
      "    \"to_status\": \"Selected for Development\"\n",
      "  },\n",
      "  {\n",
      "    \"issue_key\": \"SKY-564\",\n",
      "    \"from_date\": \"2025-09-21T11:13:02.912+0200\",\n",
      "    \"from_status\": \"Selected for Development\",\n",
      "    \"to_date\": \"2025-09-23T00:00:00.000+0000\",\n",
      "    \"to_status\": \"Selected for Development\"\n",
      "  }\n",
      "]\n",
      "```\n",
      "Ticket lifetime: 283 days (created: 2024-12-14)\n",
      "\n",
      "============================================================\n",
      "STATUS TRANSITIONS PROCESSED\n",
      "============================================================\n",
      "✅ Added: 2 new transitions\n",
      "📊 Total in context: 2 transitions\n",
      "\n",
      "📈 New transitions added:\n",
      "1. SKY-564: Backlog → Selected for Development (281 days)\n",
      "2. SKY-564: Selected for Development → Selected for Development (2 days)\n",
      "============================================================\n",
      "\n",
      "🔍 [<function get_jira_ticket_status_transitions at 0x12b5b6a20>] State check: 2 transitions in context\n",
      "🔍 [<function get_jira_ticket_status_transitions at 0x12b5b6a20>] Context ID: 4998682896\n",
      "Raw Gemini response:\n",
      " ```json\n",
      "[\n",
      "  {\n",
      "    \"issue_key\": \"SKY-563\",\n",
      "    \"from_date\": \"2024-12-13T17:13:50.228+0100\",\n",
      "    \"from_status\": \"Backlog\",\n",
      "    \"to_date\": \"2025-09-23T00:00:00.000+0000\",\n",
      "    \"to_status\": \"Backlog\"\n",
      "  }\n",
      "]\n",
      "```\n",
      "Ticket lifetime: 285 days (created: 2024-12-13)\n",
      "\n",
      "============================================================\n",
      "STATUS TRANSITIONS PROCESSED\n",
      "============================================================\n",
      "✅ Added: 1 new transitions\n",
      "📊 Total in context: 3 transitions\n",
      "\n",
      "📈 New transitions added:\n",
      "1. SKY-563: Backlog → Backlog (284 days)\n",
      "============================================================\n",
      "\n",
      "🔍 [<function get_jira_ticket_status_transitions at 0x12b5b6a20>] State check: 3 transitions in context\n",
      "🔍 [<function get_jira_ticket_status_transitions at 0x12b5b6a20>] Context ID: 4998683760\n",
      "Raw Gemini response:\n",
      " ```json\n",
      "[\n",
      "  {\n",
      "    \"issue_key\": \"SKY-562\",\n",
      "    \"from_date\": \"2024-12-13T17:06:51.833+0100\",\n",
      "    \"from_status\": \"Backlog\",\n",
      "    \"to_date\": \"2025-09-20T08:55:03.917+0200\",\n",
      "    \"to_status\": \"In Progress\"\n",
      "  },\n",
      "  {\n",
      "    \"issue_key\": \"SKY-562\",\n",
      "    \"from_date\": \"2025-09-20T08:55:03.917+0200\",\n",
      "    \"from_status\": \"In Progress\",\n",
      "    \"to_date\": \"2025-09-23T00:00:00.000+0000\",\n",
      "    \"to_status\": \"In Progress\"\n",
      "  }\n",
      "]\n",
      "```\n",
      "Ticket lifetime: 285 days (created: 2024-12-13)\n",
      "\n",
      "============================================================\n",
      "STATUS TRANSITIONS PROCESSED\n",
      "============================================================\n",
      "✅ Added: 2 new transitions\n",
      "📊 Total in context: 5 transitions\n",
      "\n",
      "📈 New transitions added:\n",
      "1. SKY-562: Backlog → In Progress (281 days)\n",
      "2. SKY-562: In Progress → In Progress (3 days)\n",
      "============================================================\n",
      "\n",
      "🔍 [<function get_jira_ticket_status_transitions at 0x12b5b6a20>] State check: 5 transitions in context\n",
      "🔍 [<function get_jira_ticket_status_transitions at 0x12b5b6a20>] Context ID: 4998684432\n",
      "Raw Gemini response:\n",
      " ```json\n",
      "[\n",
      "  {\n",
      "    \"issue_key\": \"SKY-561\",\n",
      "    \"from_date\": \"2024-12-13T17:06:21.467+0100\",\n",
      "    \"from_status\": \"Backlog\",\n",
      "    \"to_date\": \"2025-09-23T00:00:00.000+0000\",\n",
      "    \"to_status\": \"Backlog\"\n",
      "  }\n",
      "]\n",
      "```\n",
      "Ticket lifetime: 285 days (created: 2024-12-13)\n",
      "\n",
      "============================================================\n",
      "STATUS TRANSITIONS PROCESSED\n",
      "============================================================\n",
      "✅ Added: 1 new transitions\n",
      "📊 Total in context: 6 transitions\n",
      "\n",
      "📈 New transitions added:\n",
      "1. SKY-561: Backlog → Backlog (284 days)\n",
      "============================================================\n",
      "\n",
      "🔍 [<function get_jira_ticket_status_transitions at 0x12b5b6a20>] State check: 6 transitions in context\n",
      "🔍 [<function get_jira_ticket_status_transitions at 0x12b5b6a20>] Context ID: 4998684816\n",
      "Raw Gemini response:\n",
      " ```json\n",
      "[\n",
      "  {\n",
      "    \"issue_key\": \"SKY-560\",\n",
      "    \"from_date\": \"2024-12-13T17:01:12.419+0100\",\n",
      "    \"from_status\": \"Backlog\",\n",
      "    \"to_date\": \"2025-09-20T08:54:57.761+0200\",\n",
      "    \"to_status\": \"In Progress\"\n",
      "  },\n",
      "  {\n",
      "    \"issue_key\": \"SKY-560\",\n",
      "    \"from_date\": \"2025-09-20T08:54:57.761+0200\",\n",
      "    \"from_status\": \"In Progress\",\n",
      "    \"to_date\": \"2025-09-21T11:12:27.160+0200\",\n",
      "    \"to_status\": \"Done\"\n",
      "  },\n",
      "  {\n",
      "    \"issue_key\": \"SKY-560\",\n",
      "    \"from_date\": \"2025-09-21T11:12:27.160+0200\",\n",
      "    \"from_status\": \"Done\",\n",
      "    \"to_date\": \"2025-09-23T00:00:00.000+0000\",\n",
      "    \"to_status\": \"Done\"\n",
      "  }\n",
      "]\n",
      "```\n",
      "Ticket lifetime: 285 days (created: 2024-12-13)\n",
      "\n",
      "============================================================\n",
      "STATUS TRANSITIONS PROCESSED\n",
      "============================================================\n",
      "✅ Added: 3 new transitions\n",
      "📊 Total in context: 9 transitions\n",
      "\n",
      "📈 New transitions added:\n",
      "1. SKY-560: Backlog → In Progress (281 days)\n",
      "2. SKY-560: In Progress → Done (2 days)\n",
      "3. SKY-560: Done → Done (2 days)\n",
      "============================================================\n",
      "\n",
      "🔍 [<function get_jira_ticket_status_transitions at 0x12b5b6a20>] State check: 9 transitions in context\n",
      "🔍 [<function get_jira_ticket_status_transitions at 0x12b5b6a20>] Context ID: 4998684912\n",
      "Raw Gemini response:\n",
      " ```json\n",
      "[\n",
      "  {\n",
      "    \"issue_key\": \"SKY-558\",\n",
      "    \"from_date\": \"2024-12-13T16:54:42.357+0100\",\n",
      "    \"from_status\": \"Backlog\",\n",
      "    \"to_date\": \"2025-09-20T08:54:53.001+0200\",\n",
      "    \"to_status\": \"Selected for Development\"\n",
      "  },\n",
      "  {\n",
      "    \"issue_key\": \"SKY-558\",\n",
      "    \"from_date\": \"2025-09-20T08:54:53.001+0200\",\n",
      "    \"from_status\": \"Selected for Development\",\n",
      "    \"to_date\": \"2025-09-22T18:36:13.405+0200\",\n",
      "    \"to_status\": \"In Progress\"\n",
      "  },\n",
      "  {\n",
      "    \"issue_key\": \"SKY-558\",\n",
      "    \"from_date\": \"2025-09-22T18:36:13.405+0200\",\n",
      "    \"from_status\": \"In Progress\",\n",
      "    \"to_date\": \"2025-09-23T00:00:00.000+0000\",\n",
      "    \"to_status\": \"In Progress\"\n",
      "  }\n",
      "]\n",
      "```\n",
      "Ticket lifetime: 285 days (created: 2024-12-13)\n",
      "\n",
      "============================================================\n",
      "STATUS TRANSITIONS PROCESSED\n",
      "============================================================\n",
      "✅ Added: 3 new transitions\n",
      "📊 Total in context: 12 transitions\n",
      "\n",
      "📈 New transitions added:\n",
      "1. SKY-558: Backlog → Selected for Development (281 days)\n",
      "2. SKY-558: Selected for Development → In Progress (3 days)\n",
      "3. SKY-558: In Progress → In Progress (1 days)\n",
      "============================================================\n",
      "\n",
      "🔍 [<function get_jira_ticket_status_transitions at 0x12b5b6a20>] State check: 12 transitions in context\n",
      "🔍 [<function get_jira_ticket_status_transitions at 0x12b5b6a20>] Context ID: 4998690672\n",
      "Raw Gemini response:\n",
      " ```json\n",
      "[\n",
      "  {\n",
      "    \"issue_key\": \"SKY-557\",\n",
      "    \"from_date\": \"2024-12-13T16:51:34.956+0100\",\n",
      "    \"from_status\": \"Backlog\",\n",
      "    \"to_date\": \"2025-09-21T11:12:59.082+0200\",\n",
      "    \"to_status\": \"Selected for Development\"\n",
      "  },\n",
      "  {\n",
      "    \"issue_key\": \"SKY-557\",\n",
      "    \"from_date\": \"2025-09-21T11:12:59.082+0200\",\n",
      "    \"from_status\": \"Selected for Development\",\n",
      "    \"to_date\": \"2025-09-22T18:36:17.641+0200\",\n",
      "    \"to_status\": \"In Progress\"\n",
      "  },\n",
      "  {\n",
      "    \"issue_key\": \"SKY-557\",\n",
      "    \"from_date\": \"2025-09-22T18:36:17.641+0200\",\n",
      "    \"from_status\": \"In Progress\",\n",
      "    \"to_date\": \"2025-09-23T00:00:00.000+0000\",\n",
      "    \"to_status\": \"In Progress\"\n",
      "  }\n",
      "]\n",
      "```\n",
      "Ticket lifetime: 285 days (created: 2024-12-13)\n",
      "\n",
      "============================================================\n",
      "STATUS TRANSITIONS PROCESSED\n",
      "============================================================\n",
      "✅ Added: 3 new transitions\n",
      "📊 Total in context: 15 transitions\n",
      "\n",
      "📈 New transitions added:\n",
      "1. SKY-557: Backlog → Selected for Development (282 days)\n",
      "2. SKY-557: Selected for Development → In Progress (2 days)\n",
      "3. SKY-557: In Progress → In Progress (1 days)\n",
      "============================================================\n",
      "\n",
      "🔍 [<function get_jira_ticket_status_transitions at 0x12b5b6a20>] State check: 15 transitions in context\n",
      "🔍 [<function get_jira_ticket_status_transitions at 0x12b5b6a20>] Context ID: 4998689616\n",
      "Raw Gemini response:\n",
      " ```json\n",
      "[\n",
      "  {\n",
      "    \"issue_key\": \"SKY-556\",\n",
      "    \"from_date\": \"2024-12-13T16:49:13.102+0100\",\n",
      "    \"from_status\": \"Backlog\",\n",
      "    \"to_date\": \"2025-09-20T08:54:47.754+0200\",\n",
      "    \"to_status\": \"Selected for Development\"\n",
      "  },\n",
      "  {\n",
      "    \"issue_key\": \"SKY-556\",\n",
      "    \"from_date\": \"2025-09-20T08:54:47.754+0200\",\n",
      "    \"from_status\": \"Selected for Development\",\n",
      "    \"to_date\": \"2025-09-21T11:12:10.525+0200\",\n",
      "    \"to_status\": \"In Progress\"\n",
      "  },\n",
      "  {\n",
      "    \"issue_key\": \"SKY-556\",\n",
      "    \"from_date\": \"2025-09-21T11:12:10.525+0200\",\n",
      "    \"from_status\": \"In Progress\",\n",
      "    \"to_date\": \"2025-09-23T00:00:00.000+0000\",\n",
      "    \"to_status\": \"In Progress\"\n",
      "  }\n",
      "]\n",
      "```\n",
      "Ticket lifetime: 285 days (created: 2024-12-13)\n",
      "\n",
      "============================================================\n",
      "STATUS TRANSITIONS PROCESSED\n",
      "============================================================\n",
      "✅ Added: 3 new transitions\n",
      "📊 Total in context: 18 transitions\n",
      "\n",
      "📈 New transitions added:\n",
      "1. SKY-556: Backlog → Selected for Development (281 days)\n",
      "2. SKY-556: Selected for Development → In Progress (2 days)\n",
      "3. SKY-556: In Progress → In Progress (2 days)\n",
      "============================================================\n",
      "\n",
      "🔍 [<function get_jira_ticket_status_transitions at 0x12b5b6a20>] State check: 18 transitions in context\n",
      "🔍 [<function get_jira_ticket_status_transitions at 0x12b5b6a20>] Context ID: 4998685392\n",
      "Raw Gemini response:\n",
      " ```json\n",
      "[\n",
      "  {\n",
      "    \"issue_key\": \"SKY-555\",\n",
      "    \"from_date\": \"2024-12-13T16:47:30.161+0100\",\n",
      "    \"from_status\": \"Backlog\",\n",
      "    \"to_date\": \"2025-09-19T18:35:53.722+0200\",\n",
      "    \"to_status\": \"In Progress\"\n",
      "  },\n",
      "  {\n",
      "    \"issue_key\": \"SKY-555\",\n",
      "    \"from_date\": \"2025-09-19T18:35:53.722+0200\",\n",
      "    \"from_status\": \"In Progress\",\n",
      "    \"to_date\": \"2025-09-19T19:05:30.289+0200\",\n",
      "    \"to_status\": \"Done\"\n",
      "  },\n",
      "  {\n",
      "    \"issue_key\": \"SKY-555\",\n",
      "    \"from_date\": \"2025-09-19T19:05:30.289+0200\",\n",
      "    \"from_status\": \"Done\",\n",
      "    \"to_date\": \"2025-09-21T12:28:40.437+0200\",\n",
      "    \"to_status\": \"In Progress\"\n",
      "  },\n",
      "  {\n",
      "    \"issue_key\": \"SKY-555\",\n",
      "    \"from_date\": \"2025-09-21T12:28:40.437+0200\",\n",
      "    \"from_status\": \"In Progress\",\n",
      "    \"to_date\": \"2025-09-23T00:00:00.000+0000\",\n",
      "    \"to_status\": \"In Progress\"\n",
      "  }\n",
      "]\n",
      "```\n",
      "Ticket lifetime: 285 days (created: 2024-12-13)\n",
      "\n",
      "============================================================\n",
      "STATUS TRANSITIONS PROCESSED\n",
      "============================================================\n",
      "✅ Added: 4 new transitions\n",
      "📊 Total in context: 22 transitions\n",
      "\n",
      "📈 New transitions added:\n",
      "1. SKY-555: Backlog → In Progress (281 days)\n",
      "2. SKY-555: In Progress → Done (1 days)\n",
      "3. SKY-555: Done → In Progress (2 days)\n",
      "4. SKY-555: In Progress → In Progress (2 days)\n",
      "============================================================\n",
      "\n",
      "🔍 [<function create_sankey_diagram at 0x12b5b6ac0>] State check: 22 transitions in context\n",
      "🔍 [<function create_sankey_diagram at 0x12b5b6ac0>] Context ID: 4998689520\n"
     ]
    },
    {
     "data": {
      "text/html": [
       "        <script type=\"text/javascript\">\n",
       "        window.PlotlyConfig = {MathJaxConfig: 'local'};\n",
       "        if (window.MathJax && window.MathJax.Hub && window.MathJax.Hub.Config) {window.MathJax.Hub.Config({SVG: {font: \"STIX-Web\"}});}\n",
       "        </script>\n",
       "        <script type=\"module\">import \"https://cdn.plot.ly/plotly-3.0.1.min\"</script>\n",
       "        "
      ]
     },
     "metadata": {},
     "output_type": "display_data"
    },
    {
     "name": "stdout",
     "output_type": "stream",
     "text": [
      "\n",
      "📋 Raw Transition Data for Sankey Diagram\n",
      "================================================================================\n"
     ]
    },
    {
     "data": {
      "text/html": [
       "<div>\n",
       "<style scoped>\n",
       "    .dataframe tbody tr th:only-of-type {\n",
       "        vertical-align: middle;\n",
       "    }\n",
       "\n",
       "    .dataframe tbody tr th {\n",
       "        vertical-align: top;\n",
       "    }\n",
       "\n",
       "    .dataframe thead th {\n",
       "        text-align: right;\n",
       "    }\n",
       "</style>\n",
       "<table border=\"1\" class=\"dataframe\">\n",
       "  <thead>\n",
       "    <tr style=\"text-align: right;\">\n",
       "      <th></th>\n",
       "      <th>issue_key</th>\n",
       "      <th>source_status</th>\n",
       "      <th>target_status</th>\n",
       "      <th>transition_days</th>\n",
       "      <th>note</th>\n",
       "    </tr>\n",
       "  </thead>\n",
       "  <tbody>\n",
       "    <tr>\n",
       "      <th>0</th>\n",
       "      <td>SKY-564</td>\n",
       "      <td>Backlog</td>\n",
       "      <td>Selected for Development</td>\n",
       "      <td>281</td>\n",
       "      <td>(from beginning)</td>\n",
       "    </tr>\n",
       "    <tr>\n",
       "      <th>1</th>\n",
       "      <td>SKY-564</td>\n",
       "      <td>Selected for Development</td>\n",
       "      <td>Selected for Development</td>\n",
       "      <td>2</td>\n",
       "      <td>(self-loop)</td>\n",
       "    </tr>\n",
       "    <tr>\n",
       "      <th>2</th>\n",
       "      <td>SKY-563</td>\n",
       "      <td>Backlog</td>\n",
       "      <td>Backlog</td>\n",
       "      <td>284</td>\n",
       "      <td>(self-loop)</td>\n",
       "    </tr>\n",
       "    <tr>\n",
       "      <th>3</th>\n",
       "      <td>SKY-562</td>\n",
       "      <td>Backlog</td>\n",
       "      <td>In Progress</td>\n",
       "      <td>281</td>\n",
       "      <td>(from beginning)</td>\n",
       "    </tr>\n",
       "    <tr>\n",
       "      <th>4</th>\n",
       "      <td>SKY-562</td>\n",
       "      <td>In Progress</td>\n",
       "      <td>In Progress</td>\n",
       "      <td>3</td>\n",
       "      <td>(self-loop)</td>\n",
       "    </tr>\n",
       "    <tr>\n",
       "      <th>5</th>\n",
       "      <td>SKY-561</td>\n",
       "      <td>Backlog</td>\n",
       "      <td>Backlog</td>\n",
       "      <td>284</td>\n",
       "      <td>(self-loop)</td>\n",
       "    </tr>\n",
       "    <tr>\n",
       "      <th>6</th>\n",
       "      <td>SKY-560</td>\n",
       "      <td>Backlog</td>\n",
       "      <td>In Progress</td>\n",
       "      <td>281</td>\n",
       "      <td>(from beginning)</td>\n",
       "    </tr>\n",
       "    <tr>\n",
       "      <th>7</th>\n",
       "      <td>SKY-560</td>\n",
       "      <td>In Progress</td>\n",
       "      <td>Done</td>\n",
       "      <td>2</td>\n",
       "      <td>(to end)</td>\n",
       "    </tr>\n",
       "    <tr>\n",
       "      <th>8</th>\n",
       "      <td>SKY-560</td>\n",
       "      <td>Done</td>\n",
       "      <td>Done</td>\n",
       "      <td>2</td>\n",
       "      <td>(self-loop)</td>\n",
       "    </tr>\n",
       "    <tr>\n",
       "      <th>9</th>\n",
       "      <td>SKY-558</td>\n",
       "      <td>Backlog</td>\n",
       "      <td>Selected for Development</td>\n",
       "      <td>281</td>\n",
       "      <td>(from beginning)</td>\n",
       "    </tr>\n",
       "    <tr>\n",
       "      <th>10</th>\n",
       "      <td>SKY-558</td>\n",
       "      <td>Selected for Development</td>\n",
       "      <td>In Progress</td>\n",
       "      <td>3</td>\n",
       "      <td></td>\n",
       "    </tr>\n",
       "    <tr>\n",
       "      <th>11</th>\n",
       "      <td>SKY-558</td>\n",
       "      <td>In Progress</td>\n",
       "      <td>In Progress</td>\n",
       "      <td>1</td>\n",
       "      <td>(self-loop)</td>\n",
       "    </tr>\n",
       "    <tr>\n",
       "      <th>12</th>\n",
       "      <td>SKY-557</td>\n",
       "      <td>Backlog</td>\n",
       "      <td>Selected for Development</td>\n",
       "      <td>282</td>\n",
       "      <td>(from beginning)</td>\n",
       "    </tr>\n",
       "    <tr>\n",
       "      <th>13</th>\n",
       "      <td>SKY-557</td>\n",
       "      <td>Selected for Development</td>\n",
       "      <td>In Progress</td>\n",
       "      <td>2</td>\n",
       "      <td></td>\n",
       "    </tr>\n",
       "    <tr>\n",
       "      <th>14</th>\n",
       "      <td>SKY-557</td>\n",
       "      <td>In Progress</td>\n",
       "      <td>In Progress</td>\n",
       "      <td>1</td>\n",
       "      <td>(self-loop)</td>\n",
       "    </tr>\n",
       "    <tr>\n",
       "      <th>15</th>\n",
       "      <td>SKY-556</td>\n",
       "      <td>Backlog</td>\n",
       "      <td>Selected for Development</td>\n",
       "      <td>281</td>\n",
       "      <td>(from beginning)</td>\n",
       "    </tr>\n",
       "    <tr>\n",
       "      <th>16</th>\n",
       "      <td>SKY-556</td>\n",
       "      <td>Selected for Development</td>\n",
       "      <td>In Progress</td>\n",
       "      <td>2</td>\n",
       "      <td></td>\n",
       "    </tr>\n",
       "    <tr>\n",
       "      <th>17</th>\n",
       "      <td>SKY-556</td>\n",
       "      <td>In Progress</td>\n",
       "      <td>In Progress</td>\n",
       "      <td>2</td>\n",
       "      <td>(self-loop)</td>\n",
       "    </tr>\n",
       "    <tr>\n",
       "      <th>18</th>\n",
       "      <td>SKY-555</td>\n",
       "      <td>Backlog</td>\n",
       "      <td>In Progress</td>\n",
       "      <td>281</td>\n",
       "      <td>(from beginning)</td>\n",
       "    </tr>\n",
       "    <tr>\n",
       "      <th>19</th>\n",
       "      <td>SKY-555</td>\n",
       "      <td>In Progress</td>\n",
       "      <td>Done</td>\n",
       "      <td>1</td>\n",
       "      <td>(to end)</td>\n",
       "    </tr>\n",
       "    <tr>\n",
       "      <th>20</th>\n",
       "      <td>SKY-555</td>\n",
       "      <td>Done</td>\n",
       "      <td>In Progress</td>\n",
       "      <td>2</td>\n",
       "      <td></td>\n",
       "    </tr>\n",
       "    <tr>\n",
       "      <th>21</th>\n",
       "      <td>SKY-555</td>\n",
       "      <td>In Progress</td>\n",
       "      <td>In Progress</td>\n",
       "      <td>2</td>\n",
       "      <td>(self-loop)</td>\n",
       "    </tr>\n",
       "  </tbody>\n",
       "</table>\n",
       "</div>"
      ],
      "text/plain": [
       "   issue_key             source_status             target_status  \\\n",
       "0    SKY-564                   Backlog  Selected for Development   \n",
       "1    SKY-564  Selected for Development  Selected for Development   \n",
       "2    SKY-563                   Backlog                   Backlog   \n",
       "3    SKY-562                   Backlog               In Progress   \n",
       "4    SKY-562               In Progress               In Progress   \n",
       "5    SKY-561                   Backlog                   Backlog   \n",
       "6    SKY-560                   Backlog               In Progress   \n",
       "7    SKY-560               In Progress                      Done   \n",
       "8    SKY-560                      Done                      Done   \n",
       "9    SKY-558                   Backlog  Selected for Development   \n",
       "10   SKY-558  Selected for Development               In Progress   \n",
       "11   SKY-558               In Progress               In Progress   \n",
       "12   SKY-557                   Backlog  Selected for Development   \n",
       "13   SKY-557  Selected for Development               In Progress   \n",
       "14   SKY-557               In Progress               In Progress   \n",
       "15   SKY-556                   Backlog  Selected for Development   \n",
       "16   SKY-556  Selected for Development               In Progress   \n",
       "17   SKY-556               In Progress               In Progress   \n",
       "18   SKY-555                   Backlog               In Progress   \n",
       "19   SKY-555               In Progress                      Done   \n",
       "20   SKY-555                      Done               In Progress   \n",
       "21   SKY-555               In Progress               In Progress   \n",
       "\n",
       "    transition_days              note  \n",
       "0               281  (from beginning)  \n",
       "1                 2       (self-loop)  \n",
       "2               284       (self-loop)  \n",
       "3               281  (from beginning)  \n",
       "4                 3       (self-loop)  \n",
       "5               284       (self-loop)  \n",
       "6               281  (from beginning)  \n",
       "7                 2          (to end)  \n",
       "8                 2       (self-loop)  \n",
       "9               281  (from beginning)  \n",
       "10                3                    \n",
       "11                1       (self-loop)  \n",
       "12              282  (from beginning)  \n",
       "13                2                    \n",
       "14                1       (self-loop)  \n",
       "15              281  (from beginning)  \n",
       "16                2                    \n",
       "17                2       (self-loop)  \n",
       "18              281  (from beginning)  \n",
       "19                1          (to end)  \n",
       "20                2                    \n",
       "21                2       (self-loop)  "
      ]
     },
     "metadata": {},
     "output_type": "display_data"
    },
    {
     "name": "stdout",
     "output_type": "stream",
     "text": [
      "================================================================================\n",
      "\n"
     ]
    },
    {
     "data": {
      "application/vnd.plotly.v1+json": {
       "config": {
        "linkText": "Export to plot.ly",
        "plotlyServerURL": "https://plot.ly",
        "showLink": false
       },
       "data": [
        {
         "link": {
          "hovertemplate": "%{label}<extra></extra>",
          "label": [
           "Backlog → Selected for Development: 1125 days<br>Tickets: SKY-564:281d, SKY-558:281d, SKY-557:282d, SKY-556:281d",
           "Selected for Development → Currently in Selected for Development: 2 days<br>Tickets: SKY-564:2d",
           "Backlog → Currently in Backlog: 568 days<br>Tickets: SKY-563:284d, SKY-561:284d",
           "Backlog → In Progress: 843 days<br>Tickets: SKY-562:281d, SKY-560:281d, SKY-555:281d",
           "In Progress → Currently in In Progress: 9 days<br>Tickets: SKY-562:3d, SKY-558:1d, SKY-557:1d, SKY-556:2d, SKY-555:2d",
           "In Progress → Done: 3 days<br>Tickets: SKY-560:2d, SKY-555:1d",
           "Selected for Development → In Progress: 7 days<br>Tickets: SKY-558:3d, SKY-557:2d, SKY-556:2d",
           "Done → In Progress: 2 days<br>Tickets: SKY-555:2d"
          ],
          "source": [
           0,
           5,
           0,
           0,
           4,
           4,
           5,
           6
          ],
          "target": [
           5,
           3,
           1,
           4,
           2,
           6,
           4,
           4
          ],
          "value": [
           1125,
           2,
           568,
           843,
           9,
           3,
           7,
           2
          ]
         },
         "node": {
          "label": [
           "Backlog",
           "Currently in Backlog",
           "Currently in In Progress",
           "Currently in Selected for Development",
           "In Progress",
           "Selected for Development",
           "Done"
          ],
          "line": {
           "color": "black",
           "width": 0.5
          },
          "pad": 15,
          "thickness": 20
         },
         "type": "sankey"
        }
       ],
       "layout": {
        "font": {
         "size": 12
        },
        "height": 600,
        "template": {
         "data": {
          "bar": [
           {
            "error_x": {
             "color": "#2a3f5f"
            },
            "error_y": {
             "color": "#2a3f5f"
            },
            "marker": {
             "line": {
              "color": "#E5ECF6",
              "width": 0.5
             },
             "pattern": {
              "fillmode": "overlay",
              "size": 10,
              "solidity": 0.2
             }
            },
            "type": "bar"
           }
          ],
          "barpolar": [
           {
            "marker": {
             "line": {
              "color": "#E5ECF6",
              "width": 0.5
             },
             "pattern": {
              "fillmode": "overlay",
              "size": 10,
              "solidity": 0.2
             }
            },
            "type": "barpolar"
           }
          ],
          "carpet": [
           {
            "aaxis": {
             "endlinecolor": "#2a3f5f",
             "gridcolor": "white",
             "linecolor": "white",
             "minorgridcolor": "white",
             "startlinecolor": "#2a3f5f"
            },
            "baxis": {
             "endlinecolor": "#2a3f5f",
             "gridcolor": "white",
             "linecolor": "white",
             "minorgridcolor": "white",
             "startlinecolor": "#2a3f5f"
            },
            "type": "carpet"
           }
          ],
          "choropleth": [
           {
            "colorbar": {
             "outlinewidth": 0,
             "ticks": ""
            },
            "type": "choropleth"
           }
          ],
          "contour": [
           {
            "colorbar": {
             "outlinewidth": 0,
             "ticks": ""
            },
            "colorscale": [
             [
              0,
              "#0d0887"
             ],
             [
              0.1111111111111111,
              "#46039f"
             ],
             [
              0.2222222222222222,
              "#7201a8"
             ],
             [
              0.3333333333333333,
              "#9c179e"
             ],
             [
              0.4444444444444444,
              "#bd3786"
             ],
             [
              0.5555555555555556,
              "#d8576b"
             ],
             [
              0.6666666666666666,
              "#ed7953"
             ],
             [
              0.7777777777777778,
              "#fb9f3a"
             ],
             [
              0.8888888888888888,
              "#fdca26"
             ],
             [
              1,
              "#f0f921"
             ]
            ],
            "type": "contour"
           }
          ],
          "contourcarpet": [
           {
            "colorbar": {
             "outlinewidth": 0,
             "ticks": ""
            },
            "type": "contourcarpet"
           }
          ],
          "heatmap": [
           {
            "colorbar": {
             "outlinewidth": 0,
             "ticks": ""
            },
            "colorscale": [
             [
              0,
              "#0d0887"
             ],
             [
              0.1111111111111111,
              "#46039f"
             ],
             [
              0.2222222222222222,
              "#7201a8"
             ],
             [
              0.3333333333333333,
              "#9c179e"
             ],
             [
              0.4444444444444444,
              "#bd3786"
             ],
             [
              0.5555555555555556,
              "#d8576b"
             ],
             [
              0.6666666666666666,
              "#ed7953"
             ],
             [
              0.7777777777777778,
              "#fb9f3a"
             ],
             [
              0.8888888888888888,
              "#fdca26"
             ],
             [
              1,
              "#f0f921"
             ]
            ],
            "type": "heatmap"
           }
          ],
          "histogram": [
           {
            "marker": {
             "pattern": {
              "fillmode": "overlay",
              "size": 10,
              "solidity": 0.2
             }
            },
            "type": "histogram"
           }
          ],
          "histogram2d": [
           {
            "colorbar": {
             "outlinewidth": 0,
             "ticks": ""
            },
            "colorscale": [
             [
              0,
              "#0d0887"
             ],
             [
              0.1111111111111111,
              "#46039f"
             ],
             [
              0.2222222222222222,
              "#7201a8"
             ],
             [
              0.3333333333333333,
              "#9c179e"
             ],
             [
              0.4444444444444444,
              "#bd3786"
             ],
             [
              0.5555555555555556,
              "#d8576b"
             ],
             [
              0.6666666666666666,
              "#ed7953"
             ],
             [
              0.7777777777777778,
              "#fb9f3a"
             ],
             [
              0.8888888888888888,
              "#fdca26"
             ],
             [
              1,
              "#f0f921"
             ]
            ],
            "type": "histogram2d"
           }
          ],
          "histogram2dcontour": [
           {
            "colorbar": {
             "outlinewidth": 0,
             "ticks": ""
            },
            "colorscale": [
             [
              0,
              "#0d0887"
             ],
             [
              0.1111111111111111,
              "#46039f"
             ],
             [
              0.2222222222222222,
              "#7201a8"
             ],
             [
              0.3333333333333333,
              "#9c179e"
             ],
             [
              0.4444444444444444,
              "#bd3786"
             ],
             [
              0.5555555555555556,
              "#d8576b"
             ],
             [
              0.6666666666666666,
              "#ed7953"
             ],
             [
              0.7777777777777778,
              "#fb9f3a"
             ],
             [
              0.8888888888888888,
              "#fdca26"
             ],
             [
              1,
              "#f0f921"
             ]
            ],
            "type": "histogram2dcontour"
           }
          ],
          "mesh3d": [
           {
            "colorbar": {
             "outlinewidth": 0,
             "ticks": ""
            },
            "type": "mesh3d"
           }
          ],
          "parcoords": [
           {
            "line": {
             "colorbar": {
              "outlinewidth": 0,
              "ticks": ""
             }
            },
            "type": "parcoords"
           }
          ],
          "pie": [
           {
            "automargin": true,
            "type": "pie"
           }
          ],
          "scatter": [
           {
            "fillpattern": {
             "fillmode": "overlay",
             "size": 10,
             "solidity": 0.2
            },
            "type": "scatter"
           }
          ],
          "scatter3d": [
           {
            "line": {
             "colorbar": {
              "outlinewidth": 0,
              "ticks": ""
             }
            },
            "marker": {
             "colorbar": {
              "outlinewidth": 0,
              "ticks": ""
             }
            },
            "type": "scatter3d"
           }
          ],
          "scattercarpet": [
           {
            "marker": {
             "colorbar": {
              "outlinewidth": 0,
              "ticks": ""
             }
            },
            "type": "scattercarpet"
           }
          ],
          "scattergeo": [
           {
            "marker": {
             "colorbar": {
              "outlinewidth": 0,
              "ticks": ""
             }
            },
            "type": "scattergeo"
           }
          ],
          "scattergl": [
           {
            "marker": {
             "colorbar": {
              "outlinewidth": 0,
              "ticks": ""
             }
            },
            "type": "scattergl"
           }
          ],
          "scattermap": [
           {
            "marker": {
             "colorbar": {
              "outlinewidth": 0,
              "ticks": ""
             }
            },
            "type": "scattermap"
           }
          ],
          "scattermapbox": [
           {
            "marker": {
             "colorbar": {
              "outlinewidth": 0,
              "ticks": ""
             }
            },
            "type": "scattermapbox"
           }
          ],
          "scatterpolar": [
           {
            "marker": {
             "colorbar": {
              "outlinewidth": 0,
              "ticks": ""
             }
            },
            "type": "scatterpolar"
           }
          ],
          "scatterpolargl": [
           {
            "marker": {
             "colorbar": {
              "outlinewidth": 0,
              "ticks": ""
             }
            },
            "type": "scatterpolargl"
           }
          ],
          "scatterternary": [
           {
            "marker": {
             "colorbar": {
              "outlinewidth": 0,
              "ticks": ""
             }
            },
            "type": "scatterternary"
           }
          ],
          "surface": [
           {
            "colorbar": {
             "outlinewidth": 0,
             "ticks": ""
            },
            "colorscale": [
             [
              0,
              "#0d0887"
             ],
             [
              0.1111111111111111,
              "#46039f"
             ],
             [
              0.2222222222222222,
              "#7201a8"
             ],
             [
              0.3333333333333333,
              "#9c179e"
             ],
             [
              0.4444444444444444,
              "#bd3786"
             ],
             [
              0.5555555555555556,
              "#d8576b"
             ],
             [
              0.6666666666666666,
              "#ed7953"
             ],
             [
              0.7777777777777778,
              "#fb9f3a"
             ],
             [
              0.8888888888888888,
              "#fdca26"
             ],
             [
              1,
              "#f0f921"
             ]
            ],
            "type": "surface"
           }
          ],
          "table": [
           {
            "cells": {
             "fill": {
              "color": "#EBF0F8"
             },
             "line": {
              "color": "white"
             }
            },
            "header": {
             "fill": {
              "color": "#C8D4E3"
             },
             "line": {
              "color": "white"
             }
            },
            "type": "table"
           }
          ]
         },
         "layout": {
          "annotationdefaults": {
           "arrowcolor": "#2a3f5f",
           "arrowhead": 0,
           "arrowwidth": 1
          },
          "autotypenumbers": "strict",
          "coloraxis": {
           "colorbar": {
            "outlinewidth": 0,
            "ticks": ""
           }
          },
          "colorscale": {
           "diverging": [
            [
             0,
             "#8e0152"
            ],
            [
             0.1,
             "#c51b7d"
            ],
            [
             0.2,
             "#de77ae"
            ],
            [
             0.3,
             "#f1b6da"
            ],
            [
             0.4,
             "#fde0ef"
            ],
            [
             0.5,
             "#f7f7f7"
            ],
            [
             0.6,
             "#e6f5d0"
            ],
            [
             0.7,
             "#b8e186"
            ],
            [
             0.8,
             "#7fbc41"
            ],
            [
             0.9,
             "#4d9221"
            ],
            [
             1,
             "#276419"
            ]
           ],
           "sequential": [
            [
             0,
             "#0d0887"
            ],
            [
             0.1111111111111111,
             "#46039f"
            ],
            [
             0.2222222222222222,
             "#7201a8"
            ],
            [
             0.3333333333333333,
             "#9c179e"
            ],
            [
             0.4444444444444444,
             "#bd3786"
            ],
            [
             0.5555555555555556,
             "#d8576b"
            ],
            [
             0.6666666666666666,
             "#ed7953"
            ],
            [
             0.7777777777777778,
             "#fb9f3a"
            ],
            [
             0.8888888888888888,
             "#fdca26"
            ],
            [
             1,
             "#f0f921"
            ]
           ],
           "sequentialminus": [
            [
             0,
             "#0d0887"
            ],
            [
             0.1111111111111111,
             "#46039f"
            ],
            [
             0.2222222222222222,
             "#7201a8"
            ],
            [
             0.3333333333333333,
             "#9c179e"
            ],
            [
             0.4444444444444444,
             "#bd3786"
            ],
            [
             0.5555555555555556,
             "#d8576b"
            ],
            [
             0.6666666666666666,
             "#ed7953"
            ],
            [
             0.7777777777777778,
             "#fb9f3a"
            ],
            [
             0.8888888888888888,
             "#fdca26"
            ],
            [
             1,
             "#f0f921"
            ]
           ]
          },
          "colorway": [
           "#636efa",
           "#EF553B",
           "#00cc96",
           "#ab63fa",
           "#FFA15A",
           "#19d3f3",
           "#FF6692",
           "#B6E880",
           "#FF97FF",
           "#FECB52"
          ],
          "font": {
           "color": "#2a3f5f"
          },
          "geo": {
           "bgcolor": "white",
           "lakecolor": "white",
           "landcolor": "#E5ECF6",
           "showlakes": true,
           "showland": true,
           "subunitcolor": "white"
          },
          "hoverlabel": {
           "align": "left"
          },
          "hovermode": "closest",
          "mapbox": {
           "style": "light"
          },
          "paper_bgcolor": "white",
          "plot_bgcolor": "#E5ECF6",
          "polar": {
           "angularaxis": {
            "gridcolor": "white",
            "linecolor": "white",
            "ticks": ""
           },
           "bgcolor": "#E5ECF6",
           "radialaxis": {
            "gridcolor": "white",
            "linecolor": "white",
            "ticks": ""
           }
          },
          "scene": {
           "xaxis": {
            "backgroundcolor": "#E5ECF6",
            "gridcolor": "white",
            "gridwidth": 2,
            "linecolor": "white",
            "showbackground": true,
            "ticks": "",
            "zerolinecolor": "white"
           },
           "yaxis": {
            "backgroundcolor": "#E5ECF6",
            "gridcolor": "white",
            "gridwidth": 2,
            "linecolor": "white",
            "showbackground": true,
            "ticks": "",
            "zerolinecolor": "white"
           },
           "zaxis": {
            "backgroundcolor": "#E5ECF6",
            "gridcolor": "white",
            "gridwidth": 2,
            "linecolor": "white",
            "showbackground": true,
            "ticks": "",
            "zerolinecolor": "white"
           }
          },
          "shapedefaults": {
           "line": {
            "color": "#2a3f5f"
           }
          },
          "ternary": {
           "aaxis": {
            "gridcolor": "white",
            "linecolor": "white",
            "ticks": ""
           },
           "baxis": {
            "gridcolor": "white",
            "linecolor": "white",
            "ticks": ""
           },
           "bgcolor": "#E5ECF6",
           "caxis": {
            "gridcolor": "white",
            "linecolor": "white",
            "ticks": ""
           }
          },
          "title": {
           "x": 0.05
          },
          "xaxis": {
           "automargin": true,
           "gridcolor": "white",
           "linecolor": "white",
           "ticks": "",
           "title": {
            "standoff": 15
           },
           "zerolinecolor": "white",
           "zerolinewidth": 2
          },
          "yaxis": {
           "automargin": true,
           "gridcolor": "white",
           "linecolor": "white",
           "ticks": "",
           "title": {
            "standoff": 15
           },
           "zerolinecolor": "white",
           "zerolinewidth": 2
          }
         }
        },
        "title": {
         "text": "Status Transitions for Tickets in Epic SKY-550<br><sub>Flow values represent total days spent in transitions</sub>"
        },
        "width": 1000
       }
      },
      "text/html": [
       "<div>            <script src=\"https://cdnjs.cloudflare.com/ajax/libs/mathjax/2.7.5/MathJax.js?config=TeX-AMS-MML_SVG\"></script><script type=\"text/javascript\">if (window.MathJax && window.MathJax.Hub && window.MathJax.Hub.Config) {window.MathJax.Hub.Config({SVG: {font: \"STIX-Web\"}});}</script>                <script type=\"text/javascript\">window.PlotlyConfig = {MathJaxConfig: 'local'};</script>\n",
       "        <script charset=\"utf-8\" src=\"https://cdn.plot.ly/plotly-3.0.1.min.js\"></script>                <div id=\"b8561289-f7f2-46dd-89b3-0973d77ffca9\" class=\"plotly-graph-div\" style=\"height:600px; width:1000px;\"></div>            <script type=\"text/javascript\">                window.PLOTLYENV=window.PLOTLYENV || {};                                if (document.getElementById(\"b8561289-f7f2-46dd-89b3-0973d77ffca9\")) {                    Plotly.newPlot(                        \"b8561289-f7f2-46dd-89b3-0973d77ffca9\",                        [{\"link\":{\"hovertemplate\":\"%{label}\\u003cextra\\u003e\\u003c\\u002fextra\\u003e\",\"label\":[\"Backlog → Selected for Development: 1125 days\\u003cbr\\u003eTickets: SKY-564:281d, SKY-558:281d, SKY-557:282d, SKY-556:281d\",\"Selected for Development → Currently in Selected for Development: 2 days\\u003cbr\\u003eTickets: SKY-564:2d\",\"Backlog → Currently in Backlog: 568 days\\u003cbr\\u003eTickets: SKY-563:284d, SKY-561:284d\",\"Backlog → In Progress: 843 days\\u003cbr\\u003eTickets: SKY-562:281d, SKY-560:281d, SKY-555:281d\",\"In Progress → Currently in In Progress: 9 days\\u003cbr\\u003eTickets: SKY-562:3d, SKY-558:1d, SKY-557:1d, SKY-556:2d, SKY-555:2d\",\"In Progress → Done: 3 days\\u003cbr\\u003eTickets: SKY-560:2d, SKY-555:1d\",\"Selected for Development → In Progress: 7 days\\u003cbr\\u003eTickets: SKY-558:3d, SKY-557:2d, SKY-556:2d\",\"Done → In Progress: 2 days\\u003cbr\\u003eTickets: SKY-555:2d\"],\"source\":[0,5,0,0,4,4,5,6],\"target\":[5,3,1,4,2,6,4,4],\"value\":[1125,2,568,843,9,3,7,2]},\"node\":{\"label\":[\"Backlog\",\"Currently in Backlog\",\"Currently in In Progress\",\"Currently in Selected for Development\",\"In Progress\",\"Selected for Development\",\"Done\"],\"line\":{\"color\":\"black\",\"width\":0.5},\"pad\":15,\"thickness\":20},\"type\":\"sankey\"}],                        {\"font\":{\"size\":12},\"height\":600,\"template\":{\"data\":{\"barpolar\":[{\"marker\":{\"line\":{\"color\":\"#E5ECF6\",\"width\":0.5},\"pattern\":{\"fillmode\":\"overlay\",\"size\":10,\"solidity\":0.2}},\"type\":\"barpolar\"}],\"bar\":[{\"error_x\":{\"color\":\"#2a3f5f\"},\"error_y\":{\"color\":\"#2a3f5f\"},\"marker\":{\"line\":{\"color\":\"#E5ECF6\",\"width\":0.5},\"pattern\":{\"fillmode\":\"overlay\",\"size\":10,\"solidity\":0.2}},\"type\":\"bar\"}],\"carpet\":[{\"aaxis\":{\"endlinecolor\":\"#2a3f5f\",\"gridcolor\":\"white\",\"linecolor\":\"white\",\"minorgridcolor\":\"white\",\"startlinecolor\":\"#2a3f5f\"},\"baxis\":{\"endlinecolor\":\"#2a3f5f\",\"gridcolor\":\"white\",\"linecolor\":\"white\",\"minorgridcolor\":\"white\",\"startlinecolor\":\"#2a3f5f\"},\"type\":\"carpet\"}],\"choropleth\":[{\"colorbar\":{\"outlinewidth\":0,\"ticks\":\"\"},\"type\":\"choropleth\"}],\"contourcarpet\":[{\"colorbar\":{\"outlinewidth\":0,\"ticks\":\"\"},\"type\":\"contourcarpet\"}],\"contour\":[{\"colorbar\":{\"outlinewidth\":0,\"ticks\":\"\"},\"colorscale\":[[0.0,\"#0d0887\"],[0.1111111111111111,\"#46039f\"],[0.2222222222222222,\"#7201a8\"],[0.3333333333333333,\"#9c179e\"],[0.4444444444444444,\"#bd3786\"],[0.5555555555555556,\"#d8576b\"],[0.6666666666666666,\"#ed7953\"],[0.7777777777777778,\"#fb9f3a\"],[0.8888888888888888,\"#fdca26\"],[1.0,\"#f0f921\"]],\"type\":\"contour\"}],\"heatmap\":[{\"colorbar\":{\"outlinewidth\":0,\"ticks\":\"\"},\"colorscale\":[[0.0,\"#0d0887\"],[0.1111111111111111,\"#46039f\"],[0.2222222222222222,\"#7201a8\"],[0.3333333333333333,\"#9c179e\"],[0.4444444444444444,\"#bd3786\"],[0.5555555555555556,\"#d8576b\"],[0.6666666666666666,\"#ed7953\"],[0.7777777777777778,\"#fb9f3a\"],[0.8888888888888888,\"#fdca26\"],[1.0,\"#f0f921\"]],\"type\":\"heatmap\"}],\"histogram2dcontour\":[{\"colorbar\":{\"outlinewidth\":0,\"ticks\":\"\"},\"colorscale\":[[0.0,\"#0d0887\"],[0.1111111111111111,\"#46039f\"],[0.2222222222222222,\"#7201a8\"],[0.3333333333333333,\"#9c179e\"],[0.4444444444444444,\"#bd3786\"],[0.5555555555555556,\"#d8576b\"],[0.6666666666666666,\"#ed7953\"],[0.7777777777777778,\"#fb9f3a\"],[0.8888888888888888,\"#fdca26\"],[1.0,\"#f0f921\"]],\"type\":\"histogram2dcontour\"}],\"histogram2d\":[{\"colorbar\":{\"outlinewidth\":0,\"ticks\":\"\"},\"colorscale\":[[0.0,\"#0d0887\"],[0.1111111111111111,\"#46039f\"],[0.2222222222222222,\"#7201a8\"],[0.3333333333333333,\"#9c179e\"],[0.4444444444444444,\"#bd3786\"],[0.5555555555555556,\"#d8576b\"],[0.6666666666666666,\"#ed7953\"],[0.7777777777777778,\"#fb9f3a\"],[0.8888888888888888,\"#fdca26\"],[1.0,\"#f0f921\"]],\"type\":\"histogram2d\"}],\"histogram\":[{\"marker\":{\"pattern\":{\"fillmode\":\"overlay\",\"size\":10,\"solidity\":0.2}},\"type\":\"histogram\"}],\"mesh3d\":[{\"colorbar\":{\"outlinewidth\":0,\"ticks\":\"\"},\"type\":\"mesh3d\"}],\"parcoords\":[{\"line\":{\"colorbar\":{\"outlinewidth\":0,\"ticks\":\"\"}},\"type\":\"parcoords\"}],\"pie\":[{\"automargin\":true,\"type\":\"pie\"}],\"scatter3d\":[{\"line\":{\"colorbar\":{\"outlinewidth\":0,\"ticks\":\"\"}},\"marker\":{\"colorbar\":{\"outlinewidth\":0,\"ticks\":\"\"}},\"type\":\"scatter3d\"}],\"scattercarpet\":[{\"marker\":{\"colorbar\":{\"outlinewidth\":0,\"ticks\":\"\"}},\"type\":\"scattercarpet\"}],\"scattergeo\":[{\"marker\":{\"colorbar\":{\"outlinewidth\":0,\"ticks\":\"\"}},\"type\":\"scattergeo\"}],\"scattergl\":[{\"marker\":{\"colorbar\":{\"outlinewidth\":0,\"ticks\":\"\"}},\"type\":\"scattergl\"}],\"scattermapbox\":[{\"marker\":{\"colorbar\":{\"outlinewidth\":0,\"ticks\":\"\"}},\"type\":\"scattermapbox\"}],\"scattermap\":[{\"marker\":{\"colorbar\":{\"outlinewidth\":0,\"ticks\":\"\"}},\"type\":\"scattermap\"}],\"scatterpolargl\":[{\"marker\":{\"colorbar\":{\"outlinewidth\":0,\"ticks\":\"\"}},\"type\":\"scatterpolargl\"}],\"scatterpolar\":[{\"marker\":{\"colorbar\":{\"outlinewidth\":0,\"ticks\":\"\"}},\"type\":\"scatterpolar\"}],\"scatter\":[{\"fillpattern\":{\"fillmode\":\"overlay\",\"size\":10,\"solidity\":0.2},\"type\":\"scatter\"}],\"scatterternary\":[{\"marker\":{\"colorbar\":{\"outlinewidth\":0,\"ticks\":\"\"}},\"type\":\"scatterternary\"}],\"surface\":[{\"colorbar\":{\"outlinewidth\":0,\"ticks\":\"\"},\"colorscale\":[[0.0,\"#0d0887\"],[0.1111111111111111,\"#46039f\"],[0.2222222222222222,\"#7201a8\"],[0.3333333333333333,\"#9c179e\"],[0.4444444444444444,\"#bd3786\"],[0.5555555555555556,\"#d8576b\"],[0.6666666666666666,\"#ed7953\"],[0.7777777777777778,\"#fb9f3a\"],[0.8888888888888888,\"#fdca26\"],[1.0,\"#f0f921\"]],\"type\":\"surface\"}],\"table\":[{\"cells\":{\"fill\":{\"color\":\"#EBF0F8\"},\"line\":{\"color\":\"white\"}},\"header\":{\"fill\":{\"color\":\"#C8D4E3\"},\"line\":{\"color\":\"white\"}},\"type\":\"table\"}]},\"layout\":{\"annotationdefaults\":{\"arrowcolor\":\"#2a3f5f\",\"arrowhead\":0,\"arrowwidth\":1},\"autotypenumbers\":\"strict\",\"coloraxis\":{\"colorbar\":{\"outlinewidth\":0,\"ticks\":\"\"}},\"colorscale\":{\"diverging\":[[0,\"#8e0152\"],[0.1,\"#c51b7d\"],[0.2,\"#de77ae\"],[0.3,\"#f1b6da\"],[0.4,\"#fde0ef\"],[0.5,\"#f7f7f7\"],[0.6,\"#e6f5d0\"],[0.7,\"#b8e186\"],[0.8,\"#7fbc41\"],[0.9,\"#4d9221\"],[1,\"#276419\"]],\"sequential\":[[0.0,\"#0d0887\"],[0.1111111111111111,\"#46039f\"],[0.2222222222222222,\"#7201a8\"],[0.3333333333333333,\"#9c179e\"],[0.4444444444444444,\"#bd3786\"],[0.5555555555555556,\"#d8576b\"],[0.6666666666666666,\"#ed7953\"],[0.7777777777777778,\"#fb9f3a\"],[0.8888888888888888,\"#fdca26\"],[1.0,\"#f0f921\"]],\"sequentialminus\":[[0.0,\"#0d0887\"],[0.1111111111111111,\"#46039f\"],[0.2222222222222222,\"#7201a8\"],[0.3333333333333333,\"#9c179e\"],[0.4444444444444444,\"#bd3786\"],[0.5555555555555556,\"#d8576b\"],[0.6666666666666666,\"#ed7953\"],[0.7777777777777778,\"#fb9f3a\"],[0.8888888888888888,\"#fdca26\"],[1.0,\"#f0f921\"]]},\"colorway\":[\"#636efa\",\"#EF553B\",\"#00cc96\",\"#ab63fa\",\"#FFA15A\",\"#19d3f3\",\"#FF6692\",\"#B6E880\",\"#FF97FF\",\"#FECB52\"],\"font\":{\"color\":\"#2a3f5f\"},\"geo\":{\"bgcolor\":\"white\",\"lakecolor\":\"white\",\"landcolor\":\"#E5ECF6\",\"showlakes\":true,\"showland\":true,\"subunitcolor\":\"white\"},\"hoverlabel\":{\"align\":\"left\"},\"hovermode\":\"closest\",\"mapbox\":{\"style\":\"light\"},\"paper_bgcolor\":\"white\",\"plot_bgcolor\":\"#E5ECF6\",\"polar\":{\"angularaxis\":{\"gridcolor\":\"white\",\"linecolor\":\"white\",\"ticks\":\"\"},\"bgcolor\":\"#E5ECF6\",\"radialaxis\":{\"gridcolor\":\"white\",\"linecolor\":\"white\",\"ticks\":\"\"}},\"scene\":{\"xaxis\":{\"backgroundcolor\":\"#E5ECF6\",\"gridcolor\":\"white\",\"gridwidth\":2,\"linecolor\":\"white\",\"showbackground\":true,\"ticks\":\"\",\"zerolinecolor\":\"white\"},\"yaxis\":{\"backgroundcolor\":\"#E5ECF6\",\"gridcolor\":\"white\",\"gridwidth\":2,\"linecolor\":\"white\",\"showbackground\":true,\"ticks\":\"\",\"zerolinecolor\":\"white\"},\"zaxis\":{\"backgroundcolor\":\"#E5ECF6\",\"gridcolor\":\"white\",\"gridwidth\":2,\"linecolor\":\"white\",\"showbackground\":true,\"ticks\":\"\",\"zerolinecolor\":\"white\"}},\"shapedefaults\":{\"line\":{\"color\":\"#2a3f5f\"}},\"ternary\":{\"aaxis\":{\"gridcolor\":\"white\",\"linecolor\":\"white\",\"ticks\":\"\"},\"baxis\":{\"gridcolor\":\"white\",\"linecolor\":\"white\",\"ticks\":\"\"},\"bgcolor\":\"#E5ECF6\",\"caxis\":{\"gridcolor\":\"white\",\"linecolor\":\"white\",\"ticks\":\"\"}},\"title\":{\"x\":0.05},\"xaxis\":{\"automargin\":true,\"gridcolor\":\"white\",\"linecolor\":\"white\",\"ticks\":\"\",\"title\":{\"standoff\":15},\"zerolinecolor\":\"white\",\"zerolinewidth\":2},\"yaxis\":{\"automargin\":true,\"gridcolor\":\"white\",\"linecolor\":\"white\",\"ticks\":\"\",\"title\":{\"standoff\":15},\"zerolinecolor\":\"white\",\"zerolinewidth\":2}}},\"title\":{\"text\":\"Status Transitions for Tickets in Epic SKY-550\\u003cbr\\u003e\\u003csub\\u003eFlow values represent total days spent in transitions\\u003c\\u002fsub\\u003e\"},\"width\":1000},                        {\"responsive\": true}                    ).then(function(){\n",
       "                            \n",
       "var gd = document.getElementById('b8561289-f7f2-46dd-89b3-0973d77ffca9');\n",
       "var x = new MutationObserver(function (mutations, observer) {{\n",
       "        var display = window.getComputedStyle(gd).display;\n",
       "        if (!display || display === 'none') {{\n",
       "            console.log([gd, 'removed!']);\n",
       "            Plotly.purge(gd);\n",
       "            observer.disconnect();\n",
       "        }}\n",
       "}});\n",
       "\n",
       "// Listen for the removal of the full notebook cells\n",
       "var notebookContainer = gd.closest('#notebook-container');\n",
       "if (notebookContainer) {{\n",
       "    x.observe(notebookContainer, {childList: true});\n",
       "}}\n",
       "\n",
       "// Listen for the clearing of the current output cell\n",
       "var outputEl = gd.closest('.output');\n",
       "if (outputEl) {{\n",
       "    x.observe(outputEl, {childList: true});\n",
       "}}\n",
       "\n",
       "                        })                };            </script>        </div>"
      ]
     },
     "metadata": {},
     "output_type": "display_data"
    },
    {
     "name": "stdout",
     "output_type": "stream",
     "text": [
      "\n",
      "📊 Sankey Diagram Created: Status Transitions for Tickets in Epic SKY-550\n",
      "   • 22 transitions visualized\n",
      "   • 9 unique tickets\n",
      "   • 2561 total days tracked\n",
      "   • Hover over flows to see ticket details\n",
      "\n",
      "I have analyzed the status transitions for all tickets in Epic SKY-550 and created a Sankey diagram to visualize them.\n",
      "\n",
      "If you'd like, I can also generate other types of diagrams for extended data analysis, such as a bar chart showing the total time spent in each status or a histogram for the distribution of time in a specific status. Just let me know!\n",
      "\n"
     ]
    },
    {
     "name": "stdin",
     "output_type": "stream",
     "text": [
      "You:  i want a histogram for the in progress status\n"
     ]
    },
    {
     "name": "stdout",
     "output_type": "stream",
     "text": [
      "Agent: 🔍 [<function create_jira_ticket_status_histogram at 0x12b5b7060>] State check: 22 transitions in context\n",
      "🔍 [<function create_jira_ticket_status_histogram at 0x12b5b7060>] Context ID: 4998691536\n"
     ]
    },
    {
     "data": {
      "text/html": [
       "        <script type=\"text/javascript\">\n",
       "        window.PlotlyConfig = {MathJaxConfig: 'local'};\n",
       "        if (window.MathJax && window.MathJax.Hub && window.MathJax.Hub.Config) {window.MathJax.Hub.Config({SVG: {font: \"STIX-Web\"}});}\n",
       "        </script>\n",
       "        <script type=\"module\">import \"https://cdn.plot.ly/plotly-3.0.1.min\"</script>\n",
       "        "
      ]
     },
     "metadata": {},
     "output_type": "display_data"
    },
    {
     "name": "stdout",
     "output_type": "stream",
     "text": [
      "\n",
      "📋 Raw Transition Data for Histogram Analysis\n",
      "================================================================================\n"
     ]
    },
    {
     "data": {
      "text/html": [
       "<div>\n",
       "<style scoped>\n",
       "    .dataframe tbody tr th:only-of-type {\n",
       "        vertical-align: middle;\n",
       "    }\n",
       "\n",
       "    .dataframe tbody tr th {\n",
       "        vertical-align: top;\n",
       "    }\n",
       "\n",
       "    .dataframe thead th {\n",
       "        text-align: right;\n",
       "    }\n",
       "</style>\n",
       "<table border=\"1\" class=\"dataframe\">\n",
       "  <thead>\n",
       "    <tr style=\"text-align: right;\">\n",
       "      <th></th>\n",
       "      <th>issue_key</th>\n",
       "      <th>source_status</th>\n",
       "      <th>target_status</th>\n",
       "      <th>transition_days</th>\n",
       "      <th>note</th>\n",
       "    </tr>\n",
       "  </thead>\n",
       "  <tbody>\n",
       "    <tr>\n",
       "      <th>0</th>\n",
       "      <td>SKY-564</td>\n",
       "      <td>Backlog</td>\n",
       "      <td>Selected for Development</td>\n",
       "      <td>281</td>\n",
       "      <td>(from beginning)</td>\n",
       "    </tr>\n",
       "    <tr>\n",
       "      <th>1</th>\n",
       "      <td>SKY-564</td>\n",
       "      <td>Selected for Development</td>\n",
       "      <td>Selected for Development</td>\n",
       "      <td>2</td>\n",
       "      <td>(self-loop)</td>\n",
       "    </tr>\n",
       "    <tr>\n",
       "      <th>2</th>\n",
       "      <td>SKY-563</td>\n",
       "      <td>Backlog</td>\n",
       "      <td>Backlog</td>\n",
       "      <td>284</td>\n",
       "      <td>(self-loop)</td>\n",
       "    </tr>\n",
       "    <tr>\n",
       "      <th>3</th>\n",
       "      <td>SKY-562</td>\n",
       "      <td>Backlog</td>\n",
       "      <td>In Progress</td>\n",
       "      <td>281</td>\n",
       "      <td>(from beginning)</td>\n",
       "    </tr>\n",
       "    <tr>\n",
       "      <th>4</th>\n",
       "      <td>SKY-562</td>\n",
       "      <td>In Progress</td>\n",
       "      <td>In Progress</td>\n",
       "      <td>3</td>\n",
       "      <td>(self-loop)</td>\n",
       "    </tr>\n",
       "    <tr>\n",
       "      <th>5</th>\n",
       "      <td>SKY-561</td>\n",
       "      <td>Backlog</td>\n",
       "      <td>Backlog</td>\n",
       "      <td>284</td>\n",
       "      <td>(self-loop)</td>\n",
       "    </tr>\n",
       "    <tr>\n",
       "      <th>6</th>\n",
       "      <td>SKY-560</td>\n",
       "      <td>Backlog</td>\n",
       "      <td>In Progress</td>\n",
       "      <td>281</td>\n",
       "      <td>(from beginning)</td>\n",
       "    </tr>\n",
       "    <tr>\n",
       "      <th>7</th>\n",
       "      <td>SKY-560</td>\n",
       "      <td>In Progress</td>\n",
       "      <td>Done</td>\n",
       "      <td>2</td>\n",
       "      <td>(to end)</td>\n",
       "    </tr>\n",
       "    <tr>\n",
       "      <th>8</th>\n",
       "      <td>SKY-560</td>\n",
       "      <td>Done</td>\n",
       "      <td>Done</td>\n",
       "      <td>2</td>\n",
       "      <td>(self-loop)</td>\n",
       "    </tr>\n",
       "    <tr>\n",
       "      <th>9</th>\n",
       "      <td>SKY-558</td>\n",
       "      <td>Backlog</td>\n",
       "      <td>Selected for Development</td>\n",
       "      <td>281</td>\n",
       "      <td>(from beginning)</td>\n",
       "    </tr>\n",
       "    <tr>\n",
       "      <th>10</th>\n",
       "      <td>SKY-558</td>\n",
       "      <td>Selected for Development</td>\n",
       "      <td>In Progress</td>\n",
       "      <td>3</td>\n",
       "      <td></td>\n",
       "    </tr>\n",
       "    <tr>\n",
       "      <th>11</th>\n",
       "      <td>SKY-558</td>\n",
       "      <td>In Progress</td>\n",
       "      <td>In Progress</td>\n",
       "      <td>1</td>\n",
       "      <td>(self-loop)</td>\n",
       "    </tr>\n",
       "    <tr>\n",
       "      <th>12</th>\n",
       "      <td>SKY-557</td>\n",
       "      <td>Backlog</td>\n",
       "      <td>Selected for Development</td>\n",
       "      <td>282</td>\n",
       "      <td>(from beginning)</td>\n",
       "    </tr>\n",
       "    <tr>\n",
       "      <th>13</th>\n",
       "      <td>SKY-557</td>\n",
       "      <td>Selected for Development</td>\n",
       "      <td>In Progress</td>\n",
       "      <td>2</td>\n",
       "      <td></td>\n",
       "    </tr>\n",
       "    <tr>\n",
       "      <th>14</th>\n",
       "      <td>SKY-557</td>\n",
       "      <td>In Progress</td>\n",
       "      <td>In Progress</td>\n",
       "      <td>1</td>\n",
       "      <td>(self-loop)</td>\n",
       "    </tr>\n",
       "    <tr>\n",
       "      <th>15</th>\n",
       "      <td>SKY-556</td>\n",
       "      <td>Backlog</td>\n",
       "      <td>Selected for Development</td>\n",
       "      <td>281</td>\n",
       "      <td>(from beginning)</td>\n",
       "    </tr>\n",
       "    <tr>\n",
       "      <th>16</th>\n",
       "      <td>SKY-556</td>\n",
       "      <td>Selected for Development</td>\n",
       "      <td>In Progress</td>\n",
       "      <td>2</td>\n",
       "      <td></td>\n",
       "    </tr>\n",
       "    <tr>\n",
       "      <th>17</th>\n",
       "      <td>SKY-556</td>\n",
       "      <td>In Progress</td>\n",
       "      <td>In Progress</td>\n",
       "      <td>2</td>\n",
       "      <td>(self-loop)</td>\n",
       "    </tr>\n",
       "    <tr>\n",
       "      <th>18</th>\n",
       "      <td>SKY-555</td>\n",
       "      <td>Backlog</td>\n",
       "      <td>In Progress</td>\n",
       "      <td>281</td>\n",
       "      <td>(from beginning)</td>\n",
       "    </tr>\n",
       "    <tr>\n",
       "      <th>19</th>\n",
       "      <td>SKY-555</td>\n",
       "      <td>In Progress</td>\n",
       "      <td>Done</td>\n",
       "      <td>1</td>\n",
       "      <td>(to end)</td>\n",
       "    </tr>\n",
       "    <tr>\n",
       "      <th>20</th>\n",
       "      <td>SKY-555</td>\n",
       "      <td>Done</td>\n",
       "      <td>In Progress</td>\n",
       "      <td>2</td>\n",
       "      <td></td>\n",
       "    </tr>\n",
       "    <tr>\n",
       "      <th>21</th>\n",
       "      <td>SKY-555</td>\n",
       "      <td>In Progress</td>\n",
       "      <td>In Progress</td>\n",
       "      <td>2</td>\n",
       "      <td>(self-loop)</td>\n",
       "    </tr>\n",
       "  </tbody>\n",
       "</table>\n",
       "</div>"
      ],
      "text/plain": [
       "   issue_key             source_status             target_status  \\\n",
       "0    SKY-564                   Backlog  Selected for Development   \n",
       "1    SKY-564  Selected for Development  Selected for Development   \n",
       "2    SKY-563                   Backlog                   Backlog   \n",
       "3    SKY-562                   Backlog               In Progress   \n",
       "4    SKY-562               In Progress               In Progress   \n",
       "5    SKY-561                   Backlog                   Backlog   \n",
       "6    SKY-560                   Backlog               In Progress   \n",
       "7    SKY-560               In Progress                      Done   \n",
       "8    SKY-560                      Done                      Done   \n",
       "9    SKY-558                   Backlog  Selected for Development   \n",
       "10   SKY-558  Selected for Development               In Progress   \n",
       "11   SKY-558               In Progress               In Progress   \n",
       "12   SKY-557                   Backlog  Selected for Development   \n",
       "13   SKY-557  Selected for Development               In Progress   \n",
       "14   SKY-557               In Progress               In Progress   \n",
       "15   SKY-556                   Backlog  Selected for Development   \n",
       "16   SKY-556  Selected for Development               In Progress   \n",
       "17   SKY-556               In Progress               In Progress   \n",
       "18   SKY-555                   Backlog               In Progress   \n",
       "19   SKY-555               In Progress                      Done   \n",
       "20   SKY-555                      Done               In Progress   \n",
       "21   SKY-555               In Progress               In Progress   \n",
       "\n",
       "    transition_days              note  \n",
       "0               281  (from beginning)  \n",
       "1                 2       (self-loop)  \n",
       "2               284       (self-loop)  \n",
       "3               281  (from beginning)  \n",
       "4                 3       (self-loop)  \n",
       "5               284       (self-loop)  \n",
       "6               281  (from beginning)  \n",
       "7                 2          (to end)  \n",
       "8                 2       (self-loop)  \n",
       "9               281  (from beginning)  \n",
       "10                3                    \n",
       "11                1       (self-loop)  \n",
       "12              282  (from beginning)  \n",
       "13                2                    \n",
       "14                1       (self-loop)  \n",
       "15              281  (from beginning)  \n",
       "16                2                    \n",
       "17                2       (self-loop)  \n",
       "18              281  (from beginning)  \n",
       "19                1          (to end)  \n",
       "20                2                    \n",
       "21                2       (self-loop)  "
      ]
     },
     "metadata": {},
     "output_type": "display_data"
    },
    {
     "name": "stdout",
     "output_type": "stream",
     "text": [
      "================================================================================\n",
      "\n",
      "🔍 Found 6 time entries for 'In Progress' status:\n",
      "   • SKY-562 (3d)\n",
      "   • SKY-560 (2d)\n",
      "   • SKY-558 (1d)\n",
      "   • SKY-557 (1d)\n",
      "   • SKY-556 (2d)\n",
      "   • SKY-555 (3d)\n",
      "\n"
     ]
    },
    {
     "data": {
      "application/vnd.plotly.v1+json": {
       "config": {
        "linkText": "Export to plot.ly",
        "plotlyServerURL": "https://plot.ly",
        "showLink": false
       },
       "data": [
        {
         "customdata": [
          "Time: 1d<br>Tickets: 2<br>Examples: SKY-558 (1d), SKY-557 (1d)",
          "Time: 2d<br>Tickets: 2<br>Examples: SKY-560 (2d), SKY-556 (2d)",
          "Time: 3d<br>Tickets: 2<br>Examples: SKY-562 (3d), SKY-555 (3d)",
          "Time: 4d<br>Tickets: 0",
          "Time: 5d<br>Tickets: 0"
         ],
         "hovertemplate": "%{customdata}<extra></extra>",
         "marker": {
          "color": [
           2,
           2,
           2,
           0,
           0
          ],
          "colorbar": {
           "title": {
            "text": "Ticket Count"
           }
          },
          "colorscale": [
           [
            0,
            "rgb(247,251,255)"
           ],
           [
            0.125,
            "rgb(222,235,247)"
           ],
           [
            0.25,
            "rgb(198,219,239)"
           ],
           [
            0.375,
            "rgb(158,202,225)"
           ],
           [
            0.5,
            "rgb(107,174,214)"
           ],
           [
            0.625,
            "rgb(66,146,198)"
           ],
           [
            0.75,
            "rgb(33,113,181)"
           ],
           [
            0.875,
            "rgb(8,81,156)"
           ],
           [
            1,
            "rgb(8,48,107)"
           ]
          ],
          "showscale": false
         },
         "text": [
          "2",
          "2",
          "2",
          "0",
          "0"
         ],
         "textposition": "auto",
         "type": "bar",
         "x": [
          "1d",
          "2d",
          "3d",
          "4d",
          "5d"
         ],
         "y": [
          2,
          2,
          2,
          0,
          0
         ]
        }
       ],
       "layout": {
        "annotations": [
         {
          "showarrow": false,
          "text": "Median: 2.0d",
          "x": 1.5,
          "xanchor": "right",
          "xref": "x",
          "y": 1,
          "yanchor": "top",
          "yref": "y domain"
         },
         {
          "showarrow": false,
          "text": "90th percentile: 3.0d",
          "x": 2.5,
          "xanchor": "left",
          "xref": "x",
          "y": 1,
          "yanchor": "top",
          "yref": "y domain"
         }
        ],
        "font": {
         "size": 12
        },
        "height": 600,
        "margin": {
         "b": 50,
         "l": 50,
         "r": 50,
         "t": 80
        },
        "shapes": [
         {
          "line": {
           "color": "red",
           "dash": "dash"
          },
          "type": "line",
          "x0": 1.5,
          "x1": 1.5,
          "xref": "x",
          "y0": 0,
          "y1": 1,
          "yref": "y domain"
         },
         {
          "line": {
           "color": "orange",
           "dash": "dot"
          },
          "type": "line",
          "x0": 2.5,
          "x1": 2.5,
          "xref": "x",
          "y0": 0,
          "y1": 1,
          "yref": "y domain"
         }
        ],
        "showlegend": false,
        "template": {
         "data": {
          "bar": [
           {
            "error_x": {
             "color": "#2a3f5f"
            },
            "error_y": {
             "color": "#2a3f5f"
            },
            "marker": {
             "line": {
              "color": "#E5ECF6",
              "width": 0.5
             },
             "pattern": {
              "fillmode": "overlay",
              "size": 10,
              "solidity": 0.2
             }
            },
            "type": "bar"
           }
          ],
          "barpolar": [
           {
            "marker": {
             "line": {
              "color": "#E5ECF6",
              "width": 0.5
             },
             "pattern": {
              "fillmode": "overlay",
              "size": 10,
              "solidity": 0.2
             }
            },
            "type": "barpolar"
           }
          ],
          "carpet": [
           {
            "aaxis": {
             "endlinecolor": "#2a3f5f",
             "gridcolor": "white",
             "linecolor": "white",
             "minorgridcolor": "white",
             "startlinecolor": "#2a3f5f"
            },
            "baxis": {
             "endlinecolor": "#2a3f5f",
             "gridcolor": "white",
             "linecolor": "white",
             "minorgridcolor": "white",
             "startlinecolor": "#2a3f5f"
            },
            "type": "carpet"
           }
          ],
          "choropleth": [
           {
            "colorbar": {
             "outlinewidth": 0,
             "ticks": ""
            },
            "type": "choropleth"
           }
          ],
          "contour": [
           {
            "colorbar": {
             "outlinewidth": 0,
             "ticks": ""
            },
            "colorscale": [
             [
              0,
              "#0d0887"
             ],
             [
              0.1111111111111111,
              "#46039f"
             ],
             [
              0.2222222222222222,
              "#7201a8"
             ],
             [
              0.3333333333333333,
              "#9c179e"
             ],
             [
              0.4444444444444444,
              "#bd3786"
             ],
             [
              0.5555555555555556,
              "#d8576b"
             ],
             [
              0.6666666666666666,
              "#ed7953"
             ],
             [
              0.7777777777777778,
              "#fb9f3a"
             ],
             [
              0.8888888888888888,
              "#fdca26"
             ],
             [
              1,
              "#f0f921"
             ]
            ],
            "type": "contour"
           }
          ],
          "contourcarpet": [
           {
            "colorbar": {
             "outlinewidth": 0,
             "ticks": ""
            },
            "type": "contourcarpet"
           }
          ],
          "heatmap": [
           {
            "colorbar": {
             "outlinewidth": 0,
             "ticks": ""
            },
            "colorscale": [
             [
              0,
              "#0d0887"
             ],
             [
              0.1111111111111111,
              "#46039f"
             ],
             [
              0.2222222222222222,
              "#7201a8"
             ],
             [
              0.3333333333333333,
              "#9c179e"
             ],
             [
              0.4444444444444444,
              "#bd3786"
             ],
             [
              0.5555555555555556,
              "#d8576b"
             ],
             [
              0.6666666666666666,
              "#ed7953"
             ],
             [
              0.7777777777777778,
              "#fb9f3a"
             ],
             [
              0.8888888888888888,
              "#fdca26"
             ],
             [
              1,
              "#f0f921"
             ]
            ],
            "type": "heatmap"
           }
          ],
          "histogram": [
           {
            "marker": {
             "pattern": {
              "fillmode": "overlay",
              "size": 10,
              "solidity": 0.2
             }
            },
            "type": "histogram"
           }
          ],
          "histogram2d": [
           {
            "colorbar": {
             "outlinewidth": 0,
             "ticks": ""
            },
            "colorscale": [
             [
              0,
              "#0d0887"
             ],
             [
              0.1111111111111111,
              "#46039f"
             ],
             [
              0.2222222222222222,
              "#7201a8"
             ],
             [
              0.3333333333333333,
              "#9c179e"
             ],
             [
              0.4444444444444444,
              "#bd3786"
             ],
             [
              0.5555555555555556,
              "#d8576b"
             ],
             [
              0.6666666666666666,
              "#ed7953"
             ],
             [
              0.7777777777777778,
              "#fb9f3a"
             ],
             [
              0.8888888888888888,
              "#fdca26"
             ],
             [
              1,
              "#f0f921"
             ]
            ],
            "type": "histogram2d"
           }
          ],
          "histogram2dcontour": [
           {
            "colorbar": {
             "outlinewidth": 0,
             "ticks": ""
            },
            "colorscale": [
             [
              0,
              "#0d0887"
             ],
             [
              0.1111111111111111,
              "#46039f"
             ],
             [
              0.2222222222222222,
              "#7201a8"
             ],
             [
              0.3333333333333333,
              "#9c179e"
             ],
             [
              0.4444444444444444,
              "#bd3786"
             ],
             [
              0.5555555555555556,
              "#d8576b"
             ],
             [
              0.6666666666666666,
              "#ed7953"
             ],
             [
              0.7777777777777778,
              "#fb9f3a"
             ],
             [
              0.8888888888888888,
              "#fdca26"
             ],
             [
              1,
              "#f0f921"
             ]
            ],
            "type": "histogram2dcontour"
           }
          ],
          "mesh3d": [
           {
            "colorbar": {
             "outlinewidth": 0,
             "ticks": ""
            },
            "type": "mesh3d"
           }
          ],
          "parcoords": [
           {
            "line": {
             "colorbar": {
              "outlinewidth": 0,
              "ticks": ""
             }
            },
            "type": "parcoords"
           }
          ],
          "pie": [
           {
            "automargin": true,
            "type": "pie"
           }
          ],
          "scatter": [
           {
            "fillpattern": {
             "fillmode": "overlay",
             "size": 10,
             "solidity": 0.2
            },
            "type": "scatter"
           }
          ],
          "scatter3d": [
           {
            "line": {
             "colorbar": {
              "outlinewidth": 0,
              "ticks": ""
             }
            },
            "marker": {
             "colorbar": {
              "outlinewidth": 0,
              "ticks": ""
             }
            },
            "type": "scatter3d"
           }
          ],
          "scattercarpet": [
           {
            "marker": {
             "colorbar": {
              "outlinewidth": 0,
              "ticks": ""
             }
            },
            "type": "scattercarpet"
           }
          ],
          "scattergeo": [
           {
            "marker": {
             "colorbar": {
              "outlinewidth": 0,
              "ticks": ""
             }
            },
            "type": "scattergeo"
           }
          ],
          "scattergl": [
           {
            "marker": {
             "colorbar": {
              "outlinewidth": 0,
              "ticks": ""
             }
            },
            "type": "scattergl"
           }
          ],
          "scattermap": [
           {
            "marker": {
             "colorbar": {
              "outlinewidth": 0,
              "ticks": ""
             }
            },
            "type": "scattermap"
           }
          ],
          "scattermapbox": [
           {
            "marker": {
             "colorbar": {
              "outlinewidth": 0,
              "ticks": ""
             }
            },
            "type": "scattermapbox"
           }
          ],
          "scatterpolar": [
           {
            "marker": {
             "colorbar": {
              "outlinewidth": 0,
              "ticks": ""
             }
            },
            "type": "scatterpolar"
           }
          ],
          "scatterpolargl": [
           {
            "marker": {
             "colorbar": {
              "outlinewidth": 0,
              "ticks": ""
             }
            },
            "type": "scatterpolargl"
           }
          ],
          "scatterternary": [
           {
            "marker": {
             "colorbar": {
              "outlinewidth": 0,
              "ticks": ""
             }
            },
            "type": "scatterternary"
           }
          ],
          "surface": [
           {
            "colorbar": {
             "outlinewidth": 0,
             "ticks": ""
            },
            "colorscale": [
             [
              0,
              "#0d0887"
             ],
             [
              0.1111111111111111,
              "#46039f"
             ],
             [
              0.2222222222222222,
              "#7201a8"
             ],
             [
              0.3333333333333333,
              "#9c179e"
             ],
             [
              0.4444444444444444,
              "#bd3786"
             ],
             [
              0.5555555555555556,
              "#d8576b"
             ],
             [
              0.6666666666666666,
              "#ed7953"
             ],
             [
              0.7777777777777778,
              "#fb9f3a"
             ],
             [
              0.8888888888888888,
              "#fdca26"
             ],
             [
              1,
              "#f0f921"
             ]
            ],
            "type": "surface"
           }
          ],
          "table": [
           {
            "cells": {
             "fill": {
              "color": "#EBF0F8"
             },
             "line": {
              "color": "white"
             }
            },
            "header": {
             "fill": {
              "color": "#C8D4E3"
             },
             "line": {
              "color": "white"
             }
            },
            "type": "table"
           }
          ]
         },
         "layout": {
          "annotationdefaults": {
           "arrowcolor": "#2a3f5f",
           "arrowhead": 0,
           "arrowwidth": 1
          },
          "autotypenumbers": "strict",
          "coloraxis": {
           "colorbar": {
            "outlinewidth": 0,
            "ticks": ""
           }
          },
          "colorscale": {
           "diverging": [
            [
             0,
             "#8e0152"
            ],
            [
             0.1,
             "#c51b7d"
            ],
            [
             0.2,
             "#de77ae"
            ],
            [
             0.3,
             "#f1b6da"
            ],
            [
             0.4,
             "#fde0ef"
            ],
            [
             0.5,
             "#f7f7f7"
            ],
            [
             0.6,
             "#e6f5d0"
            ],
            [
             0.7,
             "#b8e186"
            ],
            [
             0.8,
             "#7fbc41"
            ],
            [
             0.9,
             "#4d9221"
            ],
            [
             1,
             "#276419"
            ]
           ],
           "sequential": [
            [
             0,
             "#0d0887"
            ],
            [
             0.1111111111111111,
             "#46039f"
            ],
            [
             0.2222222222222222,
             "#7201a8"
            ],
            [
             0.3333333333333333,
             "#9c179e"
            ],
            [
             0.4444444444444444,
             "#bd3786"
            ],
            [
             0.5555555555555556,
             "#d8576b"
            ],
            [
             0.6666666666666666,
             "#ed7953"
            ],
            [
             0.7777777777777778,
             "#fb9f3a"
            ],
            [
             0.8888888888888888,
             "#fdca26"
            ],
            [
             1,
             "#f0f921"
            ]
           ],
           "sequentialminus": [
            [
             0,
             "#0d0887"
            ],
            [
             0.1111111111111111,
             "#46039f"
            ],
            [
             0.2222222222222222,
             "#7201a8"
            ],
            [
             0.3333333333333333,
             "#9c179e"
            ],
            [
             0.4444444444444444,
             "#bd3786"
            ],
            [
             0.5555555555555556,
             "#d8576b"
            ],
            [
             0.6666666666666666,
             "#ed7953"
            ],
            [
             0.7777777777777778,
             "#fb9f3a"
            ],
            [
             0.8888888888888888,
             "#fdca26"
            ],
            [
             1,
             "#f0f921"
            ]
           ]
          },
          "colorway": [
           "#636efa",
           "#EF553B",
           "#00cc96",
           "#ab63fa",
           "#FFA15A",
           "#19d3f3",
           "#FF6692",
           "#B6E880",
           "#FF97FF",
           "#FECB52"
          ],
          "font": {
           "color": "#2a3f5f"
          },
          "geo": {
           "bgcolor": "white",
           "lakecolor": "white",
           "landcolor": "#E5ECF6",
           "showlakes": true,
           "showland": true,
           "subunitcolor": "white"
          },
          "hoverlabel": {
           "align": "left"
          },
          "hovermode": "closest",
          "mapbox": {
           "style": "light"
          },
          "paper_bgcolor": "white",
          "plot_bgcolor": "#E5ECF6",
          "polar": {
           "angularaxis": {
            "gridcolor": "white",
            "linecolor": "white",
            "ticks": ""
           },
           "bgcolor": "#E5ECF6",
           "radialaxis": {
            "gridcolor": "white",
            "linecolor": "white",
            "ticks": ""
           }
          },
          "scene": {
           "xaxis": {
            "backgroundcolor": "#E5ECF6",
            "gridcolor": "white",
            "gridwidth": 2,
            "linecolor": "white",
            "showbackground": true,
            "ticks": "",
            "zerolinecolor": "white"
           },
           "yaxis": {
            "backgroundcolor": "#E5ECF6",
            "gridcolor": "white",
            "gridwidth": 2,
            "linecolor": "white",
            "showbackground": true,
            "ticks": "",
            "zerolinecolor": "white"
           },
           "zaxis": {
            "backgroundcolor": "#E5ECF6",
            "gridcolor": "white",
            "gridwidth": 2,
            "linecolor": "white",
            "showbackground": true,
            "ticks": "",
            "zerolinecolor": "white"
           }
          },
          "shapedefaults": {
           "line": {
            "color": "#2a3f5f"
           }
          },
          "ternary": {
           "aaxis": {
            "gridcolor": "white",
            "linecolor": "white",
            "ticks": ""
           },
           "baxis": {
            "gridcolor": "white",
            "linecolor": "white",
            "ticks": ""
           },
           "bgcolor": "#E5ECF6",
           "caxis": {
            "gridcolor": "white",
            "linecolor": "white",
            "ticks": ""
           }
          },
          "title": {
           "x": 0.05
          },
          "xaxis": {
           "automargin": true,
           "gridcolor": "white",
           "linecolor": "white",
           "ticks": "",
           "title": {
            "standoff": 15
           },
           "zerolinecolor": "white",
           "zerolinewidth": 2
          },
          "yaxis": {
           "automargin": true,
           "gridcolor": "white",
           "linecolor": "white",
           "ticks": "",
           "title": {
            "standoff": 15
           },
           "zerolinecolor": "white",
           "zerolinewidth": 2
          }
         }
        },
        "title": {
         "text": "Time Spent in 'In Progress' Status for Epic SKY-550 Tickets<br><sub>Distribution of days spent in 'In Progress' status (includes self-loops)</sub>"
        },
        "width": 1200,
        "xaxis": {
         "categoryarray": [
          "1d",
          "2d",
          "3d",
          "4d",
          "5d"
         ],
         "categoryorder": "array",
         "range": [
          -0.5,
          4.5
         ],
         "title": {
          "text": "Days Spent in Status"
         },
         "type": "category"
        },
        "yaxis": {
         "title": {
          "text": "Number of Tickets"
         }
        }
       }
      },
      "text/html": [
       "<div>            <script src=\"https://cdnjs.cloudflare.com/ajax/libs/mathjax/2.7.5/MathJax.js?config=TeX-AMS-MML_SVG\"></script><script type=\"text/javascript\">if (window.MathJax && window.MathJax.Hub && window.MathJax.Hub.Config) {window.MathJax.Hub.Config({SVG: {font: \"STIX-Web\"}});}</script>                <script type=\"text/javascript\">window.PlotlyConfig = {MathJaxConfig: 'local'};</script>\n",
       "        <script charset=\"utf-8\" src=\"https://cdn.plot.ly/plotly-3.0.1.min.js\"></script>                <div id=\"615da21d-2ebf-4288-a671-c02c146d34c9\" class=\"plotly-graph-div\" style=\"height:600px; width:1200px;\"></div>            <script type=\"text/javascript\">                window.PLOTLYENV=window.PLOTLYENV || {};                                if (document.getElementById(\"615da21d-2ebf-4288-a671-c02c146d34c9\")) {                    Plotly.newPlot(                        \"615da21d-2ebf-4288-a671-c02c146d34c9\",                        [{\"customdata\":[\"Time: 1d\\u003cbr\\u003eTickets: 2\\u003cbr\\u003eExamples: SKY-558 (1d), SKY-557 (1d)\",\"Time: 2d\\u003cbr\\u003eTickets: 2\\u003cbr\\u003eExamples: SKY-560 (2d), SKY-556 (2d)\",\"Time: 3d\\u003cbr\\u003eTickets: 2\\u003cbr\\u003eExamples: SKY-562 (3d), SKY-555 (3d)\",\"Time: 4d\\u003cbr\\u003eTickets: 0\",\"Time: 5d\\u003cbr\\u003eTickets: 0\"],\"hovertemplate\":\"%{customdata}\\u003cextra\\u003e\\u003c\\u002fextra\\u003e\",\"marker\":{\"color\":[2,2,2,0,0],\"colorbar\":{\"title\":{\"text\":\"Ticket Count\"}},\"colorscale\":[[0.0,\"rgb(247,251,255)\"],[0.125,\"rgb(222,235,247)\"],[0.25,\"rgb(198,219,239)\"],[0.375,\"rgb(158,202,225)\"],[0.5,\"rgb(107,174,214)\"],[0.625,\"rgb(66,146,198)\"],[0.75,\"rgb(33,113,181)\"],[0.875,\"rgb(8,81,156)\"],[1.0,\"rgb(8,48,107)\"]],\"showscale\":false},\"text\":[\"2\",\"2\",\"2\",\"0\",\"0\"],\"textposition\":\"auto\",\"x\":[\"1d\",\"2d\",\"3d\",\"4d\",\"5d\"],\"y\":[2,2,2,0,0],\"type\":\"bar\"}],                        {\"annotations\":[{\"showarrow\":false,\"text\":\"Median: 2.0d\",\"x\":1.5,\"xanchor\":\"right\",\"xref\":\"x\",\"y\":1,\"yanchor\":\"top\",\"yref\":\"y domain\"},{\"showarrow\":false,\"text\":\"90th percentile: 3.0d\",\"x\":2.5,\"xanchor\":\"left\",\"xref\":\"x\",\"y\":1,\"yanchor\":\"top\",\"yref\":\"y domain\"}],\"font\":{\"size\":12},\"height\":600,\"margin\":{\"b\":50,\"l\":50,\"r\":50,\"t\":80},\"shapes\":[{\"line\":{\"color\":\"red\",\"dash\":\"dash\"},\"type\":\"line\",\"x0\":1.5,\"x1\":1.5,\"xref\":\"x\",\"y0\":0,\"y1\":1,\"yref\":\"y domain\"},{\"line\":{\"color\":\"orange\",\"dash\":\"dot\"},\"type\":\"line\",\"x0\":2.5,\"x1\":2.5,\"xref\":\"x\",\"y0\":0,\"y1\":1,\"yref\":\"y domain\"}],\"showlegend\":false,\"template\":{\"data\":{\"barpolar\":[{\"marker\":{\"line\":{\"color\":\"#E5ECF6\",\"width\":0.5},\"pattern\":{\"fillmode\":\"overlay\",\"size\":10,\"solidity\":0.2}},\"type\":\"barpolar\"}],\"bar\":[{\"error_x\":{\"color\":\"#2a3f5f\"},\"error_y\":{\"color\":\"#2a3f5f\"},\"marker\":{\"line\":{\"color\":\"#E5ECF6\",\"width\":0.5},\"pattern\":{\"fillmode\":\"overlay\",\"size\":10,\"solidity\":0.2}},\"type\":\"bar\"}],\"carpet\":[{\"aaxis\":{\"endlinecolor\":\"#2a3f5f\",\"gridcolor\":\"white\",\"linecolor\":\"white\",\"minorgridcolor\":\"white\",\"startlinecolor\":\"#2a3f5f\"},\"baxis\":{\"endlinecolor\":\"#2a3f5f\",\"gridcolor\":\"white\",\"linecolor\":\"white\",\"minorgridcolor\":\"white\",\"startlinecolor\":\"#2a3f5f\"},\"type\":\"carpet\"}],\"choropleth\":[{\"colorbar\":{\"outlinewidth\":0,\"ticks\":\"\"},\"type\":\"choropleth\"}],\"contourcarpet\":[{\"colorbar\":{\"outlinewidth\":0,\"ticks\":\"\"},\"type\":\"contourcarpet\"}],\"contour\":[{\"colorbar\":{\"outlinewidth\":0,\"ticks\":\"\"},\"colorscale\":[[0.0,\"#0d0887\"],[0.1111111111111111,\"#46039f\"],[0.2222222222222222,\"#7201a8\"],[0.3333333333333333,\"#9c179e\"],[0.4444444444444444,\"#bd3786\"],[0.5555555555555556,\"#d8576b\"],[0.6666666666666666,\"#ed7953\"],[0.7777777777777778,\"#fb9f3a\"],[0.8888888888888888,\"#fdca26\"],[1.0,\"#f0f921\"]],\"type\":\"contour\"}],\"heatmap\":[{\"colorbar\":{\"outlinewidth\":0,\"ticks\":\"\"},\"colorscale\":[[0.0,\"#0d0887\"],[0.1111111111111111,\"#46039f\"],[0.2222222222222222,\"#7201a8\"],[0.3333333333333333,\"#9c179e\"],[0.4444444444444444,\"#bd3786\"],[0.5555555555555556,\"#d8576b\"],[0.6666666666666666,\"#ed7953\"],[0.7777777777777778,\"#fb9f3a\"],[0.8888888888888888,\"#fdca26\"],[1.0,\"#f0f921\"]],\"type\":\"heatmap\"}],\"histogram2dcontour\":[{\"colorbar\":{\"outlinewidth\":0,\"ticks\":\"\"},\"colorscale\":[[0.0,\"#0d0887\"],[0.1111111111111111,\"#46039f\"],[0.2222222222222222,\"#7201a8\"],[0.3333333333333333,\"#9c179e\"],[0.4444444444444444,\"#bd3786\"],[0.5555555555555556,\"#d8576b\"],[0.6666666666666666,\"#ed7953\"],[0.7777777777777778,\"#fb9f3a\"],[0.8888888888888888,\"#fdca26\"],[1.0,\"#f0f921\"]],\"type\":\"histogram2dcontour\"}],\"histogram2d\":[{\"colorbar\":{\"outlinewidth\":0,\"ticks\":\"\"},\"colorscale\":[[0.0,\"#0d0887\"],[0.1111111111111111,\"#46039f\"],[0.2222222222222222,\"#7201a8\"],[0.3333333333333333,\"#9c179e\"],[0.4444444444444444,\"#bd3786\"],[0.5555555555555556,\"#d8576b\"],[0.6666666666666666,\"#ed7953\"],[0.7777777777777778,\"#fb9f3a\"],[0.8888888888888888,\"#fdca26\"],[1.0,\"#f0f921\"]],\"type\":\"histogram2d\"}],\"histogram\":[{\"marker\":{\"pattern\":{\"fillmode\":\"overlay\",\"size\":10,\"solidity\":0.2}},\"type\":\"histogram\"}],\"mesh3d\":[{\"colorbar\":{\"outlinewidth\":0,\"ticks\":\"\"},\"type\":\"mesh3d\"}],\"parcoords\":[{\"line\":{\"colorbar\":{\"outlinewidth\":0,\"ticks\":\"\"}},\"type\":\"parcoords\"}],\"pie\":[{\"automargin\":true,\"type\":\"pie\"}],\"scatter3d\":[{\"line\":{\"colorbar\":{\"outlinewidth\":0,\"ticks\":\"\"}},\"marker\":{\"colorbar\":{\"outlinewidth\":0,\"ticks\":\"\"}},\"type\":\"scatter3d\"}],\"scattercarpet\":[{\"marker\":{\"colorbar\":{\"outlinewidth\":0,\"ticks\":\"\"}},\"type\":\"scattercarpet\"}],\"scattergeo\":[{\"marker\":{\"colorbar\":{\"outlinewidth\":0,\"ticks\":\"\"}},\"type\":\"scattergeo\"}],\"scattergl\":[{\"marker\":{\"colorbar\":{\"outlinewidth\":0,\"ticks\":\"\"}},\"type\":\"scattergl\"}],\"scattermapbox\":[{\"marker\":{\"colorbar\":{\"outlinewidth\":0,\"ticks\":\"\"}},\"type\":\"scattermapbox\"}],\"scattermap\":[{\"marker\":{\"colorbar\":{\"outlinewidth\":0,\"ticks\":\"\"}},\"type\":\"scattermap\"}],\"scatterpolargl\":[{\"marker\":{\"colorbar\":{\"outlinewidth\":0,\"ticks\":\"\"}},\"type\":\"scatterpolargl\"}],\"scatterpolar\":[{\"marker\":{\"colorbar\":{\"outlinewidth\":0,\"ticks\":\"\"}},\"type\":\"scatterpolar\"}],\"scatter\":[{\"fillpattern\":{\"fillmode\":\"overlay\",\"size\":10,\"solidity\":0.2},\"type\":\"scatter\"}],\"scatterternary\":[{\"marker\":{\"colorbar\":{\"outlinewidth\":0,\"ticks\":\"\"}},\"type\":\"scatterternary\"}],\"surface\":[{\"colorbar\":{\"outlinewidth\":0,\"ticks\":\"\"},\"colorscale\":[[0.0,\"#0d0887\"],[0.1111111111111111,\"#46039f\"],[0.2222222222222222,\"#7201a8\"],[0.3333333333333333,\"#9c179e\"],[0.4444444444444444,\"#bd3786\"],[0.5555555555555556,\"#d8576b\"],[0.6666666666666666,\"#ed7953\"],[0.7777777777777778,\"#fb9f3a\"],[0.8888888888888888,\"#fdca26\"],[1.0,\"#f0f921\"]],\"type\":\"surface\"}],\"table\":[{\"cells\":{\"fill\":{\"color\":\"#EBF0F8\"},\"line\":{\"color\":\"white\"}},\"header\":{\"fill\":{\"color\":\"#C8D4E3\"},\"line\":{\"color\":\"white\"}},\"type\":\"table\"}]},\"layout\":{\"annotationdefaults\":{\"arrowcolor\":\"#2a3f5f\",\"arrowhead\":0,\"arrowwidth\":1},\"autotypenumbers\":\"strict\",\"coloraxis\":{\"colorbar\":{\"outlinewidth\":0,\"ticks\":\"\"}},\"colorscale\":{\"diverging\":[[0,\"#8e0152\"],[0.1,\"#c51b7d\"],[0.2,\"#de77ae\"],[0.3,\"#f1b6da\"],[0.4,\"#fde0ef\"],[0.5,\"#f7f7f7\"],[0.6,\"#e6f5d0\"],[0.7,\"#b8e186\"],[0.8,\"#7fbc41\"],[0.9,\"#4d9221\"],[1,\"#276419\"]],\"sequential\":[[0.0,\"#0d0887\"],[0.1111111111111111,\"#46039f\"],[0.2222222222222222,\"#7201a8\"],[0.3333333333333333,\"#9c179e\"],[0.4444444444444444,\"#bd3786\"],[0.5555555555555556,\"#d8576b\"],[0.6666666666666666,\"#ed7953\"],[0.7777777777777778,\"#fb9f3a\"],[0.8888888888888888,\"#fdca26\"],[1.0,\"#f0f921\"]],\"sequentialminus\":[[0.0,\"#0d0887\"],[0.1111111111111111,\"#46039f\"],[0.2222222222222222,\"#7201a8\"],[0.3333333333333333,\"#9c179e\"],[0.4444444444444444,\"#bd3786\"],[0.5555555555555556,\"#d8576b\"],[0.6666666666666666,\"#ed7953\"],[0.7777777777777778,\"#fb9f3a\"],[0.8888888888888888,\"#fdca26\"],[1.0,\"#f0f921\"]]},\"colorway\":[\"#636efa\",\"#EF553B\",\"#00cc96\",\"#ab63fa\",\"#FFA15A\",\"#19d3f3\",\"#FF6692\",\"#B6E880\",\"#FF97FF\",\"#FECB52\"],\"font\":{\"color\":\"#2a3f5f\"},\"geo\":{\"bgcolor\":\"white\",\"lakecolor\":\"white\",\"landcolor\":\"#E5ECF6\",\"showlakes\":true,\"showland\":true,\"subunitcolor\":\"white\"},\"hoverlabel\":{\"align\":\"left\"},\"hovermode\":\"closest\",\"mapbox\":{\"style\":\"light\"},\"paper_bgcolor\":\"white\",\"plot_bgcolor\":\"#E5ECF6\",\"polar\":{\"angularaxis\":{\"gridcolor\":\"white\",\"linecolor\":\"white\",\"ticks\":\"\"},\"bgcolor\":\"#E5ECF6\",\"radialaxis\":{\"gridcolor\":\"white\",\"linecolor\":\"white\",\"ticks\":\"\"}},\"scene\":{\"xaxis\":{\"backgroundcolor\":\"#E5ECF6\",\"gridcolor\":\"white\",\"gridwidth\":2,\"linecolor\":\"white\",\"showbackground\":true,\"ticks\":\"\",\"zerolinecolor\":\"white\"},\"yaxis\":{\"backgroundcolor\":\"#E5ECF6\",\"gridcolor\":\"white\",\"gridwidth\":2,\"linecolor\":\"white\",\"showbackground\":true,\"ticks\":\"\",\"zerolinecolor\":\"white\"},\"zaxis\":{\"backgroundcolor\":\"#E5ECF6\",\"gridcolor\":\"white\",\"gridwidth\":2,\"linecolor\":\"white\",\"showbackground\":true,\"ticks\":\"\",\"zerolinecolor\":\"white\"}},\"shapedefaults\":{\"line\":{\"color\":\"#2a3f5f\"}},\"ternary\":{\"aaxis\":{\"gridcolor\":\"white\",\"linecolor\":\"white\",\"ticks\":\"\"},\"baxis\":{\"gridcolor\":\"white\",\"linecolor\":\"white\",\"ticks\":\"\"},\"bgcolor\":\"#E5ECF6\",\"caxis\":{\"gridcolor\":\"white\",\"linecolor\":\"white\",\"ticks\":\"\"}},\"title\":{\"x\":0.05},\"xaxis\":{\"automargin\":true,\"gridcolor\":\"white\",\"linecolor\":\"white\",\"ticks\":\"\",\"title\":{\"standoff\":15},\"zerolinecolor\":\"white\",\"zerolinewidth\":2},\"yaxis\":{\"automargin\":true,\"gridcolor\":\"white\",\"linecolor\":\"white\",\"ticks\":\"\",\"title\":{\"standoff\":15},\"zerolinecolor\":\"white\",\"zerolinewidth\":2}}},\"title\":{\"text\":\"Time Spent in 'In Progress' Status for Epic SKY-550 Tickets\\u003cbr\\u003e\\u003csub\\u003eDistribution of days spent in 'In Progress' status (includes self-loops)\\u003c\\u002fsub\\u003e\"},\"width\":1200,\"xaxis\":{\"categoryarray\":[\"1d\",\"2d\",\"3d\",\"4d\",\"5d\"],\"categoryorder\":\"array\",\"range\":[-0.5,4.5],\"title\":{\"text\":\"Days Spent in Status\"},\"type\":\"category\"},\"yaxis\":{\"title\":{\"text\":\"Number of Tickets\"}}},                        {\"responsive\": true}                    ).then(function(){\n",
       "                            \n",
       "var gd = document.getElementById('615da21d-2ebf-4288-a671-c02c146d34c9');\n",
       "var x = new MutationObserver(function (mutations, observer) {{\n",
       "        var display = window.getComputedStyle(gd).display;\n",
       "        if (!display || display === 'none') {{\n",
       "            console.log([gd, 'removed!']);\n",
       "            Plotly.purge(gd);\n",
       "            observer.disconnect();\n",
       "        }}\n",
       "}});\n",
       "\n",
       "// Listen for the removal of the full notebook cells\n",
       "var notebookContainer = gd.closest('#notebook-container');\n",
       "if (notebookContainer) {{\n",
       "    x.observe(notebookContainer, {childList: true});\n",
       "}}\n",
       "\n",
       "// Listen for the clearing of the current output cell\n",
       "var outputEl = gd.closest('.output');\n",
       "if (outputEl) {{\n",
       "    x.observe(outputEl, {childList: true});\n",
       "}}\n",
       "\n",
       "                        })                };            </script>        </div>"
      ]
     },
     "metadata": {},
     "output_type": "display_data"
    },
    {
     "name": "stdout",
     "output_type": "stream",
     "text": [
      "\n",
      "📊 Status Time Distribution: In Progress\n",
      "==================================================\n",
      "📈 Statistics:\n",
      "   • Total tickets analyzed: 6 (includes self-loops)\n",
      "   • Average time: 2.0 days\n",
      "   • Median time: 2.0 days\n",
      "   • 90th percentile: 3.0 days\n",
      "   • Range: 1 - 3 days\n",
      "\n",
      "🔍 Bottleneck Analysis:\n",
      "   • Fast (≤3 days): 6 tickets (100.0%)\n",
      "   • Slow (>7 days): 0 tickets (0.0%)\n",
      "   • Very slow (>14 days): 0 tickets (0.0%)\n",
      "\n",
      "💡 Insights:\n",
      "   ✅ Good flow - most tickets move quickly through In Progress\n",
      "==================================================\n",
      "\n",
      "I have created a histogram showing the distribution of time spent in the 'In Progress' status for the tickets in Epic SKY-550. This histogram analyzed 6 tickets.\n",
      "\n"
     ]
    },
    {
     "name": "stdin",
     "output_type": "stream",
     "text": [
      "You:  histogram for selected for development\n"
     ]
    },
    {
     "name": "stdout",
     "output_type": "stream",
     "text": [
      "Agent: 🔍 [<function create_jira_ticket_status_histogram at 0x12b5b7060>] State check: 22 transitions in context\n",
      "🔍 [<function create_jira_ticket_status_histogram at 0x12b5b7060>] Context ID: 4998682032\n"
     ]
    },
    {
     "data": {
      "text/html": [
       "        <script type=\"text/javascript\">\n",
       "        window.PlotlyConfig = {MathJaxConfig: 'local'};\n",
       "        if (window.MathJax && window.MathJax.Hub && window.MathJax.Hub.Config) {window.MathJax.Hub.Config({SVG: {font: \"STIX-Web\"}});}\n",
       "        </script>\n",
       "        <script type=\"module\">import \"https://cdn.plot.ly/plotly-3.0.1.min\"</script>\n",
       "        "
      ]
     },
     "metadata": {},
     "output_type": "display_data"
    },
    {
     "name": "stdout",
     "output_type": "stream",
     "text": [
      "\n",
      "📋 Raw Transition Data for Histogram Analysis\n",
      "================================================================================\n"
     ]
    },
    {
     "data": {
      "text/html": [
       "<div>\n",
       "<style scoped>\n",
       "    .dataframe tbody tr th:only-of-type {\n",
       "        vertical-align: middle;\n",
       "    }\n",
       "\n",
       "    .dataframe tbody tr th {\n",
       "        vertical-align: top;\n",
       "    }\n",
       "\n",
       "    .dataframe thead th {\n",
       "        text-align: right;\n",
       "    }\n",
       "</style>\n",
       "<table border=\"1\" class=\"dataframe\">\n",
       "  <thead>\n",
       "    <tr style=\"text-align: right;\">\n",
       "      <th></th>\n",
       "      <th>issue_key</th>\n",
       "      <th>source_status</th>\n",
       "      <th>target_status</th>\n",
       "      <th>transition_days</th>\n",
       "      <th>note</th>\n",
       "    </tr>\n",
       "  </thead>\n",
       "  <tbody>\n",
       "    <tr>\n",
       "      <th>0</th>\n",
       "      <td>SKY-564</td>\n",
       "      <td>Backlog</td>\n",
       "      <td>Selected for Development</td>\n",
       "      <td>281</td>\n",
       "      <td>(from beginning)</td>\n",
       "    </tr>\n",
       "    <tr>\n",
       "      <th>1</th>\n",
       "      <td>SKY-564</td>\n",
       "      <td>Selected for Development</td>\n",
       "      <td>Selected for Development</td>\n",
       "      <td>2</td>\n",
       "      <td>(self-loop)</td>\n",
       "    </tr>\n",
       "    <tr>\n",
       "      <th>2</th>\n",
       "      <td>SKY-563</td>\n",
       "      <td>Backlog</td>\n",
       "      <td>Backlog</td>\n",
       "      <td>284</td>\n",
       "      <td>(self-loop)</td>\n",
       "    </tr>\n",
       "    <tr>\n",
       "      <th>3</th>\n",
       "      <td>SKY-562</td>\n",
       "      <td>Backlog</td>\n",
       "      <td>In Progress</td>\n",
       "      <td>281</td>\n",
       "      <td>(from beginning)</td>\n",
       "    </tr>\n",
       "    <tr>\n",
       "      <th>4</th>\n",
       "      <td>SKY-562</td>\n",
       "      <td>In Progress</td>\n",
       "      <td>In Progress</td>\n",
       "      <td>3</td>\n",
       "      <td>(self-loop)</td>\n",
       "    </tr>\n",
       "    <tr>\n",
       "      <th>5</th>\n",
       "      <td>SKY-561</td>\n",
       "      <td>Backlog</td>\n",
       "      <td>Backlog</td>\n",
       "      <td>284</td>\n",
       "      <td>(self-loop)</td>\n",
       "    </tr>\n",
       "    <tr>\n",
       "      <th>6</th>\n",
       "      <td>SKY-560</td>\n",
       "      <td>Backlog</td>\n",
       "      <td>In Progress</td>\n",
       "      <td>281</td>\n",
       "      <td>(from beginning)</td>\n",
       "    </tr>\n",
       "    <tr>\n",
       "      <th>7</th>\n",
       "      <td>SKY-560</td>\n",
       "      <td>In Progress</td>\n",
       "      <td>Done</td>\n",
       "      <td>2</td>\n",
       "      <td>(to end)</td>\n",
       "    </tr>\n",
       "    <tr>\n",
       "      <th>8</th>\n",
       "      <td>SKY-560</td>\n",
       "      <td>Done</td>\n",
       "      <td>Done</td>\n",
       "      <td>2</td>\n",
       "      <td>(self-loop)</td>\n",
       "    </tr>\n",
       "    <tr>\n",
       "      <th>9</th>\n",
       "      <td>SKY-558</td>\n",
       "      <td>Backlog</td>\n",
       "      <td>Selected for Development</td>\n",
       "      <td>281</td>\n",
       "      <td>(from beginning)</td>\n",
       "    </tr>\n",
       "    <tr>\n",
       "      <th>10</th>\n",
       "      <td>SKY-558</td>\n",
       "      <td>Selected for Development</td>\n",
       "      <td>In Progress</td>\n",
       "      <td>3</td>\n",
       "      <td></td>\n",
       "    </tr>\n",
       "    <tr>\n",
       "      <th>11</th>\n",
       "      <td>SKY-558</td>\n",
       "      <td>In Progress</td>\n",
       "      <td>In Progress</td>\n",
       "      <td>1</td>\n",
       "      <td>(self-loop)</td>\n",
       "    </tr>\n",
       "    <tr>\n",
       "      <th>12</th>\n",
       "      <td>SKY-557</td>\n",
       "      <td>Backlog</td>\n",
       "      <td>Selected for Development</td>\n",
       "      <td>282</td>\n",
       "      <td>(from beginning)</td>\n",
       "    </tr>\n",
       "    <tr>\n",
       "      <th>13</th>\n",
       "      <td>SKY-557</td>\n",
       "      <td>Selected for Development</td>\n",
       "      <td>In Progress</td>\n",
       "      <td>2</td>\n",
       "      <td></td>\n",
       "    </tr>\n",
       "    <tr>\n",
       "      <th>14</th>\n",
       "      <td>SKY-557</td>\n",
       "      <td>In Progress</td>\n",
       "      <td>In Progress</td>\n",
       "      <td>1</td>\n",
       "      <td>(self-loop)</td>\n",
       "    </tr>\n",
       "    <tr>\n",
       "      <th>15</th>\n",
       "      <td>SKY-556</td>\n",
       "      <td>Backlog</td>\n",
       "      <td>Selected for Development</td>\n",
       "      <td>281</td>\n",
       "      <td>(from beginning)</td>\n",
       "    </tr>\n",
       "    <tr>\n",
       "      <th>16</th>\n",
       "      <td>SKY-556</td>\n",
       "      <td>Selected for Development</td>\n",
       "      <td>In Progress</td>\n",
       "      <td>2</td>\n",
       "      <td></td>\n",
       "    </tr>\n",
       "    <tr>\n",
       "      <th>17</th>\n",
       "      <td>SKY-556</td>\n",
       "      <td>In Progress</td>\n",
       "      <td>In Progress</td>\n",
       "      <td>2</td>\n",
       "      <td>(self-loop)</td>\n",
       "    </tr>\n",
       "    <tr>\n",
       "      <th>18</th>\n",
       "      <td>SKY-555</td>\n",
       "      <td>Backlog</td>\n",
       "      <td>In Progress</td>\n",
       "      <td>281</td>\n",
       "      <td>(from beginning)</td>\n",
       "    </tr>\n",
       "    <tr>\n",
       "      <th>19</th>\n",
       "      <td>SKY-555</td>\n",
       "      <td>In Progress</td>\n",
       "      <td>Done</td>\n",
       "      <td>1</td>\n",
       "      <td>(to end)</td>\n",
       "    </tr>\n",
       "    <tr>\n",
       "      <th>20</th>\n",
       "      <td>SKY-555</td>\n",
       "      <td>Done</td>\n",
       "      <td>In Progress</td>\n",
       "      <td>2</td>\n",
       "      <td></td>\n",
       "    </tr>\n",
       "    <tr>\n",
       "      <th>21</th>\n",
       "      <td>SKY-555</td>\n",
       "      <td>In Progress</td>\n",
       "      <td>In Progress</td>\n",
       "      <td>2</td>\n",
       "      <td>(self-loop)</td>\n",
       "    </tr>\n",
       "  </tbody>\n",
       "</table>\n",
       "</div>"
      ],
      "text/plain": [
       "   issue_key             source_status             target_status  \\\n",
       "0    SKY-564                   Backlog  Selected for Development   \n",
       "1    SKY-564  Selected for Development  Selected for Development   \n",
       "2    SKY-563                   Backlog                   Backlog   \n",
       "3    SKY-562                   Backlog               In Progress   \n",
       "4    SKY-562               In Progress               In Progress   \n",
       "5    SKY-561                   Backlog                   Backlog   \n",
       "6    SKY-560                   Backlog               In Progress   \n",
       "7    SKY-560               In Progress                      Done   \n",
       "8    SKY-560                      Done                      Done   \n",
       "9    SKY-558                   Backlog  Selected for Development   \n",
       "10   SKY-558  Selected for Development               In Progress   \n",
       "11   SKY-558               In Progress               In Progress   \n",
       "12   SKY-557                   Backlog  Selected for Development   \n",
       "13   SKY-557  Selected for Development               In Progress   \n",
       "14   SKY-557               In Progress               In Progress   \n",
       "15   SKY-556                   Backlog  Selected for Development   \n",
       "16   SKY-556  Selected for Development               In Progress   \n",
       "17   SKY-556               In Progress               In Progress   \n",
       "18   SKY-555                   Backlog               In Progress   \n",
       "19   SKY-555               In Progress                      Done   \n",
       "20   SKY-555                      Done               In Progress   \n",
       "21   SKY-555               In Progress               In Progress   \n",
       "\n",
       "    transition_days              note  \n",
       "0               281  (from beginning)  \n",
       "1                 2       (self-loop)  \n",
       "2               284       (self-loop)  \n",
       "3               281  (from beginning)  \n",
       "4                 3       (self-loop)  \n",
       "5               284       (self-loop)  \n",
       "6               281  (from beginning)  \n",
       "7                 2          (to end)  \n",
       "8                 2       (self-loop)  \n",
       "9               281  (from beginning)  \n",
       "10                3                    \n",
       "11                1       (self-loop)  \n",
       "12              282  (from beginning)  \n",
       "13                2                    \n",
       "14                1       (self-loop)  \n",
       "15              281  (from beginning)  \n",
       "16                2                    \n",
       "17                2       (self-loop)  \n",
       "18              281  (from beginning)  \n",
       "19                1          (to end)  \n",
       "20                2                    \n",
       "21                2       (self-loop)  "
      ]
     },
     "metadata": {},
     "output_type": "display_data"
    },
    {
     "name": "stdout",
     "output_type": "stream",
     "text": [
      "================================================================================\n",
      "\n",
      "🔍 Found 4 time entries for 'Selected for Development' status:\n",
      "   • SKY-564 (2d)\n",
      "   • SKY-558 (3d)\n",
      "   • SKY-557 (2d)\n",
      "   • SKY-556 (2d)\n",
      "\n"
     ]
    },
    {
     "data": {
      "application/vnd.plotly.v1+json": {
       "config": {
        "linkText": "Export to plot.ly",
        "plotlyServerURL": "https://plot.ly",
        "showLink": false
       },
       "data": [
        {
         "customdata": [
          "Time: 1d<br>Tickets: 0",
          "Time: 2d<br>Tickets: 3<br>Examples: SKY-564 (2d), SKY-557 (2d), SKY-556 (2d)",
          "Time: 3d<br>Tickets: 1<br>Examples: SKY-558 (3d)",
          "Time: 4d<br>Tickets: 0",
          "Time: 5d<br>Tickets: 0"
         ],
         "hovertemplate": "%{customdata}<extra></extra>",
         "marker": {
          "color": [
           0,
           3,
           1,
           0,
           0
          ],
          "colorbar": {
           "title": {
            "text": "Ticket Count"
           }
          },
          "colorscale": [
           [
            0,
            "rgb(247,251,255)"
           ],
           [
            0.125,
            "rgb(222,235,247)"
           ],
           [
            0.25,
            "rgb(198,219,239)"
           ],
           [
            0.375,
            "rgb(158,202,225)"
           ],
           [
            0.5,
            "rgb(107,174,214)"
           ],
           [
            0.625,
            "rgb(66,146,198)"
           ],
           [
            0.75,
            "rgb(33,113,181)"
           ],
           [
            0.875,
            "rgb(8,81,156)"
           ],
           [
            1,
            "rgb(8,48,107)"
           ]
          ],
          "showscale": false
         },
         "text": [
          "0",
          "3",
          "1",
          "0",
          "0"
         ],
         "textposition": "auto",
         "type": "bar",
         "x": [
          "1d",
          "2d",
          "3d",
          "4d",
          "5d"
         ],
         "y": [
          0,
          3,
          1,
          0,
          0
         ]
        }
       ],
       "layout": {
        "annotations": [
         {
          "showarrow": false,
          "text": "Median: 2.0d",
          "x": 1.5,
          "xanchor": "right",
          "xref": "x",
          "y": 1,
          "yanchor": "top",
          "yref": "y domain"
         },
         {
          "showarrow": false,
          "text": "90th percentile: 2.7d",
          "x": 2.2,
          "xanchor": "left",
          "xref": "x",
          "y": 1,
          "yanchor": "top",
          "yref": "y domain"
         }
        ],
        "font": {
         "size": 12
        },
        "height": 600,
        "margin": {
         "b": 50,
         "l": 50,
         "r": 50,
         "t": 80
        },
        "shapes": [
         {
          "line": {
           "color": "red",
           "dash": "dash"
          },
          "type": "line",
          "x0": 1.5,
          "x1": 1.5,
          "xref": "x",
          "y0": 0,
          "y1": 1,
          "yref": "y domain"
         },
         {
          "line": {
           "color": "orange",
           "dash": "dot"
          },
          "type": "line",
          "x0": 2.2,
          "x1": 2.2,
          "xref": "x",
          "y0": 0,
          "y1": 1,
          "yref": "y domain"
         }
        ],
        "showlegend": false,
        "template": {
         "data": {
          "bar": [
           {
            "error_x": {
             "color": "#2a3f5f"
            },
            "error_y": {
             "color": "#2a3f5f"
            },
            "marker": {
             "line": {
              "color": "#E5ECF6",
              "width": 0.5
             },
             "pattern": {
              "fillmode": "overlay",
              "size": 10,
              "solidity": 0.2
             }
            },
            "type": "bar"
           }
          ],
          "barpolar": [
           {
            "marker": {
             "line": {
              "color": "#E5ECF6",
              "width": 0.5
             },
             "pattern": {
              "fillmode": "overlay",
              "size": 10,
              "solidity": 0.2
             }
            },
            "type": "barpolar"
           }
          ],
          "carpet": [
           {
            "aaxis": {
             "endlinecolor": "#2a3f5f",
             "gridcolor": "white",
             "linecolor": "white",
             "minorgridcolor": "white",
             "startlinecolor": "#2a3f5f"
            },
            "baxis": {
             "endlinecolor": "#2a3f5f",
             "gridcolor": "white",
             "linecolor": "white",
             "minorgridcolor": "white",
             "startlinecolor": "#2a3f5f"
            },
            "type": "carpet"
           }
          ],
          "choropleth": [
           {
            "colorbar": {
             "outlinewidth": 0,
             "ticks": ""
            },
            "type": "choropleth"
           }
          ],
          "contour": [
           {
            "colorbar": {
             "outlinewidth": 0,
             "ticks": ""
            },
            "colorscale": [
             [
              0,
              "#0d0887"
             ],
             [
              0.1111111111111111,
              "#46039f"
             ],
             [
              0.2222222222222222,
              "#7201a8"
             ],
             [
              0.3333333333333333,
              "#9c179e"
             ],
             [
              0.4444444444444444,
              "#bd3786"
             ],
             [
              0.5555555555555556,
              "#d8576b"
             ],
             [
              0.6666666666666666,
              "#ed7953"
             ],
             [
              0.7777777777777778,
              "#fb9f3a"
             ],
             [
              0.8888888888888888,
              "#fdca26"
             ],
             [
              1,
              "#f0f921"
             ]
            ],
            "type": "contour"
           }
          ],
          "contourcarpet": [
           {
            "colorbar": {
             "outlinewidth": 0,
             "ticks": ""
            },
            "type": "contourcarpet"
           }
          ],
          "heatmap": [
           {
            "colorbar": {
             "outlinewidth": 0,
             "ticks": ""
            },
            "colorscale": [
             [
              0,
              "#0d0887"
             ],
             [
              0.1111111111111111,
              "#46039f"
             ],
             [
              0.2222222222222222,
              "#7201a8"
             ],
             [
              0.3333333333333333,
              "#9c179e"
             ],
             [
              0.4444444444444444,
              "#bd3786"
             ],
             [
              0.5555555555555556,
              "#d8576b"
             ],
             [
              0.6666666666666666,
              "#ed7953"
             ],
             [
              0.7777777777777778,
              "#fb9f3a"
             ],
             [
              0.8888888888888888,
              "#fdca26"
             ],
             [
              1,
              "#f0f921"
             ]
            ],
            "type": "heatmap"
           }
          ],
          "histogram": [
           {
            "marker": {
             "pattern": {
              "fillmode": "overlay",
              "size": 10,
              "solidity": 0.2
             }
            },
            "type": "histogram"
           }
          ],
          "histogram2d": [
           {
            "colorbar": {
             "outlinewidth": 0,
             "ticks": ""
            },
            "colorscale": [
             [
              0,
              "#0d0887"
             ],
             [
              0.1111111111111111,
              "#46039f"
             ],
             [
              0.2222222222222222,
              "#7201a8"
             ],
             [
              0.3333333333333333,
              "#9c179e"
             ],
             [
              0.4444444444444444,
              "#bd3786"
             ],
             [
              0.5555555555555556,
              "#d8576b"
             ],
             [
              0.6666666666666666,
              "#ed7953"
             ],
             [
              0.7777777777777778,
              "#fb9f3a"
             ],
             [
              0.8888888888888888,
              "#fdca26"
             ],
             [
              1,
              "#f0f921"
             ]
            ],
            "type": "histogram2d"
           }
          ],
          "histogram2dcontour": [
           {
            "colorbar": {
             "outlinewidth": 0,
             "ticks": ""
            },
            "colorscale": [
             [
              0,
              "#0d0887"
             ],
             [
              0.1111111111111111,
              "#46039f"
             ],
             [
              0.2222222222222222,
              "#7201a8"
             ],
             [
              0.3333333333333333,
              "#9c179e"
             ],
             [
              0.4444444444444444,
              "#bd3786"
             ],
             [
              0.5555555555555556,
              "#d8576b"
             ],
             [
              0.6666666666666666,
              "#ed7953"
             ],
             [
              0.7777777777777778,
              "#fb9f3a"
             ],
             [
              0.8888888888888888,
              "#fdca26"
             ],
             [
              1,
              "#f0f921"
             ]
            ],
            "type": "histogram2dcontour"
           }
          ],
          "mesh3d": [
           {
            "colorbar": {
             "outlinewidth": 0,
             "ticks": ""
            },
            "type": "mesh3d"
           }
          ],
          "parcoords": [
           {
            "line": {
             "colorbar": {
              "outlinewidth": 0,
              "ticks": ""
             }
            },
            "type": "parcoords"
           }
          ],
          "pie": [
           {
            "automargin": true,
            "type": "pie"
           }
          ],
          "scatter": [
           {
            "fillpattern": {
             "fillmode": "overlay",
             "size": 10,
             "solidity": 0.2
            },
            "type": "scatter"
           }
          ],
          "scatter3d": [
           {
            "line": {
             "colorbar": {
              "outlinewidth": 0,
              "ticks": ""
             }
            },
            "marker": {
             "colorbar": {
              "outlinewidth": 0,
              "ticks": ""
             }
            },
            "type": "scatter3d"
           }
          ],
          "scattercarpet": [
           {
            "marker": {
             "colorbar": {
              "outlinewidth": 0,
              "ticks": ""
             }
            },
            "type": "scattercarpet"
           }
          ],
          "scattergeo": [
           {
            "marker": {
             "colorbar": {
              "outlinewidth": 0,
              "ticks": ""
             }
            },
            "type": "scattergeo"
           }
          ],
          "scattergl": [
           {
            "marker": {
             "colorbar": {
              "outlinewidth": 0,
              "ticks": ""
             }
            },
            "type": "scattergl"
           }
          ],
          "scattermap": [
           {
            "marker": {
             "colorbar": {
              "outlinewidth": 0,
              "ticks": ""
             }
            },
            "type": "scattermap"
           }
          ],
          "scattermapbox": [
           {
            "marker": {
             "colorbar": {
              "outlinewidth": 0,
              "ticks": ""
             }
            },
            "type": "scattermapbox"
           }
          ],
          "scatterpolar": [
           {
            "marker": {
             "colorbar": {
              "outlinewidth": 0,
              "ticks": ""
             }
            },
            "type": "scatterpolar"
           }
          ],
          "scatterpolargl": [
           {
            "marker": {
             "colorbar": {
              "outlinewidth": 0,
              "ticks": ""
             }
            },
            "type": "scatterpolargl"
           }
          ],
          "scatterternary": [
           {
            "marker": {
             "colorbar": {
              "outlinewidth": 0,
              "ticks": ""
             }
            },
            "type": "scatterternary"
           }
          ],
          "surface": [
           {
            "colorbar": {
             "outlinewidth": 0,
             "ticks": ""
            },
            "colorscale": [
             [
              0,
              "#0d0887"
             ],
             [
              0.1111111111111111,
              "#46039f"
             ],
             [
              0.2222222222222222,
              "#7201a8"
             ],
             [
              0.3333333333333333,
              "#9c179e"
             ],
             [
              0.4444444444444444,
              "#bd3786"
             ],
             [
              0.5555555555555556,
              "#d8576b"
             ],
             [
              0.6666666666666666,
              "#ed7953"
             ],
             [
              0.7777777777777778,
              "#fb9f3a"
             ],
             [
              0.8888888888888888,
              "#fdca26"
             ],
             [
              1,
              "#f0f921"
             ]
            ],
            "type": "surface"
           }
          ],
          "table": [
           {
            "cells": {
             "fill": {
              "color": "#EBF0F8"
             },
             "line": {
              "color": "white"
             }
            },
            "header": {
             "fill": {
              "color": "#C8D4E3"
             },
             "line": {
              "color": "white"
             }
            },
            "type": "table"
           }
          ]
         },
         "layout": {
          "annotationdefaults": {
           "arrowcolor": "#2a3f5f",
           "arrowhead": 0,
           "arrowwidth": 1
          },
          "autotypenumbers": "strict",
          "coloraxis": {
           "colorbar": {
            "outlinewidth": 0,
            "ticks": ""
           }
          },
          "colorscale": {
           "diverging": [
            [
             0,
             "#8e0152"
            ],
            [
             0.1,
             "#c51b7d"
            ],
            [
             0.2,
             "#de77ae"
            ],
            [
             0.3,
             "#f1b6da"
            ],
            [
             0.4,
             "#fde0ef"
            ],
            [
             0.5,
             "#f7f7f7"
            ],
            [
             0.6,
             "#e6f5d0"
            ],
            [
             0.7,
             "#b8e186"
            ],
            [
             0.8,
             "#7fbc41"
            ],
            [
             0.9,
             "#4d9221"
            ],
            [
             1,
             "#276419"
            ]
           ],
           "sequential": [
            [
             0,
             "#0d0887"
            ],
            [
             0.1111111111111111,
             "#46039f"
            ],
            [
             0.2222222222222222,
             "#7201a8"
            ],
            [
             0.3333333333333333,
             "#9c179e"
            ],
            [
             0.4444444444444444,
             "#bd3786"
            ],
            [
             0.5555555555555556,
             "#d8576b"
            ],
            [
             0.6666666666666666,
             "#ed7953"
            ],
            [
             0.7777777777777778,
             "#fb9f3a"
            ],
            [
             0.8888888888888888,
             "#fdca26"
            ],
            [
             1,
             "#f0f921"
            ]
           ],
           "sequentialminus": [
            [
             0,
             "#0d0887"
            ],
            [
             0.1111111111111111,
             "#46039f"
            ],
            [
             0.2222222222222222,
             "#7201a8"
            ],
            [
             0.3333333333333333,
             "#9c179e"
            ],
            [
             0.4444444444444444,
             "#bd3786"
            ],
            [
             0.5555555555555556,
             "#d8576b"
            ],
            [
             0.6666666666666666,
             "#ed7953"
            ],
            [
             0.7777777777777778,
             "#fb9f3a"
            ],
            [
             0.8888888888888888,
             "#fdca26"
            ],
            [
             1,
             "#f0f921"
            ]
           ]
          },
          "colorway": [
           "#636efa",
           "#EF553B",
           "#00cc96",
           "#ab63fa",
           "#FFA15A",
           "#19d3f3",
           "#FF6692",
           "#B6E880",
           "#FF97FF",
           "#FECB52"
          ],
          "font": {
           "color": "#2a3f5f"
          },
          "geo": {
           "bgcolor": "white",
           "lakecolor": "white",
           "landcolor": "#E5ECF6",
           "showlakes": true,
           "showland": true,
           "subunitcolor": "white"
          },
          "hoverlabel": {
           "align": "left"
          },
          "hovermode": "closest",
          "mapbox": {
           "style": "light"
          },
          "paper_bgcolor": "white",
          "plot_bgcolor": "#E5ECF6",
          "polar": {
           "angularaxis": {
            "gridcolor": "white",
            "linecolor": "white",
            "ticks": ""
           },
           "bgcolor": "#E5ECF6",
           "radialaxis": {
            "gridcolor": "white",
            "linecolor": "white",
            "ticks": ""
           }
          },
          "scene": {
           "xaxis": {
            "backgroundcolor": "#E5ECF6",
            "gridcolor": "white",
            "gridwidth": 2,
            "linecolor": "white",
            "showbackground": true,
            "ticks": "",
            "zerolinecolor": "white"
           },
           "yaxis": {
            "backgroundcolor": "#E5ECF6",
            "gridcolor": "white",
            "gridwidth": 2,
            "linecolor": "white",
            "showbackground": true,
            "ticks": "",
            "zerolinecolor": "white"
           },
           "zaxis": {
            "backgroundcolor": "#E5ECF6",
            "gridcolor": "white",
            "gridwidth": 2,
            "linecolor": "white",
            "showbackground": true,
            "ticks": "",
            "zerolinecolor": "white"
           }
          },
          "shapedefaults": {
           "line": {
            "color": "#2a3f5f"
           }
          },
          "ternary": {
           "aaxis": {
            "gridcolor": "white",
            "linecolor": "white",
            "ticks": ""
           },
           "baxis": {
            "gridcolor": "white",
            "linecolor": "white",
            "ticks": ""
           },
           "bgcolor": "#E5ECF6",
           "caxis": {
            "gridcolor": "white",
            "linecolor": "white",
            "ticks": ""
           }
          },
          "title": {
           "x": 0.05
          },
          "xaxis": {
           "automargin": true,
           "gridcolor": "white",
           "linecolor": "white",
           "ticks": "",
           "title": {
            "standoff": 15
           },
           "zerolinecolor": "white",
           "zerolinewidth": 2
          },
          "yaxis": {
           "automargin": true,
           "gridcolor": "white",
           "linecolor": "white",
           "ticks": "",
           "title": {
            "standoff": 15
           },
           "zerolinecolor": "white",
           "zerolinewidth": 2
          }
         }
        },
        "title": {
         "text": "Time Spent in 'Selected for Development' Status for Epic SKY-550 Tickets<br><sub>Distribution of days spent in 'Selected for Development' status (includes self-loops)</sub>"
        },
        "width": 1200,
        "xaxis": {
         "categoryarray": [
          "1d",
          "2d",
          "3d",
          "4d",
          "5d"
         ],
         "categoryorder": "array",
         "range": [
          -0.5,
          4.5
         ],
         "title": {
          "text": "Days Spent in Status"
         },
         "type": "category"
        },
        "yaxis": {
         "title": {
          "text": "Number of Tickets"
         }
        }
       }
      },
      "text/html": [
       "<div>            <script src=\"https://cdnjs.cloudflare.com/ajax/libs/mathjax/2.7.5/MathJax.js?config=TeX-AMS-MML_SVG\"></script><script type=\"text/javascript\">if (window.MathJax && window.MathJax.Hub && window.MathJax.Hub.Config) {window.MathJax.Hub.Config({SVG: {font: \"STIX-Web\"}});}</script>                <script type=\"text/javascript\">window.PlotlyConfig = {MathJaxConfig: 'local'};</script>\n",
       "        <script charset=\"utf-8\" src=\"https://cdn.plot.ly/plotly-3.0.1.min.js\"></script>                <div id=\"8a54ddfb-f2e1-4571-af5e-6259dbed27af\" class=\"plotly-graph-div\" style=\"height:600px; width:1200px;\"></div>            <script type=\"text/javascript\">                window.PLOTLYENV=window.PLOTLYENV || {};                                if (document.getElementById(\"8a54ddfb-f2e1-4571-af5e-6259dbed27af\")) {                    Plotly.newPlot(                        \"8a54ddfb-f2e1-4571-af5e-6259dbed27af\",                        [{\"customdata\":[\"Time: 1d\\u003cbr\\u003eTickets: 0\",\"Time: 2d\\u003cbr\\u003eTickets: 3\\u003cbr\\u003eExamples: SKY-564 (2d), SKY-557 (2d), SKY-556 (2d)\",\"Time: 3d\\u003cbr\\u003eTickets: 1\\u003cbr\\u003eExamples: SKY-558 (3d)\",\"Time: 4d\\u003cbr\\u003eTickets: 0\",\"Time: 5d\\u003cbr\\u003eTickets: 0\"],\"hovertemplate\":\"%{customdata}\\u003cextra\\u003e\\u003c\\u002fextra\\u003e\",\"marker\":{\"color\":[0,3,1,0,0],\"colorbar\":{\"title\":{\"text\":\"Ticket Count\"}},\"colorscale\":[[0.0,\"rgb(247,251,255)\"],[0.125,\"rgb(222,235,247)\"],[0.25,\"rgb(198,219,239)\"],[0.375,\"rgb(158,202,225)\"],[0.5,\"rgb(107,174,214)\"],[0.625,\"rgb(66,146,198)\"],[0.75,\"rgb(33,113,181)\"],[0.875,\"rgb(8,81,156)\"],[1.0,\"rgb(8,48,107)\"]],\"showscale\":false},\"text\":[\"0\",\"3\",\"1\",\"0\",\"0\"],\"textposition\":\"auto\",\"x\":[\"1d\",\"2d\",\"3d\",\"4d\",\"5d\"],\"y\":[0,3,1,0,0],\"type\":\"bar\"}],                        {\"annotations\":[{\"showarrow\":false,\"text\":\"Median: 2.0d\",\"x\":1.5,\"xanchor\":\"right\",\"xref\":\"x\",\"y\":1,\"yanchor\":\"top\",\"yref\":\"y domain\"},{\"showarrow\":false,\"text\":\"90th percentile: 2.7d\",\"x\":2.2,\"xanchor\":\"left\",\"xref\":\"x\",\"y\":1,\"yanchor\":\"top\",\"yref\":\"y domain\"}],\"font\":{\"size\":12},\"height\":600,\"margin\":{\"b\":50,\"l\":50,\"r\":50,\"t\":80},\"shapes\":[{\"line\":{\"color\":\"red\",\"dash\":\"dash\"},\"type\":\"line\",\"x0\":1.5,\"x1\":1.5,\"xref\":\"x\",\"y0\":0,\"y1\":1,\"yref\":\"y domain\"},{\"line\":{\"color\":\"orange\",\"dash\":\"dot\"},\"type\":\"line\",\"x0\":2.2,\"x1\":2.2,\"xref\":\"x\",\"y0\":0,\"y1\":1,\"yref\":\"y domain\"}],\"showlegend\":false,\"template\":{\"data\":{\"barpolar\":[{\"marker\":{\"line\":{\"color\":\"#E5ECF6\",\"width\":0.5},\"pattern\":{\"fillmode\":\"overlay\",\"size\":10,\"solidity\":0.2}},\"type\":\"barpolar\"}],\"bar\":[{\"error_x\":{\"color\":\"#2a3f5f\"},\"error_y\":{\"color\":\"#2a3f5f\"},\"marker\":{\"line\":{\"color\":\"#E5ECF6\",\"width\":0.5},\"pattern\":{\"fillmode\":\"overlay\",\"size\":10,\"solidity\":0.2}},\"type\":\"bar\"}],\"carpet\":[{\"aaxis\":{\"endlinecolor\":\"#2a3f5f\",\"gridcolor\":\"white\",\"linecolor\":\"white\",\"minorgridcolor\":\"white\",\"startlinecolor\":\"#2a3f5f\"},\"baxis\":{\"endlinecolor\":\"#2a3f5f\",\"gridcolor\":\"white\",\"linecolor\":\"white\",\"minorgridcolor\":\"white\",\"startlinecolor\":\"#2a3f5f\"},\"type\":\"carpet\"}],\"choropleth\":[{\"colorbar\":{\"outlinewidth\":0,\"ticks\":\"\"},\"type\":\"choropleth\"}],\"contourcarpet\":[{\"colorbar\":{\"outlinewidth\":0,\"ticks\":\"\"},\"type\":\"contourcarpet\"}],\"contour\":[{\"colorbar\":{\"outlinewidth\":0,\"ticks\":\"\"},\"colorscale\":[[0.0,\"#0d0887\"],[0.1111111111111111,\"#46039f\"],[0.2222222222222222,\"#7201a8\"],[0.3333333333333333,\"#9c179e\"],[0.4444444444444444,\"#bd3786\"],[0.5555555555555556,\"#d8576b\"],[0.6666666666666666,\"#ed7953\"],[0.7777777777777778,\"#fb9f3a\"],[0.8888888888888888,\"#fdca26\"],[1.0,\"#f0f921\"]],\"type\":\"contour\"}],\"heatmap\":[{\"colorbar\":{\"outlinewidth\":0,\"ticks\":\"\"},\"colorscale\":[[0.0,\"#0d0887\"],[0.1111111111111111,\"#46039f\"],[0.2222222222222222,\"#7201a8\"],[0.3333333333333333,\"#9c179e\"],[0.4444444444444444,\"#bd3786\"],[0.5555555555555556,\"#d8576b\"],[0.6666666666666666,\"#ed7953\"],[0.7777777777777778,\"#fb9f3a\"],[0.8888888888888888,\"#fdca26\"],[1.0,\"#f0f921\"]],\"type\":\"heatmap\"}],\"histogram2dcontour\":[{\"colorbar\":{\"outlinewidth\":0,\"ticks\":\"\"},\"colorscale\":[[0.0,\"#0d0887\"],[0.1111111111111111,\"#46039f\"],[0.2222222222222222,\"#7201a8\"],[0.3333333333333333,\"#9c179e\"],[0.4444444444444444,\"#bd3786\"],[0.5555555555555556,\"#d8576b\"],[0.6666666666666666,\"#ed7953\"],[0.7777777777777778,\"#fb9f3a\"],[0.8888888888888888,\"#fdca26\"],[1.0,\"#f0f921\"]],\"type\":\"histogram2dcontour\"}],\"histogram2d\":[{\"colorbar\":{\"outlinewidth\":0,\"ticks\":\"\"},\"colorscale\":[[0.0,\"#0d0887\"],[0.1111111111111111,\"#46039f\"],[0.2222222222222222,\"#7201a8\"],[0.3333333333333333,\"#9c179e\"],[0.4444444444444444,\"#bd3786\"],[0.5555555555555556,\"#d8576b\"],[0.6666666666666666,\"#ed7953\"],[0.7777777777777778,\"#fb9f3a\"],[0.8888888888888888,\"#fdca26\"],[1.0,\"#f0f921\"]],\"type\":\"histogram2d\"}],\"histogram\":[{\"marker\":{\"pattern\":{\"fillmode\":\"overlay\",\"size\":10,\"solidity\":0.2}},\"type\":\"histogram\"}],\"mesh3d\":[{\"colorbar\":{\"outlinewidth\":0,\"ticks\":\"\"},\"type\":\"mesh3d\"}],\"parcoords\":[{\"line\":{\"colorbar\":{\"outlinewidth\":0,\"ticks\":\"\"}},\"type\":\"parcoords\"}],\"pie\":[{\"automargin\":true,\"type\":\"pie\"}],\"scatter3d\":[{\"line\":{\"colorbar\":{\"outlinewidth\":0,\"ticks\":\"\"}},\"marker\":{\"colorbar\":{\"outlinewidth\":0,\"ticks\":\"\"}},\"type\":\"scatter3d\"}],\"scattercarpet\":[{\"marker\":{\"colorbar\":{\"outlinewidth\":0,\"ticks\":\"\"}},\"type\":\"scattercarpet\"}],\"scattergeo\":[{\"marker\":{\"colorbar\":{\"outlinewidth\":0,\"ticks\":\"\"}},\"type\":\"scattergeo\"}],\"scattergl\":[{\"marker\":{\"colorbar\":{\"outlinewidth\":0,\"ticks\":\"\"}},\"type\":\"scattergl\"}],\"scattermapbox\":[{\"marker\":{\"colorbar\":{\"outlinewidth\":0,\"ticks\":\"\"}},\"type\":\"scattermapbox\"}],\"scattermap\":[{\"marker\":{\"colorbar\":{\"outlinewidth\":0,\"ticks\":\"\"}},\"type\":\"scattermap\"}],\"scatterpolargl\":[{\"marker\":{\"colorbar\":{\"outlinewidth\":0,\"ticks\":\"\"}},\"type\":\"scatterpolargl\"}],\"scatterpolar\":[{\"marker\":{\"colorbar\":{\"outlinewidth\":0,\"ticks\":\"\"}},\"type\":\"scatterpolar\"}],\"scatter\":[{\"fillpattern\":{\"fillmode\":\"overlay\",\"size\":10,\"solidity\":0.2},\"type\":\"scatter\"}],\"scatterternary\":[{\"marker\":{\"colorbar\":{\"outlinewidth\":0,\"ticks\":\"\"}},\"type\":\"scatterternary\"}],\"surface\":[{\"colorbar\":{\"outlinewidth\":0,\"ticks\":\"\"},\"colorscale\":[[0.0,\"#0d0887\"],[0.1111111111111111,\"#46039f\"],[0.2222222222222222,\"#7201a8\"],[0.3333333333333333,\"#9c179e\"],[0.4444444444444444,\"#bd3786\"],[0.5555555555555556,\"#d8576b\"],[0.6666666666666666,\"#ed7953\"],[0.7777777777777778,\"#fb9f3a\"],[0.8888888888888888,\"#fdca26\"],[1.0,\"#f0f921\"]],\"type\":\"surface\"}],\"table\":[{\"cells\":{\"fill\":{\"color\":\"#EBF0F8\"},\"line\":{\"color\":\"white\"}},\"header\":{\"fill\":{\"color\":\"#C8D4E3\"},\"line\":{\"color\":\"white\"}},\"type\":\"table\"}]},\"layout\":{\"annotationdefaults\":{\"arrowcolor\":\"#2a3f5f\",\"arrowhead\":0,\"arrowwidth\":1},\"autotypenumbers\":\"strict\",\"coloraxis\":{\"colorbar\":{\"outlinewidth\":0,\"ticks\":\"\"}},\"colorscale\":{\"diverging\":[[0,\"#8e0152\"],[0.1,\"#c51b7d\"],[0.2,\"#de77ae\"],[0.3,\"#f1b6da\"],[0.4,\"#fde0ef\"],[0.5,\"#f7f7f7\"],[0.6,\"#e6f5d0\"],[0.7,\"#b8e186\"],[0.8,\"#7fbc41\"],[0.9,\"#4d9221\"],[1,\"#276419\"]],\"sequential\":[[0.0,\"#0d0887\"],[0.1111111111111111,\"#46039f\"],[0.2222222222222222,\"#7201a8\"],[0.3333333333333333,\"#9c179e\"],[0.4444444444444444,\"#bd3786\"],[0.5555555555555556,\"#d8576b\"],[0.6666666666666666,\"#ed7953\"],[0.7777777777777778,\"#fb9f3a\"],[0.8888888888888888,\"#fdca26\"],[1.0,\"#f0f921\"]],\"sequentialminus\":[[0.0,\"#0d0887\"],[0.1111111111111111,\"#46039f\"],[0.2222222222222222,\"#7201a8\"],[0.3333333333333333,\"#9c179e\"],[0.4444444444444444,\"#bd3786\"],[0.5555555555555556,\"#d8576b\"],[0.6666666666666666,\"#ed7953\"],[0.7777777777777778,\"#fb9f3a\"],[0.8888888888888888,\"#fdca26\"],[1.0,\"#f0f921\"]]},\"colorway\":[\"#636efa\",\"#EF553B\",\"#00cc96\",\"#ab63fa\",\"#FFA15A\",\"#19d3f3\",\"#FF6692\",\"#B6E880\",\"#FF97FF\",\"#FECB52\"],\"font\":{\"color\":\"#2a3f5f\"},\"geo\":{\"bgcolor\":\"white\",\"lakecolor\":\"white\",\"landcolor\":\"#E5ECF6\",\"showlakes\":true,\"showland\":true,\"subunitcolor\":\"white\"},\"hoverlabel\":{\"align\":\"left\"},\"hovermode\":\"closest\",\"mapbox\":{\"style\":\"light\"},\"paper_bgcolor\":\"white\",\"plot_bgcolor\":\"#E5ECF6\",\"polar\":{\"angularaxis\":{\"gridcolor\":\"white\",\"linecolor\":\"white\",\"ticks\":\"\"},\"bgcolor\":\"#E5ECF6\",\"radialaxis\":{\"gridcolor\":\"white\",\"linecolor\":\"white\",\"ticks\":\"\"}},\"scene\":{\"xaxis\":{\"backgroundcolor\":\"#E5ECF6\",\"gridcolor\":\"white\",\"gridwidth\":2,\"linecolor\":\"white\",\"showbackground\":true,\"ticks\":\"\",\"zerolinecolor\":\"white\"},\"yaxis\":{\"backgroundcolor\":\"#E5ECF6\",\"gridcolor\":\"white\",\"gridwidth\":2,\"linecolor\":\"white\",\"showbackground\":true,\"ticks\":\"\",\"zerolinecolor\":\"white\"},\"zaxis\":{\"backgroundcolor\":\"#E5ECF6\",\"gridcolor\":\"white\",\"gridwidth\":2,\"linecolor\":\"white\",\"showbackground\":true,\"ticks\":\"\",\"zerolinecolor\":\"white\"}},\"shapedefaults\":{\"line\":{\"color\":\"#2a3f5f\"}},\"ternary\":{\"aaxis\":{\"gridcolor\":\"white\",\"linecolor\":\"white\",\"ticks\":\"\"},\"baxis\":{\"gridcolor\":\"white\",\"linecolor\":\"white\",\"ticks\":\"\"},\"bgcolor\":\"#E5ECF6\",\"caxis\":{\"gridcolor\":\"white\",\"linecolor\":\"white\",\"ticks\":\"\"}},\"title\":{\"x\":0.05},\"xaxis\":{\"automargin\":true,\"gridcolor\":\"white\",\"linecolor\":\"white\",\"ticks\":\"\",\"title\":{\"standoff\":15},\"zerolinecolor\":\"white\",\"zerolinewidth\":2},\"yaxis\":{\"automargin\":true,\"gridcolor\":\"white\",\"linecolor\":\"white\",\"ticks\":\"\",\"title\":{\"standoff\":15},\"zerolinecolor\":\"white\",\"zerolinewidth\":2}}},\"title\":{\"text\":\"Time Spent in 'Selected for Development' Status for Epic SKY-550 Tickets\\u003cbr\\u003e\\u003csub\\u003eDistribution of days spent in 'Selected for Development' status (includes self-loops)\\u003c\\u002fsub\\u003e\"},\"width\":1200,\"xaxis\":{\"categoryarray\":[\"1d\",\"2d\",\"3d\",\"4d\",\"5d\"],\"categoryorder\":\"array\",\"range\":[-0.5,4.5],\"title\":{\"text\":\"Days Spent in Status\"},\"type\":\"category\"},\"yaxis\":{\"title\":{\"text\":\"Number of Tickets\"}}},                        {\"responsive\": true}                    ).then(function(){\n",
       "                            \n",
       "var gd = document.getElementById('8a54ddfb-f2e1-4571-af5e-6259dbed27af');\n",
       "var x = new MutationObserver(function (mutations, observer) {{\n",
       "        var display = window.getComputedStyle(gd).display;\n",
       "        if (!display || display === 'none') {{\n",
       "            console.log([gd, 'removed!']);\n",
       "            Plotly.purge(gd);\n",
       "            observer.disconnect();\n",
       "        }}\n",
       "}});\n",
       "\n",
       "// Listen for the removal of the full notebook cells\n",
       "var notebookContainer = gd.closest('#notebook-container');\n",
       "if (notebookContainer) {{\n",
       "    x.observe(notebookContainer, {childList: true});\n",
       "}}\n",
       "\n",
       "// Listen for the clearing of the current output cell\n",
       "var outputEl = gd.closest('.output');\n",
       "if (outputEl) {{\n",
       "    x.observe(outputEl, {childList: true});\n",
       "}}\n",
       "\n",
       "                        })                };            </script>        </div>"
      ]
     },
     "metadata": {},
     "output_type": "display_data"
    },
    {
     "name": "stdout",
     "output_type": "stream",
     "text": [
      "\n",
      "📊 Status Time Distribution: Selected for Development\n",
      "==================================================\n",
      "📈 Statistics:\n",
      "   • Total tickets analyzed: 4 (includes self-loops)\n",
      "   • Average time: 2.2 days\n",
      "   • Median time: 2.0 days\n",
      "   • 90th percentile: 2.7 days\n",
      "   • Range: 2 - 3 days\n",
      "\n",
      "🔍 Bottleneck Analysis:\n",
      "   • Fast (≤3 days): 4 tickets (100.0%)\n",
      "   • Slow (>7 days): 0 tickets (0.0%)\n",
      "   • Very slow (>14 days): 0 tickets (0.0%)\n",
      "\n",
      "💡 Insights:\n",
      "   ✅ Good flow - most tickets move quickly through Selected for Development\n",
      "==================================================\n",
      "\n",
      "I have created a histogram showing the distribution of time spent in the 'Selected for Development' status for the tickets in Epic SKY-550. This histogram analyzed 4 tickets.\n",
      "\n"
     ]
    },
    {
     "name": "stdin",
     "output_type": "stream",
     "text": [
      "You:  give me a bar chart\n"
     ]
    },
    {
     "name": "stdout",
     "output_type": "stream",
     "text": [
      "Agent: 🔍 [<function create_jira_ticket_status_time_bar_chart at 0x12b5b4900>] State check: 22 transitions in context\n",
      "🔍 [<function create_jira_ticket_status_time_bar_chart at 0x12b5b4900>] Context ID: 4998681648\n"
     ]
    },
    {
     "data": {
      "text/html": [
       "        <script type=\"text/javascript\">\n",
       "        window.PlotlyConfig = {MathJaxConfig: 'local'};\n",
       "        if (window.MathJax && window.MathJax.Hub && window.MathJax.Hub.Config) {window.MathJax.Hub.Config({SVG: {font: \"STIX-Web\"}});}\n",
       "        </script>\n",
       "        <script type=\"module\">import \"https://cdn.plot.ly/plotly-3.0.1.min\"</script>\n",
       "        "
      ]
     },
     "metadata": {},
     "output_type": "display_data"
    },
    {
     "name": "stdout",
     "output_type": "stream",
     "text": [
      "\n",
      "📋 Raw Transition Data for Bar Chart Analysis\n",
      "================================================================================\n"
     ]
    },
    {
     "data": {
      "text/html": [
       "<div>\n",
       "<style scoped>\n",
       "    .dataframe tbody tr th:only-of-type {\n",
       "        vertical-align: middle;\n",
       "    }\n",
       "\n",
       "    .dataframe tbody tr th {\n",
       "        vertical-align: top;\n",
       "    }\n",
       "\n",
       "    .dataframe thead th {\n",
       "        text-align: right;\n",
       "    }\n",
       "</style>\n",
       "<table border=\"1\" class=\"dataframe\">\n",
       "  <thead>\n",
       "    <tr style=\"text-align: right;\">\n",
       "      <th></th>\n",
       "      <th>issue_key</th>\n",
       "      <th>source_status</th>\n",
       "      <th>target_status</th>\n",
       "      <th>transition_days</th>\n",
       "      <th>note</th>\n",
       "    </tr>\n",
       "  </thead>\n",
       "  <tbody>\n",
       "    <tr>\n",
       "      <th>0</th>\n",
       "      <td>SKY-564</td>\n",
       "      <td>Backlog</td>\n",
       "      <td>Selected for Development</td>\n",
       "      <td>281</td>\n",
       "      <td>(from beginning)</td>\n",
       "    </tr>\n",
       "    <tr>\n",
       "      <th>1</th>\n",
       "      <td>SKY-564</td>\n",
       "      <td>Selected for Development</td>\n",
       "      <td>Selected for Development</td>\n",
       "      <td>2</td>\n",
       "      <td>(self-loop)</td>\n",
       "    </tr>\n",
       "    <tr>\n",
       "      <th>2</th>\n",
       "      <td>SKY-563</td>\n",
       "      <td>Backlog</td>\n",
       "      <td>Backlog</td>\n",
       "      <td>284</td>\n",
       "      <td>(self-loop)</td>\n",
       "    </tr>\n",
       "    <tr>\n",
       "      <th>3</th>\n",
       "      <td>SKY-562</td>\n",
       "      <td>Backlog</td>\n",
       "      <td>In Progress</td>\n",
       "      <td>281</td>\n",
       "      <td>(from beginning)</td>\n",
       "    </tr>\n",
       "    <tr>\n",
       "      <th>4</th>\n",
       "      <td>SKY-562</td>\n",
       "      <td>In Progress</td>\n",
       "      <td>In Progress</td>\n",
       "      <td>3</td>\n",
       "      <td>(self-loop)</td>\n",
       "    </tr>\n",
       "    <tr>\n",
       "      <th>5</th>\n",
       "      <td>SKY-561</td>\n",
       "      <td>Backlog</td>\n",
       "      <td>Backlog</td>\n",
       "      <td>284</td>\n",
       "      <td>(self-loop)</td>\n",
       "    </tr>\n",
       "    <tr>\n",
       "      <th>6</th>\n",
       "      <td>SKY-560</td>\n",
       "      <td>Backlog</td>\n",
       "      <td>In Progress</td>\n",
       "      <td>281</td>\n",
       "      <td>(from beginning)</td>\n",
       "    </tr>\n",
       "    <tr>\n",
       "      <th>7</th>\n",
       "      <td>SKY-560</td>\n",
       "      <td>In Progress</td>\n",
       "      <td>Done</td>\n",
       "      <td>2</td>\n",
       "      <td>(to end)</td>\n",
       "    </tr>\n",
       "    <tr>\n",
       "      <th>8</th>\n",
       "      <td>SKY-560</td>\n",
       "      <td>Done</td>\n",
       "      <td>Done</td>\n",
       "      <td>2</td>\n",
       "      <td>(self-loop)</td>\n",
       "    </tr>\n",
       "    <tr>\n",
       "      <th>9</th>\n",
       "      <td>SKY-558</td>\n",
       "      <td>Backlog</td>\n",
       "      <td>Selected for Development</td>\n",
       "      <td>281</td>\n",
       "      <td>(from beginning)</td>\n",
       "    </tr>\n",
       "    <tr>\n",
       "      <th>10</th>\n",
       "      <td>SKY-558</td>\n",
       "      <td>Selected for Development</td>\n",
       "      <td>In Progress</td>\n",
       "      <td>3</td>\n",
       "      <td></td>\n",
       "    </tr>\n",
       "    <tr>\n",
       "      <th>11</th>\n",
       "      <td>SKY-558</td>\n",
       "      <td>In Progress</td>\n",
       "      <td>In Progress</td>\n",
       "      <td>1</td>\n",
       "      <td>(self-loop)</td>\n",
       "    </tr>\n",
       "    <tr>\n",
       "      <th>12</th>\n",
       "      <td>SKY-557</td>\n",
       "      <td>Backlog</td>\n",
       "      <td>Selected for Development</td>\n",
       "      <td>282</td>\n",
       "      <td>(from beginning)</td>\n",
       "    </tr>\n",
       "    <tr>\n",
       "      <th>13</th>\n",
       "      <td>SKY-557</td>\n",
       "      <td>Selected for Development</td>\n",
       "      <td>In Progress</td>\n",
       "      <td>2</td>\n",
       "      <td></td>\n",
       "    </tr>\n",
       "    <tr>\n",
       "      <th>14</th>\n",
       "      <td>SKY-557</td>\n",
       "      <td>In Progress</td>\n",
       "      <td>In Progress</td>\n",
       "      <td>1</td>\n",
       "      <td>(self-loop)</td>\n",
       "    </tr>\n",
       "    <tr>\n",
       "      <th>15</th>\n",
       "      <td>SKY-556</td>\n",
       "      <td>Backlog</td>\n",
       "      <td>Selected for Development</td>\n",
       "      <td>281</td>\n",
       "      <td>(from beginning)</td>\n",
       "    </tr>\n",
       "    <tr>\n",
       "      <th>16</th>\n",
       "      <td>SKY-556</td>\n",
       "      <td>Selected for Development</td>\n",
       "      <td>In Progress</td>\n",
       "      <td>2</td>\n",
       "      <td></td>\n",
       "    </tr>\n",
       "    <tr>\n",
       "      <th>17</th>\n",
       "      <td>SKY-556</td>\n",
       "      <td>In Progress</td>\n",
       "      <td>In Progress</td>\n",
       "      <td>2</td>\n",
       "      <td>(self-loop)</td>\n",
       "    </tr>\n",
       "    <tr>\n",
       "      <th>18</th>\n",
       "      <td>SKY-555</td>\n",
       "      <td>Backlog</td>\n",
       "      <td>In Progress</td>\n",
       "      <td>281</td>\n",
       "      <td>(from beginning)</td>\n",
       "    </tr>\n",
       "    <tr>\n",
       "      <th>19</th>\n",
       "      <td>SKY-555</td>\n",
       "      <td>In Progress</td>\n",
       "      <td>Done</td>\n",
       "      <td>1</td>\n",
       "      <td>(to end)</td>\n",
       "    </tr>\n",
       "    <tr>\n",
       "      <th>20</th>\n",
       "      <td>SKY-555</td>\n",
       "      <td>Done</td>\n",
       "      <td>In Progress</td>\n",
       "      <td>2</td>\n",
       "      <td></td>\n",
       "    </tr>\n",
       "    <tr>\n",
       "      <th>21</th>\n",
       "      <td>SKY-555</td>\n",
       "      <td>In Progress</td>\n",
       "      <td>In Progress</td>\n",
       "      <td>2</td>\n",
       "      <td>(self-loop)</td>\n",
       "    </tr>\n",
       "  </tbody>\n",
       "</table>\n",
       "</div>"
      ],
      "text/plain": [
       "   issue_key             source_status             target_status  \\\n",
       "0    SKY-564                   Backlog  Selected for Development   \n",
       "1    SKY-564  Selected for Development  Selected for Development   \n",
       "2    SKY-563                   Backlog                   Backlog   \n",
       "3    SKY-562                   Backlog               In Progress   \n",
       "4    SKY-562               In Progress               In Progress   \n",
       "5    SKY-561                   Backlog                   Backlog   \n",
       "6    SKY-560                   Backlog               In Progress   \n",
       "7    SKY-560               In Progress                      Done   \n",
       "8    SKY-560                      Done                      Done   \n",
       "9    SKY-558                   Backlog  Selected for Development   \n",
       "10   SKY-558  Selected for Development               In Progress   \n",
       "11   SKY-558               In Progress               In Progress   \n",
       "12   SKY-557                   Backlog  Selected for Development   \n",
       "13   SKY-557  Selected for Development               In Progress   \n",
       "14   SKY-557               In Progress               In Progress   \n",
       "15   SKY-556                   Backlog  Selected for Development   \n",
       "16   SKY-556  Selected for Development               In Progress   \n",
       "17   SKY-556               In Progress               In Progress   \n",
       "18   SKY-555                   Backlog               In Progress   \n",
       "19   SKY-555               In Progress                      Done   \n",
       "20   SKY-555                      Done               In Progress   \n",
       "21   SKY-555               In Progress               In Progress   \n",
       "\n",
       "    transition_days              note  \n",
       "0               281  (from beginning)  \n",
       "1                 2       (self-loop)  \n",
       "2               284       (self-loop)  \n",
       "3               281  (from beginning)  \n",
       "4                 3       (self-loop)  \n",
       "5               284       (self-loop)  \n",
       "6               281  (from beginning)  \n",
       "7                 2          (to end)  \n",
       "8                 2       (self-loop)  \n",
       "9               281  (from beginning)  \n",
       "10                3                    \n",
       "11                1       (self-loop)  \n",
       "12              282  (from beginning)  \n",
       "13                2                    \n",
       "14                1       (self-loop)  \n",
       "15              281  (from beginning)  \n",
       "16                2                    \n",
       "17                2       (self-loop)  \n",
       "18              281  (from beginning)  \n",
       "19                1          (to end)  \n",
       "20                2                    \n",
       "21                2       (self-loop)  "
      ]
     },
     "metadata": {},
     "output_type": "display_data"
    },
    {
     "name": "stdout",
     "output_type": "stream",
     "text": [
      "================================================================================\n",
      "\n",
      "🔍 Time aggregation for each status:\n",
      "   • In Progress: 12 days (7 entries)\n",
      "     - SKY-562:3d (self-loop)\n",
      "     - SKY-560:2d\n",
      "     - SKY-558:1d (self-loop)\n",
      "     - SKY-557:1d (self-loop)\n",
      "     - SKY-556:2d (self-loop)\n",
      "     - SKY-555:1d\n",
      "     - SKY-555:2d (self-loop)\n",
      "   • Selected for Development: 9 days (4 entries)\n",
      "     - SKY-564:2d (self-loop)\n",
      "     - SKY-558:3d\n",
      "     - SKY-557:2d\n",
      "     - SKY-556:2d\n",
      "\n"
     ]
    },
    {
     "data": {
      "application/vnd.plotly.v1+json": {
       "config": {
        "linkText": "Export to plot.ly",
        "plotlyServerURL": "https://plot.ly",
        "showLink": false
       },
       "data": [
        {
         "customdata": [
          "Status: In Progress<br>Total Days: 12<br>Entries: 7<br>Details: SKY-562:3d (self-loop), SKY-560:2d, SKY-558:1d (self-loop), SKY-557:1d (self-loop), SKY-556:2d (self-loop) (+2 more)",
          "Status: Selected for Development<br>Total Days: 9<br>Entries: 4<br>Details: SKY-564:2d (self-loop), SKY-558:3d, SKY-557:2d, SKY-556:2d"
         ],
         "hovertemplate": "%{customdata}<extra></extra>",
         "marker": {
          "color": [
           12,
           9
          ],
          "colorbar": {
           "title": {
            "text": "Days"
           }
          },
          "colorscale": [
           [
            0,
            "#440154"
           ],
           [
            0.1111111111111111,
            "#482878"
           ],
           [
            0.2222222222222222,
            "#3e4989"
           ],
           [
            0.3333333333333333,
            "#31688e"
           ],
           [
            0.4444444444444444,
            "#26828e"
           ],
           [
            0.5555555555555556,
            "#1f9e89"
           ],
           [
            0.6666666666666666,
            "#35b779"
           ],
           [
            0.7777777777777778,
            "#6ece58"
           ],
           [
            0.8888888888888888,
            "#b5de2b"
           ],
           [
            1,
            "#fde725"
           ]
          ],
          "showscale": false
         },
         "text": [
          "12d",
          "9d"
         ],
         "textposition": "auto",
         "type": "bar",
         "x": [
          "In Progress",
          "Selected for Development"
         ],
         "y": [
          12,
          9
         ]
        }
       ],
       "layout": {
        "font": {
         "size": 12
        },
        "height": 600,
        "template": {
         "data": {
          "bar": [
           {
            "error_x": {
             "color": "#2a3f5f"
            },
            "error_y": {
             "color": "#2a3f5f"
            },
            "marker": {
             "line": {
              "color": "#E5ECF6",
              "width": 0.5
             },
             "pattern": {
              "fillmode": "overlay",
              "size": 10,
              "solidity": 0.2
             }
            },
            "type": "bar"
           }
          ],
          "barpolar": [
           {
            "marker": {
             "line": {
              "color": "#E5ECF6",
              "width": 0.5
             },
             "pattern": {
              "fillmode": "overlay",
              "size": 10,
              "solidity": 0.2
             }
            },
            "type": "barpolar"
           }
          ],
          "carpet": [
           {
            "aaxis": {
             "endlinecolor": "#2a3f5f",
             "gridcolor": "white",
             "linecolor": "white",
             "minorgridcolor": "white",
             "startlinecolor": "#2a3f5f"
            },
            "baxis": {
             "endlinecolor": "#2a3f5f",
             "gridcolor": "white",
             "linecolor": "white",
             "minorgridcolor": "white",
             "startlinecolor": "#2a3f5f"
            },
            "type": "carpet"
           }
          ],
          "choropleth": [
           {
            "colorbar": {
             "outlinewidth": 0,
             "ticks": ""
            },
            "type": "choropleth"
           }
          ],
          "contour": [
           {
            "colorbar": {
             "outlinewidth": 0,
             "ticks": ""
            },
            "colorscale": [
             [
              0,
              "#0d0887"
             ],
             [
              0.1111111111111111,
              "#46039f"
             ],
             [
              0.2222222222222222,
              "#7201a8"
             ],
             [
              0.3333333333333333,
              "#9c179e"
             ],
             [
              0.4444444444444444,
              "#bd3786"
             ],
             [
              0.5555555555555556,
              "#d8576b"
             ],
             [
              0.6666666666666666,
              "#ed7953"
             ],
             [
              0.7777777777777778,
              "#fb9f3a"
             ],
             [
              0.8888888888888888,
              "#fdca26"
             ],
             [
              1,
              "#f0f921"
             ]
            ],
            "type": "contour"
           }
          ],
          "contourcarpet": [
           {
            "colorbar": {
             "outlinewidth": 0,
             "ticks": ""
            },
            "type": "contourcarpet"
           }
          ],
          "heatmap": [
           {
            "colorbar": {
             "outlinewidth": 0,
             "ticks": ""
            },
            "colorscale": [
             [
              0,
              "#0d0887"
             ],
             [
              0.1111111111111111,
              "#46039f"
             ],
             [
              0.2222222222222222,
              "#7201a8"
             ],
             [
              0.3333333333333333,
              "#9c179e"
             ],
             [
              0.4444444444444444,
              "#bd3786"
             ],
             [
              0.5555555555555556,
              "#d8576b"
             ],
             [
              0.6666666666666666,
              "#ed7953"
             ],
             [
              0.7777777777777778,
              "#fb9f3a"
             ],
             [
              0.8888888888888888,
              "#fdca26"
             ],
             [
              1,
              "#f0f921"
             ]
            ],
            "type": "heatmap"
           }
          ],
          "histogram": [
           {
            "marker": {
             "pattern": {
              "fillmode": "overlay",
              "size": 10,
              "solidity": 0.2
             }
            },
            "type": "histogram"
           }
          ],
          "histogram2d": [
           {
            "colorbar": {
             "outlinewidth": 0,
             "ticks": ""
            },
            "colorscale": [
             [
              0,
              "#0d0887"
             ],
             [
              0.1111111111111111,
              "#46039f"
             ],
             [
              0.2222222222222222,
              "#7201a8"
             ],
             [
              0.3333333333333333,
              "#9c179e"
             ],
             [
              0.4444444444444444,
              "#bd3786"
             ],
             [
              0.5555555555555556,
              "#d8576b"
             ],
             [
              0.6666666666666666,
              "#ed7953"
             ],
             [
              0.7777777777777778,
              "#fb9f3a"
             ],
             [
              0.8888888888888888,
              "#fdca26"
             ],
             [
              1,
              "#f0f921"
             ]
            ],
            "type": "histogram2d"
           }
          ],
          "histogram2dcontour": [
           {
            "colorbar": {
             "outlinewidth": 0,
             "ticks": ""
            },
            "colorscale": [
             [
              0,
              "#0d0887"
             ],
             [
              0.1111111111111111,
              "#46039f"
             ],
             [
              0.2222222222222222,
              "#7201a8"
             ],
             [
              0.3333333333333333,
              "#9c179e"
             ],
             [
              0.4444444444444444,
              "#bd3786"
             ],
             [
              0.5555555555555556,
              "#d8576b"
             ],
             [
              0.6666666666666666,
              "#ed7953"
             ],
             [
              0.7777777777777778,
              "#fb9f3a"
             ],
             [
              0.8888888888888888,
              "#fdca26"
             ],
             [
              1,
              "#f0f921"
             ]
            ],
            "type": "histogram2dcontour"
           }
          ],
          "mesh3d": [
           {
            "colorbar": {
             "outlinewidth": 0,
             "ticks": ""
            },
            "type": "mesh3d"
           }
          ],
          "parcoords": [
           {
            "line": {
             "colorbar": {
              "outlinewidth": 0,
              "ticks": ""
             }
            },
            "type": "parcoords"
           }
          ],
          "pie": [
           {
            "automargin": true,
            "type": "pie"
           }
          ],
          "scatter": [
           {
            "fillpattern": {
             "fillmode": "overlay",
             "size": 10,
             "solidity": 0.2
            },
            "type": "scatter"
           }
          ],
          "scatter3d": [
           {
            "line": {
             "colorbar": {
              "outlinewidth": 0,
              "ticks": ""
             }
            },
            "marker": {
             "colorbar": {
              "outlinewidth": 0,
              "ticks": ""
             }
            },
            "type": "scatter3d"
           }
          ],
          "scattercarpet": [
           {
            "marker": {
             "colorbar": {
              "outlinewidth": 0,
              "ticks": ""
             }
            },
            "type": "scattercarpet"
           }
          ],
          "scattergeo": [
           {
            "marker": {
             "colorbar": {
              "outlinewidth": 0,
              "ticks": ""
             }
            },
            "type": "scattergeo"
           }
          ],
          "scattergl": [
           {
            "marker": {
             "colorbar": {
              "outlinewidth": 0,
              "ticks": ""
             }
            },
            "type": "scattergl"
           }
          ],
          "scattermap": [
           {
            "marker": {
             "colorbar": {
              "outlinewidth": 0,
              "ticks": ""
             }
            },
            "type": "scattermap"
           }
          ],
          "scattermapbox": [
           {
            "marker": {
             "colorbar": {
              "outlinewidth": 0,
              "ticks": ""
             }
            },
            "type": "scattermapbox"
           }
          ],
          "scatterpolar": [
           {
            "marker": {
             "colorbar": {
              "outlinewidth": 0,
              "ticks": ""
             }
            },
            "type": "scatterpolar"
           }
          ],
          "scatterpolargl": [
           {
            "marker": {
             "colorbar": {
              "outlinewidth": 0,
              "ticks": ""
             }
            },
            "type": "scatterpolargl"
           }
          ],
          "scatterternary": [
           {
            "marker": {
             "colorbar": {
              "outlinewidth": 0,
              "ticks": ""
             }
            },
            "type": "scatterternary"
           }
          ],
          "surface": [
           {
            "colorbar": {
             "outlinewidth": 0,
             "ticks": ""
            },
            "colorscale": [
             [
              0,
              "#0d0887"
             ],
             [
              0.1111111111111111,
              "#46039f"
             ],
             [
              0.2222222222222222,
              "#7201a8"
             ],
             [
              0.3333333333333333,
              "#9c179e"
             ],
             [
              0.4444444444444444,
              "#bd3786"
             ],
             [
              0.5555555555555556,
              "#d8576b"
             ],
             [
              0.6666666666666666,
              "#ed7953"
             ],
             [
              0.7777777777777778,
              "#fb9f3a"
             ],
             [
              0.8888888888888888,
              "#fdca26"
             ],
             [
              1,
              "#f0f921"
             ]
            ],
            "type": "surface"
           }
          ],
          "table": [
           {
            "cells": {
             "fill": {
              "color": "#EBF0F8"
             },
             "line": {
              "color": "white"
             }
            },
            "header": {
             "fill": {
              "color": "#C8D4E3"
             },
             "line": {
              "color": "white"
             }
            },
            "type": "table"
           }
          ]
         },
         "layout": {
          "annotationdefaults": {
           "arrowcolor": "#2a3f5f",
           "arrowhead": 0,
           "arrowwidth": 1
          },
          "autotypenumbers": "strict",
          "coloraxis": {
           "colorbar": {
            "outlinewidth": 0,
            "ticks": ""
           }
          },
          "colorscale": {
           "diverging": [
            [
             0,
             "#8e0152"
            ],
            [
             0.1,
             "#c51b7d"
            ],
            [
             0.2,
             "#de77ae"
            ],
            [
             0.3,
             "#f1b6da"
            ],
            [
             0.4,
             "#fde0ef"
            ],
            [
             0.5,
             "#f7f7f7"
            ],
            [
             0.6,
             "#e6f5d0"
            ],
            [
             0.7,
             "#b8e186"
            ],
            [
             0.8,
             "#7fbc41"
            ],
            [
             0.9,
             "#4d9221"
            ],
            [
             1,
             "#276419"
            ]
           ],
           "sequential": [
            [
             0,
             "#0d0887"
            ],
            [
             0.1111111111111111,
             "#46039f"
            ],
            [
             0.2222222222222222,
             "#7201a8"
            ],
            [
             0.3333333333333333,
             "#9c179e"
            ],
            [
             0.4444444444444444,
             "#bd3786"
            ],
            [
             0.5555555555555556,
             "#d8576b"
            ],
            [
             0.6666666666666666,
             "#ed7953"
            ],
            [
             0.7777777777777778,
             "#fb9f3a"
            ],
            [
             0.8888888888888888,
             "#fdca26"
            ],
            [
             1,
             "#f0f921"
            ]
           ],
           "sequentialminus": [
            [
             0,
             "#0d0887"
            ],
            [
             0.1111111111111111,
             "#46039f"
            ],
            [
             0.2222222222222222,
             "#7201a8"
            ],
            [
             0.3333333333333333,
             "#9c179e"
            ],
            [
             0.4444444444444444,
             "#bd3786"
            ],
            [
             0.5555555555555556,
             "#d8576b"
            ],
            [
             0.6666666666666666,
             "#ed7953"
            ],
            [
             0.7777777777777778,
             "#fb9f3a"
            ],
            [
             0.8888888888888888,
             "#fdca26"
            ],
            [
             1,
             "#f0f921"
            ]
           ]
          },
          "colorway": [
           "#636efa",
           "#EF553B",
           "#00cc96",
           "#ab63fa",
           "#FFA15A",
           "#19d3f3",
           "#FF6692",
           "#B6E880",
           "#FF97FF",
           "#FECB52"
          ],
          "font": {
           "color": "#2a3f5f"
          },
          "geo": {
           "bgcolor": "white",
           "lakecolor": "white",
           "landcolor": "#E5ECF6",
           "showlakes": true,
           "showland": true,
           "subunitcolor": "white"
          },
          "hoverlabel": {
           "align": "left"
          },
          "hovermode": "closest",
          "mapbox": {
           "style": "light"
          },
          "paper_bgcolor": "white",
          "plot_bgcolor": "#E5ECF6",
          "polar": {
           "angularaxis": {
            "gridcolor": "white",
            "linecolor": "white",
            "ticks": ""
           },
           "bgcolor": "#E5ECF6",
           "radialaxis": {
            "gridcolor": "white",
            "linecolor": "white",
            "ticks": ""
           }
          },
          "scene": {
           "xaxis": {
            "backgroundcolor": "#E5ECF6",
            "gridcolor": "white",
            "gridwidth": 2,
            "linecolor": "white",
            "showbackground": true,
            "ticks": "",
            "zerolinecolor": "white"
           },
           "yaxis": {
            "backgroundcolor": "#E5ECF6",
            "gridcolor": "white",
            "gridwidth": 2,
            "linecolor": "white",
            "showbackground": true,
            "ticks": "",
            "zerolinecolor": "white"
           },
           "zaxis": {
            "backgroundcolor": "#E5ECF6",
            "gridcolor": "white",
            "gridwidth": 2,
            "linecolor": "white",
            "showbackground": true,
            "ticks": "",
            "zerolinecolor": "white"
           }
          },
          "shapedefaults": {
           "line": {
            "color": "#2a3f5f"
           }
          },
          "ternary": {
           "aaxis": {
            "gridcolor": "white",
            "linecolor": "white",
            "ticks": ""
           },
           "baxis": {
            "gridcolor": "white",
            "linecolor": "white",
            "ticks": ""
           },
           "bgcolor": "#E5ECF6",
           "caxis": {
            "gridcolor": "white",
            "linecolor": "white",
            "ticks": ""
           }
          },
          "title": {
           "x": 0.05
          },
          "xaxis": {
           "automargin": true,
           "gridcolor": "white",
           "linecolor": "white",
           "ticks": "",
           "title": {
            "standoff": 15
           },
           "zerolinecolor": "white",
           "zerolinewidth": 2
          },
          "yaxis": {
           "automargin": true,
           "gridcolor": "white",
           "linecolor": "white",
           "ticks": "",
           "title": {
            "standoff": 15
           },
           "zerolinecolor": "white",
           "zerolinewidth": 2
          }
         }
        },
        "title": {
         "text": "Total Time Spent in Each Status for Epic SKY-550 Tickets<br><sub>Includes self-loops, excludes beginning (New, Backlog) and end (Done, Closed) statuses</sub>"
        },
        "width": 1000,
        "xaxis": {
         "categoryorder": "total descending",
         "title": {
          "text": "Status"
         }
        },
        "yaxis": {
         "dtick": 1,
         "tick0": 0,
         "title": {
          "text": "Total Days"
         }
        }
       }
      },
      "text/html": [
       "<div>            <script src=\"https://cdnjs.cloudflare.com/ajax/libs/mathjax/2.7.5/MathJax.js?config=TeX-AMS-MML_SVG\"></script><script type=\"text/javascript\">if (window.MathJax && window.MathJax.Hub && window.MathJax.Hub.Config) {window.MathJax.Hub.Config({SVG: {font: \"STIX-Web\"}});}</script>                <script type=\"text/javascript\">window.PlotlyConfig = {MathJaxConfig: 'local'};</script>\n",
       "        <script charset=\"utf-8\" src=\"https://cdn.plot.ly/plotly-3.0.1.min.js\"></script>                <div id=\"df9c3a7b-34af-4a93-9ea4-66ea79ad19e1\" class=\"plotly-graph-div\" style=\"height:600px; width:1000px;\"></div>            <script type=\"text/javascript\">                window.PLOTLYENV=window.PLOTLYENV || {};                                if (document.getElementById(\"df9c3a7b-34af-4a93-9ea4-66ea79ad19e1\")) {                    Plotly.newPlot(                        \"df9c3a7b-34af-4a93-9ea4-66ea79ad19e1\",                        [{\"customdata\":[\"Status: In Progress\\u003cbr\\u003eTotal Days: 12\\u003cbr\\u003eEntries: 7\\u003cbr\\u003eDetails: SKY-562:3d (self-loop), SKY-560:2d, SKY-558:1d (self-loop), SKY-557:1d (self-loop), SKY-556:2d (self-loop) (+2 more)\",\"Status: Selected for Development\\u003cbr\\u003eTotal Days: 9\\u003cbr\\u003eEntries: 4\\u003cbr\\u003eDetails: SKY-564:2d (self-loop), SKY-558:3d, SKY-557:2d, SKY-556:2d\"],\"hovertemplate\":\"%{customdata}\\u003cextra\\u003e\\u003c\\u002fextra\\u003e\",\"marker\":{\"color\":[12,9],\"colorbar\":{\"title\":{\"text\":\"Days\"}},\"colorscale\":[[0.0,\"#440154\"],[0.1111111111111111,\"#482878\"],[0.2222222222222222,\"#3e4989\"],[0.3333333333333333,\"#31688e\"],[0.4444444444444444,\"#26828e\"],[0.5555555555555556,\"#1f9e89\"],[0.6666666666666666,\"#35b779\"],[0.7777777777777778,\"#6ece58\"],[0.8888888888888888,\"#b5de2b\"],[1.0,\"#fde725\"]],\"showscale\":false},\"text\":[\"12d\",\"9d\"],\"textposition\":\"auto\",\"x\":[\"In Progress\",\"Selected for Development\"],\"y\":[12,9],\"type\":\"bar\"}],                        {\"font\":{\"size\":12},\"height\":600,\"template\":{\"data\":{\"barpolar\":[{\"marker\":{\"line\":{\"color\":\"#E5ECF6\",\"width\":0.5},\"pattern\":{\"fillmode\":\"overlay\",\"size\":10,\"solidity\":0.2}},\"type\":\"barpolar\"}],\"bar\":[{\"error_x\":{\"color\":\"#2a3f5f\"},\"error_y\":{\"color\":\"#2a3f5f\"},\"marker\":{\"line\":{\"color\":\"#E5ECF6\",\"width\":0.5},\"pattern\":{\"fillmode\":\"overlay\",\"size\":10,\"solidity\":0.2}},\"type\":\"bar\"}],\"carpet\":[{\"aaxis\":{\"endlinecolor\":\"#2a3f5f\",\"gridcolor\":\"white\",\"linecolor\":\"white\",\"minorgridcolor\":\"white\",\"startlinecolor\":\"#2a3f5f\"},\"baxis\":{\"endlinecolor\":\"#2a3f5f\",\"gridcolor\":\"white\",\"linecolor\":\"white\",\"minorgridcolor\":\"white\",\"startlinecolor\":\"#2a3f5f\"},\"type\":\"carpet\"}],\"choropleth\":[{\"colorbar\":{\"outlinewidth\":0,\"ticks\":\"\"},\"type\":\"choropleth\"}],\"contourcarpet\":[{\"colorbar\":{\"outlinewidth\":0,\"ticks\":\"\"},\"type\":\"contourcarpet\"}],\"contour\":[{\"colorbar\":{\"outlinewidth\":0,\"ticks\":\"\"},\"colorscale\":[[0.0,\"#0d0887\"],[0.1111111111111111,\"#46039f\"],[0.2222222222222222,\"#7201a8\"],[0.3333333333333333,\"#9c179e\"],[0.4444444444444444,\"#bd3786\"],[0.5555555555555556,\"#d8576b\"],[0.6666666666666666,\"#ed7953\"],[0.7777777777777778,\"#fb9f3a\"],[0.8888888888888888,\"#fdca26\"],[1.0,\"#f0f921\"]],\"type\":\"contour\"}],\"heatmap\":[{\"colorbar\":{\"outlinewidth\":0,\"ticks\":\"\"},\"colorscale\":[[0.0,\"#0d0887\"],[0.1111111111111111,\"#46039f\"],[0.2222222222222222,\"#7201a8\"],[0.3333333333333333,\"#9c179e\"],[0.4444444444444444,\"#bd3786\"],[0.5555555555555556,\"#d8576b\"],[0.6666666666666666,\"#ed7953\"],[0.7777777777777778,\"#fb9f3a\"],[0.8888888888888888,\"#fdca26\"],[1.0,\"#f0f921\"]],\"type\":\"heatmap\"}],\"histogram2dcontour\":[{\"colorbar\":{\"outlinewidth\":0,\"ticks\":\"\"},\"colorscale\":[[0.0,\"#0d0887\"],[0.1111111111111111,\"#46039f\"],[0.2222222222222222,\"#7201a8\"],[0.3333333333333333,\"#9c179e\"],[0.4444444444444444,\"#bd3786\"],[0.5555555555555556,\"#d8576b\"],[0.6666666666666666,\"#ed7953\"],[0.7777777777777778,\"#fb9f3a\"],[0.8888888888888888,\"#fdca26\"],[1.0,\"#f0f921\"]],\"type\":\"histogram2dcontour\"}],\"histogram2d\":[{\"colorbar\":{\"outlinewidth\":0,\"ticks\":\"\"},\"colorscale\":[[0.0,\"#0d0887\"],[0.1111111111111111,\"#46039f\"],[0.2222222222222222,\"#7201a8\"],[0.3333333333333333,\"#9c179e\"],[0.4444444444444444,\"#bd3786\"],[0.5555555555555556,\"#d8576b\"],[0.6666666666666666,\"#ed7953\"],[0.7777777777777778,\"#fb9f3a\"],[0.8888888888888888,\"#fdca26\"],[1.0,\"#f0f921\"]],\"type\":\"histogram2d\"}],\"histogram\":[{\"marker\":{\"pattern\":{\"fillmode\":\"overlay\",\"size\":10,\"solidity\":0.2}},\"type\":\"histogram\"}],\"mesh3d\":[{\"colorbar\":{\"outlinewidth\":0,\"ticks\":\"\"},\"type\":\"mesh3d\"}],\"parcoords\":[{\"line\":{\"colorbar\":{\"outlinewidth\":0,\"ticks\":\"\"}},\"type\":\"parcoords\"}],\"pie\":[{\"automargin\":true,\"type\":\"pie\"}],\"scatter3d\":[{\"line\":{\"colorbar\":{\"outlinewidth\":0,\"ticks\":\"\"}},\"marker\":{\"colorbar\":{\"outlinewidth\":0,\"ticks\":\"\"}},\"type\":\"scatter3d\"}],\"scattercarpet\":[{\"marker\":{\"colorbar\":{\"outlinewidth\":0,\"ticks\":\"\"}},\"type\":\"scattercarpet\"}],\"scattergeo\":[{\"marker\":{\"colorbar\":{\"outlinewidth\":0,\"ticks\":\"\"}},\"type\":\"scattergeo\"}],\"scattergl\":[{\"marker\":{\"colorbar\":{\"outlinewidth\":0,\"ticks\":\"\"}},\"type\":\"scattergl\"}],\"scattermapbox\":[{\"marker\":{\"colorbar\":{\"outlinewidth\":0,\"ticks\":\"\"}},\"type\":\"scattermapbox\"}],\"scattermap\":[{\"marker\":{\"colorbar\":{\"outlinewidth\":0,\"ticks\":\"\"}},\"type\":\"scattermap\"}],\"scatterpolargl\":[{\"marker\":{\"colorbar\":{\"outlinewidth\":0,\"ticks\":\"\"}},\"type\":\"scatterpolargl\"}],\"scatterpolar\":[{\"marker\":{\"colorbar\":{\"outlinewidth\":0,\"ticks\":\"\"}},\"type\":\"scatterpolar\"}],\"scatter\":[{\"fillpattern\":{\"fillmode\":\"overlay\",\"size\":10,\"solidity\":0.2},\"type\":\"scatter\"}],\"scatterternary\":[{\"marker\":{\"colorbar\":{\"outlinewidth\":0,\"ticks\":\"\"}},\"type\":\"scatterternary\"}],\"surface\":[{\"colorbar\":{\"outlinewidth\":0,\"ticks\":\"\"},\"colorscale\":[[0.0,\"#0d0887\"],[0.1111111111111111,\"#46039f\"],[0.2222222222222222,\"#7201a8\"],[0.3333333333333333,\"#9c179e\"],[0.4444444444444444,\"#bd3786\"],[0.5555555555555556,\"#d8576b\"],[0.6666666666666666,\"#ed7953\"],[0.7777777777777778,\"#fb9f3a\"],[0.8888888888888888,\"#fdca26\"],[1.0,\"#f0f921\"]],\"type\":\"surface\"}],\"table\":[{\"cells\":{\"fill\":{\"color\":\"#EBF0F8\"},\"line\":{\"color\":\"white\"}},\"header\":{\"fill\":{\"color\":\"#C8D4E3\"},\"line\":{\"color\":\"white\"}},\"type\":\"table\"}]},\"layout\":{\"annotationdefaults\":{\"arrowcolor\":\"#2a3f5f\",\"arrowhead\":0,\"arrowwidth\":1},\"autotypenumbers\":\"strict\",\"coloraxis\":{\"colorbar\":{\"outlinewidth\":0,\"ticks\":\"\"}},\"colorscale\":{\"diverging\":[[0,\"#8e0152\"],[0.1,\"#c51b7d\"],[0.2,\"#de77ae\"],[0.3,\"#f1b6da\"],[0.4,\"#fde0ef\"],[0.5,\"#f7f7f7\"],[0.6,\"#e6f5d0\"],[0.7,\"#b8e186\"],[0.8,\"#7fbc41\"],[0.9,\"#4d9221\"],[1,\"#276419\"]],\"sequential\":[[0.0,\"#0d0887\"],[0.1111111111111111,\"#46039f\"],[0.2222222222222222,\"#7201a8\"],[0.3333333333333333,\"#9c179e\"],[0.4444444444444444,\"#bd3786\"],[0.5555555555555556,\"#d8576b\"],[0.6666666666666666,\"#ed7953\"],[0.7777777777777778,\"#fb9f3a\"],[0.8888888888888888,\"#fdca26\"],[1.0,\"#f0f921\"]],\"sequentialminus\":[[0.0,\"#0d0887\"],[0.1111111111111111,\"#46039f\"],[0.2222222222222222,\"#7201a8\"],[0.3333333333333333,\"#9c179e\"],[0.4444444444444444,\"#bd3786\"],[0.5555555555555556,\"#d8576b\"],[0.6666666666666666,\"#ed7953\"],[0.7777777777777778,\"#fb9f3a\"],[0.8888888888888888,\"#fdca26\"],[1.0,\"#f0f921\"]]},\"colorway\":[\"#636efa\",\"#EF553B\",\"#00cc96\",\"#ab63fa\",\"#FFA15A\",\"#19d3f3\",\"#FF6692\",\"#B6E880\",\"#FF97FF\",\"#FECB52\"],\"font\":{\"color\":\"#2a3f5f\"},\"geo\":{\"bgcolor\":\"white\",\"lakecolor\":\"white\",\"landcolor\":\"#E5ECF6\",\"showlakes\":true,\"showland\":true,\"subunitcolor\":\"white\"},\"hoverlabel\":{\"align\":\"left\"},\"hovermode\":\"closest\",\"mapbox\":{\"style\":\"light\"},\"paper_bgcolor\":\"white\",\"plot_bgcolor\":\"#E5ECF6\",\"polar\":{\"angularaxis\":{\"gridcolor\":\"white\",\"linecolor\":\"white\",\"ticks\":\"\"},\"bgcolor\":\"#E5ECF6\",\"radialaxis\":{\"gridcolor\":\"white\",\"linecolor\":\"white\",\"ticks\":\"\"}},\"scene\":{\"xaxis\":{\"backgroundcolor\":\"#E5ECF6\",\"gridcolor\":\"white\",\"gridwidth\":2,\"linecolor\":\"white\",\"showbackground\":true,\"ticks\":\"\",\"zerolinecolor\":\"white\"},\"yaxis\":{\"backgroundcolor\":\"#E5ECF6\",\"gridcolor\":\"white\",\"gridwidth\":2,\"linecolor\":\"white\",\"showbackground\":true,\"ticks\":\"\",\"zerolinecolor\":\"white\"},\"zaxis\":{\"backgroundcolor\":\"#E5ECF6\",\"gridcolor\":\"white\",\"gridwidth\":2,\"linecolor\":\"white\",\"showbackground\":true,\"ticks\":\"\",\"zerolinecolor\":\"white\"}},\"shapedefaults\":{\"line\":{\"color\":\"#2a3f5f\"}},\"ternary\":{\"aaxis\":{\"gridcolor\":\"white\",\"linecolor\":\"white\",\"ticks\":\"\"},\"baxis\":{\"gridcolor\":\"white\",\"linecolor\":\"white\",\"ticks\":\"\"},\"bgcolor\":\"#E5ECF6\",\"caxis\":{\"gridcolor\":\"white\",\"linecolor\":\"white\",\"ticks\":\"\"}},\"title\":{\"x\":0.05},\"xaxis\":{\"automargin\":true,\"gridcolor\":\"white\",\"linecolor\":\"white\",\"ticks\":\"\",\"title\":{\"standoff\":15},\"zerolinecolor\":\"white\",\"zerolinewidth\":2},\"yaxis\":{\"automargin\":true,\"gridcolor\":\"white\",\"linecolor\":\"white\",\"ticks\":\"\",\"title\":{\"standoff\":15},\"zerolinecolor\":\"white\",\"zerolinewidth\":2}}},\"title\":{\"text\":\"Total Time Spent in Each Status for Epic SKY-550 Tickets\\u003cbr\\u003e\\u003csub\\u003eIncludes self-loops, excludes beginning (New, Backlog) and end (Done, Closed) statuses\\u003c\\u002fsub\\u003e\"},\"width\":1000,\"xaxis\":{\"categoryorder\":\"total descending\",\"title\":{\"text\":\"Status\"}},\"yaxis\":{\"dtick\":1,\"tick0\":0,\"title\":{\"text\":\"Total Days\"}}},                        {\"responsive\": true}                    ).then(function(){\n",
       "                            \n",
       "var gd = document.getElementById('df9c3a7b-34af-4a93-9ea4-66ea79ad19e1');\n",
       "var x = new MutationObserver(function (mutations, observer) {{\n",
       "        var display = window.getComputedStyle(gd).display;\n",
       "        if (!display || display === 'none') {{\n",
       "            console.log([gd, 'removed!']);\n",
       "            Plotly.purge(gd);\n",
       "            observer.disconnect();\n",
       "        }}\n",
       "}});\n",
       "\n",
       "// Listen for the removal of the full notebook cells\n",
       "var notebookContainer = gd.closest('#notebook-container');\n",
       "if (notebookContainer) {{\n",
       "    x.observe(notebookContainer, {childList: true});\n",
       "}}\n",
       "\n",
       "// Listen for the clearing of the current output cell\n",
       "var outputEl = gd.closest('.output');\n",
       "if (outputEl) {{\n",
       "    x.observe(outputEl, {childList: true});\n",
       "}}\n",
       "\n",
       "                        })                };            </script>        </div>"
      ]
     },
     "metadata": {},
     "output_type": "display_data"
    },
    {
     "name": "stdout",
     "output_type": "stream",
     "text": [
      "\n",
      "📊 Status Time Bar Chart Created: Total Time Spent in Each Status for Epic SKY-550 Tickets\n",
      "   • 2 active statuses analyzed\n",
      "   • 21 total days across all statuses (includes self-loops)\n",
      "   • 9 unique tickets\n",
      "   • Excludes: Backlog, Closed, Done, New\n",
      "   • Hover over bars to see ticket details\n",
      "\n",
      "📈 Top statuses by time spent:\n",
      "   1. In Progress: 12 days (7 entries)\n",
      "   2. Selected for Development: 9 days (4 entries)\n",
      "\n",
      "I have created a bar chart showing the total time spent in each status for the tickets in Epic SKY-550. This chart includes 2 statuses with a total of 21 days across all transitions.\n",
      "\n"
     ]
    },
    {
     "name": "stdin",
     "output_type": "stream",
     "text": [
      "You:  qiut\n"
     ]
    },
    {
     "name": "stdout",
     "output_type": "stream",
     "text": [
      "Agent: It seems like you want to quit. I'm here to help if you have any more JIRA ticket analysis or status flow visualization needs in the future. Goodbye!\n",
      "\n"
     ]
    },
    {
     "name": "stdin",
     "output_type": "stream",
     "text": [
      "You:  exit\n"
     ]
    },
    {
     "name": "stdout",
     "output_type": "stream",
     "text": [
      "👋 Goodbye!\n"
     ]
    }
   ],
   "source": [
    "await chat()"
   ]
  },
  {
   "cell_type": "code",
   "execution_count": 6,
   "id": "46265c3f-c47c-45ce-be58-60e46d09650b",
   "metadata": {},
   "outputs": [],
   "source": [
    "# Remove all MCP auth tokens. This forces re-authentication next time\n",
    "# !rm -rf ~/.mcp-auth"
   ]
  },
  {
   "cell_type": "code",
   "execution_count": 7,
   "id": "0d3d7867-11ce-495e-8f22-cee616bcf052",
   "metadata": {},
   "outputs": [],
   "source": [
    "# Remove all persistent MCP/Atlassian data\n",
    "# !rm -rf ~/.mcp* ~/.atlassian* ~/.config/mcp* ~/.config/atlassian* ~/.cache/mcp* ~/.cache/atlassian*"
   ]
  }
 ],
 "metadata": {
  "kernelspec": {
   "display_name": "Python 3.13 (venv)",
   "language": "python",
   "name": "jupyter-env"
  },
  "language_info": {
   "codemirror_mode": {
    "name": "ipython",
    "version": 3
   },
   "file_extension": ".py",
   "mimetype": "text/x-python",
   "name": "python",
   "nbconvert_exporter": "python",
   "pygments_lexer": "ipython3",
   "version": "3.13.2"
  }
 },
 "nbformat": 4,
 "nbformat_minor": 5
}
